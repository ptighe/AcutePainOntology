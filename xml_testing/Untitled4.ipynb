{
 "cells": [
  {
   "cell_type": "code",
   "execution_count": 1,
   "metadata": {
    "collapsed": false
   },
   "outputs": [
    {
     "data": {
      "text/plain": [
       "'/Users/ptighe/Documents/Python Projects/AcutePainOntology/xml_testing'"
      ]
     },
     "execution_count": 1,
     "metadata": {},
     "output_type": "execute_result"
    }
   ],
   "source": [
    "from lxml import objectify\n",
    "import pandas as pd\n",
    "import os\n",
    "os.getcwd()"
   ]
  },
  {
   "cell_type": "code",
   "execution_count": 16,
   "metadata": {
    "collapsed": false,
    "scrolled": true
   },
   "outputs": [
    {
     "data": {
      "text/plain": [
       "[<Element PubmedArticle at 0x10c824560>,\n",
       " <Element PubmedArticle at 0x10c6c1680>,\n",
       " <Element PubmedArticle at 0x10c6c1710>,\n",
       " <Element PubmedArticle at 0x10c6c1758>,\n",
       " <Element PubmedArticle at 0x10c6c17a0>,\n",
       " <Element PubmedArticle at 0x10c6c17e8>,\n",
       " <Element PubmedArticle at 0x10c6c1830>,\n",
       " <Element PubmedArticle at 0x10c6c1878>,\n",
       " <Element PubmedArticle at 0x10c6c18c0>,\n",
       " <Element PubmedArticle at 0x10c6c1908>,\n",
       " <Element PubmedArticle at 0x10c6c1950>,\n",
       " <Element PubmedArticle at 0x10c6c1998>,\n",
       " <Element PubmedArticle at 0x10c6c19e0>,\n",
       " <Element PubmedArticle at 0x10c6c1a28>,\n",
       " <Element PubmedArticle at 0x10c6c1a70>,\n",
       " <Element PubmedArticle at 0x10c6c1ab8>,\n",
       " <Element PubmedArticle at 0x10c6c1b00>,\n",
       " <Element PubmedArticle at 0x10c6c1b48>,\n",
       " <Element PubmedArticle at 0x10c6c1b90>,\n",
       " <Element PubmedArticle at 0x10c6c1bd8>,\n",
       " <Element PubmedArticle at 0x10c6c1c20>,\n",
       " <Element PubmedArticle at 0x10c6c1c68>,\n",
       " <Element PubmedArticle at 0x10c6c1cb0>,\n",
       " <Element PubmedArticle at 0x10c6c1cf8>,\n",
       " <Element PubmedArticle at 0x10c6c1d40>,\n",
       " <Element PubmedArticle at 0x10c6c1d88>,\n",
       " <Element PubmedArticle at 0x10c6c1dd0>,\n",
       " <Element PubmedArticle at 0x10c6c1e18>,\n",
       " <Element PubmedArticle at 0x10c6c1e60>,\n",
       " <Element PubmedArticle at 0x10c6c1ea8>,\n",
       " <Element PubmedArticle at 0x10c6c1ef0>,\n",
       " <Element PubmedArticle at 0x10c6c1f38>,\n",
       " <Element PubmedArticle at 0x10c6c1f80>,\n",
       " <Element PubmedArticle at 0x10c6c1fc8>,\n",
       " <Element PubmedArticle at 0x10c8053b0>,\n",
       " <Element PubmedArticle at 0x10c805170>,\n",
       " <Element PubmedArticle at 0x10c805050>,\n",
       " <Element PubmedArticle at 0x10c865b48>,\n",
       " <Element PubmedArticle at 0x10c865518>,\n",
       " <Element PubmedArticle at 0x10c865ab8>]"
      ]
     },
     "execution_count": 16,
     "metadata": {},
     "output_type": "execute_result"
    }
   ],
   "source": [
    "path='pubmed_result_tighe.xml'\n",
    "tree = objectify.parse(open(path))\n",
    "root = tree.getroot()\n",
    "parents = root.getchildren()\n",
    "parents"
   ]
  },
  {
   "cell_type": "code",
   "execution_count": null,
   "metadata": {
    "collapsed": false
   },
   "outputs": [],
   "source": []
  },
  {
   "cell_type": "code",
   "execution_count": null,
   "metadata": {
    "collapsed": false
   },
   "outputs": [],
   "source": [
    "for elem in tree.iter(tag='AbstractText'):\n",
    "    print (elem.text)"
   ]
  },
  {
   "cell_type": "code",
   "execution_count": null,
   "metadata": {
    "collapsed": false
   },
   "outputs": [],
   "source": [
    "# for elem in tree.iterfind('//Abstract/AbstractText'):\n",
    "#     print (elem.tag,elem.text)\n",
    "\n",
    "# for elem in tree.iterfind('//PMID'):\n",
    "#     print (elem.tag,elem.text)\n",
    "\n",
    "# for elem in tree.iterfind('//Article/ArticleTitle'):\n",
    "#     print (elem.tag,elem.text)\n",
    "\n",
    "# root.getchildren()[0].getchildren()\n",
    "#\n",
    "# for child in root.getchildren()[0].getiterator():\n",
    "#     print (child.tag)\n",
    "#\n",
    "# for child in root.getchildren()[0].getchildren()[1].getchildren():\n",
    "#     print (child.tag)\n",
    "\n",
    "# pmid = tree.xpath('//PMID')[1]\n",
    "\n",
    "# for i in range(0,3):\n",
    "#     print (tree.xpath('//PMID')[i])"
   ]
  },
  {
   "cell_type": "code",
   "execution_count": 11,
   "metadata": {
    "collapsed": true
   },
   "outputs": [],
   "source": [
    "df = pd.DataFrame(columns=('PMID','PubDateYear','PubDateMonth','JournalTitle',\n",
    "                           'JournalAbbrev','ArticleTitle','AbstractText'))\n",
    "\n",
    "dfsimple = pd.DataFrame(columns=('PMID','ArticleTitle','AbstractText'))"
   ]
  },
  {
   "cell_type": "code",
   "execution_count": 17,
   "metadata": {
    "collapsed": false
   },
   "outputs": [
    {
     "ename": "TypeError",
     "evalue": "list indices must be integers, not lxml.objectify.ObjectifiedElement",
     "output_type": "error",
     "traceback": [
      "\u001b[0;31m---------------------------------------------------------------------------\u001b[0m",
      "\u001b[0;31mTypeError\u001b[0m                                 Traceback (most recent call last)",
      "\u001b[0;32m<ipython-input-17-cc0ac16be634>\u001b[0m in \u001b[0;36m<module>\u001b[0;34m()\u001b[0m\n\u001b[1;32m      1\u001b[0m \u001b[0;32mfor\u001b[0m \u001b[0mi\u001b[0m \u001b[0;32min\u001b[0m \u001b[0mlist\u001b[0m\u001b[0;34m(\u001b[0m\u001b[0mparents\u001b[0m\u001b[0;34m)\u001b[0m\u001b[0;34m:\u001b[0m\u001b[0;34m\u001b[0m\u001b[0m\n\u001b[0;32m----> 2\u001b[0;31m     \u001b[0mdfsimple\u001b[0m\u001b[0;34m.\u001b[0m\u001b[0mloc\u001b[0m\u001b[0;34m[\u001b[0m\u001b[0mi\u001b[0m\u001b[0;34m,\u001b[0m\u001b[0;34m'PMID'\u001b[0m\u001b[0;34m]\u001b[0m\u001b[0;34m=\u001b[0m \u001b[0mtree\u001b[0m\u001b[0;34m.\u001b[0m\u001b[0mxpath\u001b[0m\u001b[0;34m(\u001b[0m\u001b[0;34m'//PMID/text()'\u001b[0m\u001b[0;34m)\u001b[0m\u001b[0;34m[\u001b[0m\u001b[0mi\u001b[0m\u001b[0;34m]\u001b[0m\u001b[0;34m\u001b[0m\u001b[0m\n\u001b[0m\u001b[1;32m      3\u001b[0m     \u001b[0mdfsimple\u001b[0m\u001b[0;34m.\u001b[0m\u001b[0mloc\u001b[0m\u001b[0;34m[\u001b[0m\u001b[0mi\u001b[0m\u001b[0;34m,\u001b[0m\u001b[0;34m'ArticleTitle'\u001b[0m\u001b[0;34m]\u001b[0m\u001b[0;34m=\u001b[0m\u001b[0mtree\u001b[0m\u001b[0;34m.\u001b[0m\u001b[0mxpath\u001b[0m\u001b[0;34m(\u001b[0m\u001b[0;34m'//Article/ArticleTitle/text()'\u001b[0m\u001b[0;34m)\u001b[0m\u001b[0;34m[\u001b[0m\u001b[0mi\u001b[0m\u001b[0;34m]\u001b[0m\u001b[0;34m\u001b[0m\u001b[0m\n\u001b[1;32m      4\u001b[0m \u001b[0;31m#     dfsimple.loc[i,'AbstractText']=tree.xpath()\u001b[0m\u001b[0;34m\u001b[0m\u001b[0;34m\u001b[0m\u001b[0m\n\u001b[1;32m      5\u001b[0m     \u001b[0;31m# dfsimple.loc[i,'AbstractText']=tree.xpath('//Abstract/AbstractText')[i]\u001b[0m\u001b[0;34m\u001b[0m\u001b[0;34m\u001b[0m\u001b[0m\n",
      "\u001b[0;31mTypeError\u001b[0m: list indices must be integers, not lxml.objectify.ObjectifiedElement"
     ]
    }
   ],
   "source": [
    "for i in range(len(parents)):\n",
    "    dfsimple.loc[i,'PMID']= tree.xpath('//PMID/text()')[i]\n",
    "    dfsimple.loc[i,'ArticleTitle']=tree.xpath('//Article/ArticleTitle/text()')[i]\n",
    "    dfsimple.loc[i,'AbstractText']=tree.xpath()\n",
    "    # dfsimple.loc[i,'AbstractText']=tree.xpath('//Abstract/AbstractText')[i]\n",
    "\n",
    "dfsimple[0:10]\n",
    "    # pm_id = tree.xpath('//PMID')[i]\n",
    "    # article_title = tree.xpath('//Article/ArticleTitle')[i]\n",
    "    # abstract_text = tree.xpath('//Abstract/AbstractText')[i]"
   ]
  },
  {
   "cell_type": "code",
   "execution_count": null,
   "metadata": {
    "collapsed": true
   },
   "outputs": [],
   "source": [
    "for i in tree.xpath('//PubmedArticle'):\n",
    "    pmid = i.xpath(\".//PMID\")[0]\n",
    "    journaltitle = i.xpath('.//Article/Journal/Title/text()')\n",
    "    articletitle = i.xpath(\".//Article/ArticleTitle/text()\")"
   ]
  },
  {
   "cell_type": "code",
   "execution_count": null,
   "metadata": {
    "collapsed": true
   },
   "outputs": [],
   "source": [
    "dfsimple[0:10]"
   ]
  },
  {
   "cell_type": "code",
   "execution_count": null,
   "metadata": {
    "collapsed": true
   },
   "outputs": [],
   "source": []
  }
 ],
 "metadata": {
  "kernelspec": {
   "display_name": "Python 2",
   "language": "python",
   "name": "python2"
  },
  "language_info": {
   "codemirror_mode": {
    "name": "ipython",
    "version": 2
   },
   "file_extension": ".py",
   "mimetype": "text/x-python",
   "name": "python",
   "nbconvert_exporter": "python",
   "pygments_lexer": "ipython2",
   "version": "2.7.11"
  }
 },
 "nbformat": 4,
 "nbformat_minor": 0
}
