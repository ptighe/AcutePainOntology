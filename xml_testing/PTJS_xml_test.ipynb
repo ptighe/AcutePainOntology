{
 "cells": [
  {
   "cell_type": "code",
   "execution_count": null,
   "metadata": {
    "collapsed": false
   },
   "outputs": [],
   "source": [
    "import sys\n",
    "reload(sys)\n",
    "sys.setdefaultencoding('utf-8')\n",
    "from lxml import objectify\n",
    "import pandas as pd\n",
    "import os"
   ]
  },
  {
   "cell_type": "code",
   "execution_count": null,
   "metadata": {
    "collapsed": false
   },
   "outputs": [],
   "source": [
    "os.getcwd()\n",
    "# os.chdir('xml_testing')"
   ]
  },
  {
   "cell_type": "code",
   "execution_count": null,
   "metadata": {
    "collapsed": true
   },
   "outputs": [],
   "source": [
    "path='pubmed_result_tighe.xml'\n",
    "tree = objectify.parse(open(path))"
   ]
  },
  {
   "cell_type": "code",
   "execution_count": null,
   "metadata": {
    "collapsed": true
   },
   "outputs": [],
   "source": [
    "def stateNcountry(affilation):    \n",
    "    state = []\n",
    "    country = []\n",
    "    city=[]\n",
    "    for i in affilation:\n",
    "        words = str(i).split(\" \")\n",
    "        if '@' in words[-1]:\n",
    "            words.pop()\n",
    "        if len(words) >= 2:\n",
    "            country.append(words.pop().rstrip('.').rstrip(',').rstrip(':').rstrip(';'))\n",
    "            state.append(words.pop().rstrip('.').rstrip(',').rstrip(':').rstrip(';'))\n",
    "            city.append(words.pop().rstrip('.').rstrip(',').rstrip(':').rstrip(';'))\n",
    "        if len(words) <2:\n",
    "            country.append('')\n",
    "            state.append('')\n",
    "            city.append('')\n",
    "    return city,state,country"
   ]
  },
  {
   "cell_type": "code",
   "execution_count": null,
   "metadata": {
    "collapsed": true
   },
   "outputs": [],
   "source": [
    "author_df = pd.DataFrame(columns=('PMID','LastName','FirstName','City','State', 'Country'))\n",
    "index = 0"
   ]
  },
  {
   "cell_type": "code",
   "execution_count": null,
   "metadata": {
    "collapsed": false
   },
   "outputs": [],
   "source": [
    "for i in tree.xpath('//PubmedArticle'):\n",
    "    pmid = i.xpath(\".//PMID\")[0]\n",
    "    lastname = i.xpath(\".//Author/LastName\")\n",
    "    lastname = [str(j) for j in lastname]\n",
    "    firstname = i.xpath(\".//Author/ForeName\")\n",
    "    firstname = [str(j) for j in firstname]\n",
    "    city, state, country = stateNcountry(i.xpath(\".//Affiliation\"))\n",
    "    author_tuples = zip(lastname, firstname, city, state, country)\n",
    "    author_list = [list(j) for j in author_tuples]\n",
    "    for j in author_list:\n",
    "        j.insert(0, int(pmid))\n",
    "        author_df.loc[index] = j\n",
    "        index += 1\n",
    "#     return author_df"
   ]
  },
  {
   "cell_type": "code",
   "execution_count": null,
   "metadata": {
    "collapsed": false,
    "scrolled": true
   },
   "outputs": [],
   "source": [
    "author_df[0:10]"
   ]
  },
  {
   "cell_type": "markdown",
   "metadata": {},
   "source": [
    "This is getting closer, but as you can see the state/country still doesn't always align. It may require some specific post-processing. I've tried to pull a 3rd element out in teh \n",
    "\n",
    "Moreover, there seems to be an issue with PMID 26247416 at index=7, where it appears to skip the rest of the authors. I think this is some of the same problems I'm having with trying to pull AbstractText when there are multiple children listed under Abstract, but only sometimes. I've tried to remedy"
   ]
  },
  {
   "cell_type": "code",
   "execution_count": null,
   "metadata": {
    "collapsed": false
   },
   "outputs": [],
   "source": [
    "del(article_df)"
   ]
  },
  {
   "cell_type": "code",
   "execution_count": null,
   "metadata": {
    "collapsed": true
   },
   "outputs": [],
   "source": [
    "article_df = pd.DataFrame(columns=('PMID','JournalTitle','ArticleTitle','AbstractText'))\n",
    "index = 0"
   ]
  },
  {
   "cell_type": "code",
   "execution_count": null,
   "metadata": {
    "collapsed": false
   },
   "outputs": [],
   "source": [
    "for i in tree.xpath('//PubmedArticle'):\n",
    "    pmid = i.xpath(\".//PMID\")[0]\n",
    "    journaltitle = i.xpath('.//Article/Journal/Title/text()')\n",
    "    articletitle = i.xpath(\".//Article/ArticleTitle/text()\")\n",
    "    abstracttext = i.xpath('.//Abstract/*')\n",
    "    abstracttext = [str(j) for j in abstracttext]\n",
    "    ab_tuples = zip(journaltitle, articletitle, abstracttext)\n",
    "    ab_list = [list(j) for j in ab_tuples]\n",
    "    for j in ab_list:\n",
    "        j.insert(0,int(pmid))\n",
    "        article_df.loc[index] = j\n",
    "        index += 1"
   ]
  },
  {
   "cell_type": "code",
   "execution_count": null,
   "metadata": {
    "collapsed": false
   },
   "outputs": [],
   "source": [
    "article_df.loc[1,'AbstractText']"
   ]
  },
  {
   "cell_type": "code",
   "execution_count": null,
   "metadata": {
    "collapsed": true
   },
   "outputs": [],
   "source": [
    "dfsimple = pd.DataFrame(columns=('PMID','JournalTitle','ArticleTitle','AbstractText'))"
   ]
  },
  {
   "cell_type": "code",
   "execution_count": null,
   "metadata": {
    "collapsed": true
   },
   "outputs": [],
   "source": [
    "for i in tree.xpath('//PubmedArticle'):\n",
    "    dfsimple.loc[i,'PMID'] = i.xpath(\".//PMID\")[0]\n",
    "#     dfsimple.loc[i, 'JournalTitle'] = i.xpath('.//Article/Journal/Title/text()')\n",
    "#     dfsimple.loc[i, 'ArticleTitle'] = i.xpath(\".//Article/ArticleTitle/text()\")\n",
    "#     abstracttext = i.xpath('.//Abstract/*')"
   ]
  },
  {
   "cell_type": "code",
   "execution_count": null,
   "metadata": {
    "collapsed": true
   },
   "outputs": [],
   "source": [
    "dfsimple"
   ]
  },
  {
   "cell_type": "code",
   "execution_count": null,
   "metadata": {
    "collapsed": true
   },
   "outputs": [],
   "source": []
  }
 ],
 "metadata": {
  "kernelspec": {
   "display_name": "Python 2",
   "language": "python",
   "name": "python2"
  },
  "language_info": {
   "codemirror_mode": {
    "name": "ipython",
    "version": 2
   },
   "file_extension": ".py",
   "mimetype": "text/x-python",
   "name": "python",
   "nbconvert_exporter": "python",
   "pygments_lexer": "ipython2",
   "version": "2.7.11"
  }
 },
 "nbformat": 4,
 "nbformat_minor": 0
}
