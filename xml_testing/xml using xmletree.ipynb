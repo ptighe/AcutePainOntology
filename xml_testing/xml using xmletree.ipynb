{
 "cells": [
  {
   "cell_type": "code",
   "execution_count": null,
   "metadata": {
    "collapsed": true
   },
   "outputs": [],
   "source": [
    "#https://github.com/dhimmel/plostime/blob/master/pubmed.ipynb"
   ]
  },
  {
   "cell_type": "code",
   "execution_count": 13,
   "metadata": {
    "collapsed": true
   },
   "outputs": [],
   "source": [
    "import itertools\n",
    "import time\n",
    "import gzip\n",
    "\n",
    "import xml.etree.ElementTree as ET\n",
    "import requests\n",
    "import pandas\n",
    "import numpy\n",
    "import os"
   ]
  },
  {
   "cell_type": "code",
   "execution_count": 14,
   "metadata": {
    "collapsed": false
   },
   "outputs": [
    {
     "data": {
      "text/plain": [
       "'/Users/ptighe/Documents/Python Projects/AcutePainOntology/xml_testing'"
      ]
     },
     "execution_count": 14,
     "metadata": {},
     "output_type": "execute_result"
    }
   ],
   "source": [
    "os.getcwd()"
   ]
  },
  {
   "cell_type": "code",
   "execution_count": 15,
   "metadata": {
    "collapsed": false
   },
   "outputs": [],
   "source": [
    "path='pubmed_result_tighe.xml'\n",
    "outputfile='pubmed_result_tighe.csv'"
   ]
  },
  {
   "cell_type": "code",
   "execution_count": 27,
   "metadata": {
    "collapsed": false
   },
   "outputs": [],
   "source": [
    "xml = ET.parse(path)\n",
    "elements = list()"
   ]
  },
  {
   "cell_type": "code",
   "execution_count": 30,
   "metadata": {
    "collapsed": false
   },
   "outputs": [
    {
     "data": {
      "text/plain": [
       "<Element 'PubmedArticleSet' at 0x10d5a3bd0>"
      ]
     },
     "execution_count": 30,
     "metadata": {},
     "output_type": "execute_result"
    }
   ],
   "source": [
    "root = xml.getroot()"
   ]
  },
  {
   "cell_type": "code",
   "execution_count": 31,
   "metadata": {
    "collapsed": false
   },
   "outputs": [
    {
     "name": "stderr",
     "output_type": "stream",
     "text": [
      "/Users/ptighe/anaconda/lib/python2.7/site-packages/ipykernel/__main__.py:1: DeprecationWarning: This method will be removed in future versions.  Use 'list(elem)' or iteration over elem instead.\n",
      "  if __name__ == '__main__':\n"
     ]
    }
   ],
   "source": [
    "parents=root.getchildren()"
   ]
  },
  {
   "cell_type": "code",
   "execution_count": 32,
   "metadata": {
    "collapsed": false
   },
   "outputs": [
    {
     "data": {
      "text/plain": [
       "[<Element 'PubmedArticle' at 0x10d5a3c50>,\n",
       " <Element 'PubmedArticle' at 0x10dc1dc10>,\n",
       " <Element 'PubmedArticle' at 0x10dc33910>,\n",
       " <Element 'PubmedArticle' at 0x10dbe0310>,\n",
       " <Element 'PubmedArticle' at 0x10dc74590>,\n",
       " <Element 'PubmedArticle' at 0x10dca9350>,\n",
       " <Element 'PubmedArticle' at 0x10dce0d90>,\n",
       " <Element 'PubmedArticle' at 0x10dd15550>,\n",
       " <Element 'PubmedArticle' at 0x10dd4ea10>,\n",
       " <Element 'PubmedArticle' at 0x10dd6cf10>,\n",
       " <Element 'PubmedArticle' at 0x10dd96810>,\n",
       " <Element 'PubmedArticle' at 0x10ddc0410>,\n",
       " <Element 'PubmedArticle' at 0x10ddc9e50>,\n",
       " <Element 'PubmedArticle' at 0x10ddf3a10>,\n",
       " <Element 'PubmedArticle' at 0x10de1cfd0>,\n",
       " <Element 'PubmedArticle' at 0x10de4de50>,\n",
       " <Element 'PubmedArticle' at 0x10de6ddd0>,\n",
       " <Element 'PubmedArticle' at 0x10de8e4d0>,\n",
       " <Element 'PubmedArticle' at 0x10dea3890>,\n",
       " <Element 'PubmedArticle' at 0x10decbbd0>,\n",
       " <Element 'PubmedArticle' at 0x10defaa10>,\n",
       " <Element 'PubmedArticle' at 0x10df1a310>,\n",
       " <Element 'PubmedArticle' at 0x10df3a8d0>,\n",
       " <Element 'PubmedArticle' at 0x10df5ac90>,\n",
       " <Element 'PubmedArticle' at 0x10df7ba50>,\n",
       " <Element 'PubmedArticle' at 0x10dfac390>,\n",
       " <Element 'PubmedArticle' at 0x10dfcdb90>,\n",
       " <Element 'PubmedArticle' at 0x10dfeec90>,\n",
       " <Element 'PubmedArticle' at 0x10e010690>,\n",
       " <Element 'PubmedArticle' at 0x10e02e7d0>,\n",
       " <Element 'PubmedArticle' at 0x10e06bbd0>,\n",
       " <Element 'PubmedArticle' at 0x10e08b410>,\n",
       " <Element 'PubmedArticle' at 0x10e0bd150>,\n",
       " <Element 'PubmedArticle' at 0x10e0c8ed0>,\n",
       " <Element 'PubmedArticle' at 0x10e0de850>,\n",
       " <Element 'PubmedArticle' at 0x10e100b90>,\n",
       " <Element 'PubmedArticle' at 0x10e1174d0>,\n",
       " <Element 'PubmedArticle' at 0x10e137ed0>,\n",
       " <Element 'PubmedArticle' at 0x10e164f10>,\n",
       " <Element 'PubmedArticle' at 0x10e183810>]"
      ]
     },
     "execution_count": 32,
     "metadata": {},
     "output_type": "execute_result"
    }
   ],
   "source": []
  },
  {
   "cell_type": "code",
   "execution_count": 34,
   "metadata": {
    "collapsed": true
   },
   "outputs": [],
   "source": [
    "def parse_doc_summary(elem):\n",
    "    doc = dict()\n",
    "    doc['pubmed_id'] = elem.findtext(\"Id\")\n",
    "    doc['pubdate'] = elem.findtext(\"Item[@Name='PubDate']\")\n",
    "    doc['epub_date'] = elem.findtext(\"Item[@Name='EPubDate']\")\n",
    "    doc['journal_abbrev'] = elem.findtext(\"Item[@Name='Source']\")\n",
    "    doc['date_received'] = elem.findtext(\"Item[@Name='History']/Item[@Name='received']\")\n",
    "    doc['date_accepted'] = elem.findtext(\"Item[@Name='History']/Item[@Name='accepted']\")\n",
    "    doc['date_epublish'] = elem.findtext(\"Item[@Name='History']/Item[@Name='epublish']\")\n",
    "    doc['date_pubmed'] = elem.findtext(\"Item[@Name='History']/Item[@Name='pubmed']\")\n",
    "    doc['date_medline'] = elem.findtext(\"Item[@Name='History']/Item[@Name='medline']\")\n",
    "    doc['doi'] = elem.findtext(\"Item[@Name='DOI']\")\n",
    "    doc['journal'] = elem.findtext(\"Item[@Name='FullJournalName']\")\n",
    "    doc['pubtype'] = '|'.join(x.text for x in elem.findall(\"Item[@Name='PubTypeList']/Item[@Name='PubType']\"))\n",
    "    return doc"
   ]
  },
  {
   "cell_type": "code",
   "execution_count": 35,
   "metadata": {
    "collapsed": false
   },
   "outputs": [
    {
     "data": {
      "text/html": [
       "<div>\n",
       "<table border=\"1\" class=\"dataframe\">\n",
       "  <thead>\n",
       "    <tr style=\"text-align: right;\">\n",
       "      <th></th>\n",
       "      <th>date_accepted</th>\n",
       "      <th>date_epublish</th>\n",
       "      <th>date_medline</th>\n",
       "      <th>date_pubmed</th>\n",
       "      <th>date_received</th>\n",
       "      <th>doi</th>\n",
       "      <th>epub_date</th>\n",
       "      <th>journal</th>\n",
       "      <th>journal_abbrev</th>\n",
       "      <th>pubdate</th>\n",
       "      <th>pubmed_id</th>\n",
       "      <th>pubtype</th>\n",
       "    </tr>\n",
       "  </thead>\n",
       "  <tbody>\n",
       "    <tr>\n",
       "      <th>0</th>\n",
       "      <td>None</td>\n",
       "      <td>None</td>\n",
       "      <td>None</td>\n",
       "      <td>None</td>\n",
       "      <td>None</td>\n",
       "      <td>None</td>\n",
       "      <td>None</td>\n",
       "      <td>None</td>\n",
       "      <td>None</td>\n",
       "      <td>None</td>\n",
       "      <td>None</td>\n",
       "      <td></td>\n",
       "    </tr>\n",
       "    <tr>\n",
       "      <th>1</th>\n",
       "      <td>None</td>\n",
       "      <td>None</td>\n",
       "      <td>None</td>\n",
       "      <td>None</td>\n",
       "      <td>None</td>\n",
       "      <td>None</td>\n",
       "      <td>None</td>\n",
       "      <td>None</td>\n",
       "      <td>None</td>\n",
       "      <td>None</td>\n",
       "      <td>None</td>\n",
       "      <td></td>\n",
       "    </tr>\n",
       "    <tr>\n",
       "      <th>2</th>\n",
       "      <td>None</td>\n",
       "      <td>None</td>\n",
       "      <td>None</td>\n",
       "      <td>None</td>\n",
       "      <td>None</td>\n",
       "      <td>None</td>\n",
       "      <td>None</td>\n",
       "      <td>None</td>\n",
       "      <td>None</td>\n",
       "      <td>None</td>\n",
       "      <td>None</td>\n",
       "      <td></td>\n",
       "    </tr>\n",
       "    <tr>\n",
       "      <th>3</th>\n",
       "      <td>None</td>\n",
       "      <td>None</td>\n",
       "      <td>None</td>\n",
       "      <td>None</td>\n",
       "      <td>None</td>\n",
       "      <td>None</td>\n",
       "      <td>None</td>\n",
       "      <td>None</td>\n",
       "      <td>None</td>\n",
       "      <td>None</td>\n",
       "      <td>None</td>\n",
       "      <td></td>\n",
       "    </tr>\n",
       "    <tr>\n",
       "      <th>4</th>\n",
       "      <td>None</td>\n",
       "      <td>None</td>\n",
       "      <td>None</td>\n",
       "      <td>None</td>\n",
       "      <td>None</td>\n",
       "      <td>None</td>\n",
       "      <td>None</td>\n",
       "      <td>None</td>\n",
       "      <td>None</td>\n",
       "      <td>None</td>\n",
       "      <td>None</td>\n",
       "      <td></td>\n",
       "    </tr>\n",
       "  </tbody>\n",
       "</table>\n",
       "</div>"
      ],
      "text/plain": [
       "  date_accepted date_epublish date_medline date_pubmed date_received   doi  \\\n",
       "0          None          None         None        None          None  None   \n",
       "1          None          None         None        None          None  None   \n",
       "2          None          None         None        None          None  None   \n",
       "3          None          None         None        None          None  None   \n",
       "4          None          None         None        None          None  None   \n",
       "\n",
       "  epub_date journal journal_abbrev pubdate pubmed_id pubtype  \n",
       "0      None    None           None    None      None          \n",
       "1      None    None           None    None      None          \n",
       "2      None    None           None    None      None          \n",
       "3      None    None           None    None      None          \n",
       "4      None    None           None    None      None          "
      ]
     },
     "execution_count": 35,
     "metadata": {},
     "output_type": "execute_result"
    }
   ],
   "source": [
    "docs = parents\n",
    "pubmed_df = pandas.DataFrame(list(map(parse_doc_summary, docs)))\n",
    "pubmed_df.head()"
   ]
  },
  {
   "cell_type": "code",
   "execution_count": null,
   "metadata": {
    "collapsed": true
   },
   "outputs": [],
   "source": []
  }
 ],
 "metadata": {
  "kernelspec": {
   "display_name": "Python 2",
   "language": "python",
   "name": "python2"
  },
  "language_info": {
   "codemirror_mode": {
    "name": "ipython",
    "version": 2
   },
   "file_extension": ".py",
   "mimetype": "text/x-python",
   "name": "python",
   "nbconvert_exporter": "python",
   "pygments_lexer": "ipython2",
   "version": "2.7.11"
  }
 },
 "nbformat": 4,
 "nbformat_minor": 0
}
