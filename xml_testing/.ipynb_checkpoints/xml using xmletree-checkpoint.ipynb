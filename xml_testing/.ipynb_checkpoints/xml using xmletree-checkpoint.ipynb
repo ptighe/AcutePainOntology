{
 "cells": [
  {
   "cell_type": "code",
   "execution_count": null,
   "metadata": {
    "collapsed": true
   },
   "outputs": [],
   "source": [
    "#https://github.com/dhimmel/plostime/blob/master/pubmed.ipynb"
   ]
  },
  {
   "cell_type": "code",
   "execution_count": 13,
   "metadata": {
    "collapsed": true
   },
   "outputs": [],
   "source": [
    "import itertools\n",
    "import time\n",
    "import gzip\n",
    "\n",
    "import xml.etree.ElementTree as ET\n",
    "import requests\n",
    "import pandas\n",
    "import numpy\n",
    "import os"
   ]
  },
  {
   "cell_type": "code",
   "execution_count": 14,
   "metadata": {
    "collapsed": false
   },
   "outputs": [
    {
     "data": {
      "text/plain": [
       "'/Users/ptighe/Documents/Python Projects/AcutePainOntology/xml_testing'"
      ]
     },
     "execution_count": 14,
     "metadata": {},
     "output_type": "execute_result"
    }
   ],
   "source": [
    "os.getcwd()"
   ]
  },
  {
   "cell_type": "code",
   "execution_count": 15,
   "metadata": {
    "collapsed": false
   },
   "outputs": [],
   "source": [
    "path='pubmed_result_tighe.xml'\n",
    "outputfile='pubmed_result_tighe.csv'"
   ]
  },
  {
   "cell_type": "code",
   "execution_count": 18,
   "metadata": {
    "collapsed": false
   },
   "outputs": [
    {
     "ename": "ParseError",
     "evalue": "syntax error: line 1, column 0",
     "output_type": "error",
     "traceback": [
      "\u001b[0;36m  File \u001b[0;32m\"<string>\"\u001b[0;36m, line \u001b[0;32munknown\u001b[0m\n\u001b[0;31mParseError\u001b[0m\u001b[0;31m:\u001b[0m syntax error: line 1, column 0\n"
     ]
    }
   ],
   "source": [
    "xml = ET.fromstring(path)"
   ]
  },
  {
   "cell_type": "code",
   "execution_count": 19,
   "metadata": {
    "collapsed": false
   },
   "outputs": [
    {
     "ename": "NameError",
     "evalue": "name 'elements' is not defined",
     "output_type": "error",
     "traceback": [
      "\u001b[0;31m---------------------------------------------------------------------------\u001b[0m",
      "\u001b[0;31mNameError\u001b[0m                                 Traceback (most recent call last)",
      "\u001b[0;32m<ipython-input-19-7b06d19b2863>\u001b[0m in \u001b[0;36m<module>\u001b[0;34m()\u001b[0m\n\u001b[0;32m----> 1\u001b[0;31m \u001b[0melements\u001b[0m \u001b[0;34m+=\u001b[0m \u001b[0mxml\u001b[0m\u001b[0;34m.\u001b[0m\u001b[0mgetchildren\u001b[0m\u001b[0;34m(\u001b[0m\u001b[0;34m)\u001b[0m\u001b[0;34m\u001b[0m\u001b[0m\n\u001b[0m",
      "\u001b[0;31mNameError\u001b[0m: name 'elements' is not defined"
     ]
    }
   ],
   "source": [
    "elements += xml.getchildren()"
   ]
  },
  {
   "cell_type": "code",
   "execution_count": null,
   "metadata": {
    "collapsed": true
   },
   "outputs": [],
   "source": []
  },
  {
   "cell_type": "code",
   "execution_count": null,
   "metadata": {
    "collapsed": true
   },
   "outputs": [],
   "source": [
    "def parse_doc_summary(elem):\n",
    "    doc = dict()\n",
    "    doc['pubmed_id'] = elem.findtext(\"Id\")\n",
    "    doc['pubdate'] = elem.findtext(\"Item[@Name='PubDate']\")\n",
    "    doc['epub_date'] = elem.findtext(\"Item[@Name='EPubDate']\")\n",
    "    doc['journal_abbrev'] = elem.findtext(\"Item[@Name='Source']\")\n",
    "    doc['date_received'] = elem.findtext(\"Item[@Name='History']/Item[@Name='received']\")\n",
    "    doc['date_accepted'] = elem.findtext(\"Item[@Name='History']/Item[@Name='accepted']\")\n",
    "    doc['date_epublish'] = elem.findtext(\"Item[@Name='History']/Item[@Name='epublish']\")\n",
    "    doc['date_pubmed'] = elem.findtext(\"Item[@Name='History']/Item[@Name='pubmed']\")\n",
    "    doc['date_medline'] = elem.findtext(\"Item[@Name='History']/Item[@Name='medline']\")\n",
    "    doc['doi'] = elem.findtext(\"Item[@Name='DOI']\")\n",
    "    doc['journal'] = elem.findtext(\"Item[@Name='FullJournalName']\")\n",
    "    doc['pubtype'] = '|'.join(x.text for x in elem.findall(\"Item[@Name='PubTypeList']/Item[@Name='PubType']\"))\n",
    "    return doc"
   ]
  },
  {
   "cell_type": "code",
   "execution_count": null,
   "metadata": {
    "collapsed": true
   },
   "outputs": [],
   "source": [
    "docs = elements\n",
    "pubmed_df = pandas.DataFrame(list(map(parse_doc_summary, docs)))\n",
    "pubmed_df.head()"
   ]
  }
 ],
 "metadata": {
  "kernelspec": {
   "display_name": "Python 2",
   "language": "python",
   "name": "python2"
  },
  "language_info": {
   "codemirror_mode": {
    "name": "ipython",
    "version": 2
   },
   "file_extension": ".py",
   "mimetype": "text/x-python",
   "name": "python",
   "nbconvert_exporter": "python",
   "pygments_lexer": "ipython2",
   "version": "2.7.11"
  }
 },
 "nbformat": 4,
 "nbformat_minor": 0
}
