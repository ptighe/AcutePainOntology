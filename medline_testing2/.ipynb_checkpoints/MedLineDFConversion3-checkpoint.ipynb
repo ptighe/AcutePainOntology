{
 "cells": [
  {
   "cell_type": "code",
   "execution_count": 35,
   "metadata": {
    "collapsed": true
   },
   "outputs": [],
   "source": [
    "#adapted from http://mlbernauer.com/R/20160131-document-retrieval-sklearn.html"
   ]
  },
  {
   "cell_type": "code",
   "execution_count": 1,
   "metadata": {
    "collapsed": false
   },
   "outputs": [],
   "source": [
    "import os\n",
    "import pandas as pd\n",
    "\n",
    "import sklearn\n",
    "from sklearn.feature_extraction.text import CountVectorizer\n",
    "from sklearn.feature_extraction.text import TfidfVectorizer\n",
    "from sklearn.metrics.pairwise import cosine_similarity\n",
    "\n",
    "from sklearn.cluster import KMeans\n",
    "from sklearn.externals import joblib\n",
    "\n",
    "import numpy as np\n",
    "\n",
    "%matplotlib inline\n",
    "import matplotlib.pyplot as plt\n",
    "\n",
    "import seaborn as sns\n",
    "\n",
    "import nltk\n",
    "import nltk.data\n",
    "from nltk.stem.snowball import SnowballStemmer\n",
    "from nltk.stem.wordnet import WordNetLemmatizer\n",
    "\n",
    "import re\n",
    "import string\n",
    "import time\n",
    "import codecs\n",
    "from Bio import Medline\n",
    "\n",
    "import gensim\n",
    "from gensim import corpora, models, similarities\n",
    "from collections import defaultdict"
   ]
  },
  {
   "cell_type": "code",
   "execution_count": 2,
   "metadata": {
    "collapsed": false
   },
   "outputs": [
    {
     "data": {
      "text/plain": [
       "'/Users/ptighe/Documents/Python Projects/AcutePainOntology/medline_testing'"
      ]
     },
     "execution_count": 2,
     "metadata": {},
     "output_type": "execute_result"
    }
   ],
   "source": [
    "os.getcwd()"
   ]
  },
  {
   "cell_type": "code",
   "execution_count": 3,
   "metadata": {
    "collapsed": true
   },
   "outputs": [],
   "source": [
    "path='pubmed_result_medline.txt'"
   ]
  },
  {
   "cell_type": "code",
   "execution_count": 4,
   "metadata": {
    "collapsed": true
   },
   "outputs": [],
   "source": [
    "#Taken directly from reference:"
   ]
  },
  {
   "cell_type": "code",
   "execution_count": 5,
   "metadata": {
    "collapsed": true
   },
   "outputs": [],
   "source": [
    "#Dictionary of medline terms: https://www.nlm.nih.gov/bsd/mms/medlineelements.html\n",
    "def read_medline_data(filename):\n",
    "    recs = Medline.parse(open(filename, 'r'))\n",
    "    text = pd.DataFrame(columns = [\"pmid\", \"articletitle\", \"journaltitle\", \"authors\", \"affiliation\", \"grant\",\n",
    "                                   \"abstract\", \"pubdate\"])\n",
    "    count = 0\n",
    "    for rec in recs:\n",
    "        try:\n",
    "            abstr = rec[\"AB\"]\n",
    "            atitle = rec[\"TI\"]\n",
    "            auths = rec[\"AU\"]\n",
    "            pubdate = rec[\"DP\"]\n",
    "            jtitle = rec[\"JT\"]\n",
    "            grant=rec[\"GR\"]\n",
    "            pmid = rec['PMID']\n",
    "            affil = rec['AD']\n",
    "            text = text.append(pd.DataFrame([[pmid,atitle, jtitle, auths, affil,grant, abstr,pubdate]],\n",
    "                                     columns=[\"pmid\", \"articletitle\", \"journaltitle\", \"authors\", \"affiliation\", \n",
    "                                              \"grant\", \"abstract\", \"pubdate\"]),ignore_index=True)            \n",
    "        except:\n",
    "            pass\n",
    "    return text"
   ]
  },
  {
   "cell_type": "code",
   "execution_count": 6,
   "metadata": {
    "collapsed": true
   },
   "outputs": [],
   "source": [
    "# Read in MEDLINE formatted text\n",
    "papers = read_medline_data(path)"
   ]
  },
  {
   "cell_type": "code",
   "execution_count": 7,
   "metadata": {
    "collapsed": false,
    "scrolled": false
   },
   "outputs": [
    {
     "data": {
      "text/plain": [
       "'BACKGROUND: Consensus indicates that a comprehensive,multimodal, holistic approach is foundational to the practice of acute pain medicine (APM),but lack of uniform, evidence-based clinical pathways leads to undesirable variability throughout U. S. healthcare systems. Acute pain studies are inconsistently synthesized to guide educational programs. Advanced practice techniques involving regional anesthesia assume the presence of a physician-led, multidisciplinary acute pain service,which is often unavailable or inconsistently applied.This heterogeneity of educational and organizational standards may result in unnecessary patient pain and escalation of healthcare costs. METHODS: A multidisciplinary panel was nominated through the APM Shared Interest Group of the American Academy of Pain Medicine. The panel met in Chicago, IL, in July 2014, to identify gaps and set priorities in APM research and education. RESULTS: The panel identified three areas of critical need: 1) an open-source acute pain data registry and clinical support tool to inform clinical decision making and resource allocation and to enhance research efforts; 2) a strong professional APM identity as an accredited subspecialty; and 3) educational goals targeted toward third-party payers,hospital administrators, and other key stake holders to convey the importance of APM. CONCLUSION: This report is the first step in a 3-year initiative aimed at creating conditions and incentives for the optimal provision of APM services to facilitate and enhance the quality of patient recovery after surgery, illness, or trauma. The ultimate goal is to reduce the conversion of acute pain to the debilitating disease of chronic pain.'"
      ]
     },
     "execution_count": 7,
     "metadata": {},
     "output_type": "execute_result"
    }
   ],
   "source": [
    "papers.loc[0,'abstract']"
   ]
  },
  {
   "cell_type": "code",
   "execution_count": 8,
   "metadata": {
    "collapsed": true
   },
   "outputs": [],
   "source": [
    "#Need to find a list of subheadings to remove?\n",
    "\n",
    "shp = re.compile(r'^[A-Z\\d]+$')\n",
    "\n",
    "subheadings =[u\"OBJECTIVES:\", u\"OBJECTIVE:\", u\"AIMS:\", u\"OBJECTIVE/BACKGROUND:\",\n",
    "              u\"METHODS AND RESULTS:\", u\"CONCLUSIONS:\", u\"RESULTS:\", u\"METHODS:\", u\"INTRODUCTION:\", u\"BACKGROUND:\"]"
   ]
  },
  {
   "cell_type": "code",
   "execution_count": 9,
   "metadata": {
    "collapsed": false
   },
   "outputs": [],
   "source": [
    "#Now some items for cleaning the abstract text\n",
    "from nltk.corpus import stopwords\n",
    "stoplist = stopwords.words('english')\n",
    "stoplist.extend(['\\x0c', '\\n'])\n",
    "subheadings =[u\"OBJECTIVES:\", u\"OBJECTIVE:\", u\"AIMS:\", u\"OBJECTIVE/BACKGROUND:\",\n",
    "              u\"METHODS AND RESULTS:\", u\"CONCLUSIONS:\", u\"RESULTS:\", u\"METHODS:\", u\"INTRODUCTION:\", u\"BACKGROUND:\"]"
   ]
  },
  {
   "cell_type": "code",
   "execution_count": 10,
   "metadata": {
    "collapsed": false
   },
   "outputs": [],
   "source": [
    "papers['split_abstract'] = papers['abstract'].str.split()\n",
    "papers['split_abstract'] = papers['split_abstract'].apply(lambda x: [item for item in x if item not in subheadings])\n",
    "papers['split_abstract'] = papers['split_abstract'].apply(lambda x: ' '.join(x).lower().split())\n",
    "papers['split_abstract'] = papers['split_abstract'].apply(lambda x: [item for item in x if item not in stoplist])"
   ]
  },
  {
   "cell_type": "code",
   "execution_count": 11,
   "metadata": {
    "collapsed": false,
    "scrolled": false
   },
   "outputs": [],
   "source": [
    "papers['cleaned_abstract']=papers['split_abstract'].apply(lambda x: ' '.join(x))\n",
    "papers['cleaned_abstract']=papers['cleaned_abstract'].str.replace(\"[^a-zA-Z]\",\" \").str.replace(\"\\s+\",\" \").str.strip()"
   ]
  },
  {
   "cell_type": "code",
   "execution_count": 12,
   "metadata": {
    "collapsed": false,
    "scrolled": false
   },
   "outputs": [
    {
     "data": {
      "text/plain": [
       "0     consensus indicates comprehensive multimodal h...\n",
       "1     older adults increased risk develop frequent p...\n",
       "2     prior work postoperative pain trajectories exa...\n",
       "3     given ability process highly dimensional datas...\n",
       "4     despite widespread popularity social media lit...\n",
       "5     objective study determine effects age sex type...\n",
       "6     prior work addressed sex differences incidence...\n",
       "7     although prior work investigated interplay dem...\n",
       "8     american academy pain medicine american societ...\n",
       "9     goal project explore association post anesthes...\n",
       "10    recent years field acute pain medicine apm wit...\n",
       "11    purpose project determine whether machine lear...\n",
       "12    although million patients united states underg...\n",
       "Name: cleaned_abstract, dtype: object"
      ]
     },
     "execution_count": 12,
     "metadata": {},
     "output_type": "execute_result"
    }
   ],
   "source": [
    "papers['cleaned_abstract']"
   ]
  },
  {
   "cell_type": "code",
   "execution_count": 13,
   "metadata": {
    "collapsed": false
   },
   "outputs": [],
   "source": [
    "papers['split_articletitle'] = papers['articletitle'].str.split()\n",
    "papers['split_articletitle'] = papers['split_articletitle'].apply(lambda x: ' '.join(x).lower().split())\n",
    "papers['split_articletitle'] = papers['split_articletitle'].apply(lambda x: [item for item in x if item not in stoplist])\n",
    "papers['cleaned_articletitle']=papers['split_articletitle'].apply(lambda x: ' '.join(x))\n",
    "papers['cleaned_articletitle']=papers['cleaned_articletitle'].str.replace(\"[^a-zA-Z]\",\" \").str.replace(\"\\s\\s+\",\" \")"
   ]
  },
  {
   "cell_type": "code",
   "execution_count": 14,
   "metadata": {
    "collapsed": false,
    "scrolled": true
   },
   "outputs": [
    {
     "data": {
      "text/plain": [
       "0      acute pain medicine united states status report \n",
       "1     age differences cytokine expression conditions...\n",
       "2     time onset sustained postoperative pain relief...\n",
       "3     teaching machine feel postoperative pain combi...\n",
       "4     painful tweet text sentiment community structu...\n",
       "5     clinically derived early postoperative pain tr...\n",
       "6     sex differences incidence severe pain events f...\n",
       "7     geospatial analysis hospital consumer assessme...\n",
       "8                   acute pain medicine anesthesiology \n",
       "9     rough starts smooth finishes correlations post...\n",
       "10              evolution practice acute pain medicine \n",
       "11    use machine learning classifiers predict reque...\n",
       "12    primary payer status associated use nerve bloc...\n",
       "Name: cleaned_articletitle, dtype: object"
      ]
     },
     "execution_count": 14,
     "metadata": {},
     "output_type": "execute_result"
    }
   ],
   "source": [
    "papers['cleaned_articletitle']"
   ]
  },
  {
   "cell_type": "code",
   "execution_count": 15,
   "metadata": {
    "collapsed": false
   },
   "outputs": [
    {
     "data": {
      "text/plain": [
       "0     [BACKGROUND, :, Consensus, indicates, that, a,...\n",
       "1     [Older, adults, are, at, an, increased, risk, ...\n",
       "2     [OBJECTIVES, :, Prior, work, on, postoperative...\n",
       "3     [BACKGROUND, :, Given, their, ability, to, pro...\n",
       "4     [BACKGROUND, :, Despite, the, widespread, popu...\n",
       "5     [The, objective, of, this, study, was, to, det...\n",
       "6     [OBJECTIVE/BACKGROUND, :, Prior, work, has, no...\n",
       "7     [Although, prior, work, has, investigated, the...\n",
       "8     [The, American, Academy, of, Pain, Medicine, a...\n",
       "9     [OBJECTIVE, :, The, goal, of, this, project, w...\n",
       "10    [BACKGROUND, :, In, recent, years, ,, the, fie...\n",
       "11    [OBJECTIVE, :, The, purpose, of, this, project...\n",
       "12    [INTRODUCTION, :, Although, more, than, 30, mi...\n",
       "Name: ra_tokens, dtype: object"
      ]
     },
     "execution_count": 15,
     "metadata": {},
     "output_type": "execute_result"
    }
   ],
   "source": [
    "papers['ca_tokens'] =papers['cleaned_abstract'].map(lambda text: nltk.tokenize.word_tokenize(text))\n",
    "papers['ra_tokens'] =papers['abstract'].map(lambda text: nltk.tokenize.word_tokenize(text))\n",
    "papers['ra_tokens']\n"
   ]
  },
  {
   "cell_type": "code",
   "execution_count": 16,
   "metadata": {
    "collapsed": false
   },
   "outputs": [
    {
     "data": {
      "text/plain": [
       "<matplotlib.axes._subplots.AxesSubplot at 0x11470d510>"
      ]
     },
     "execution_count": 16,
     "metadata": {},
     "output_type": "execute_result"
    },
    {
     "data": {
      "image/png": "[encoded data removed]",
      "text/plain": [
       "<matplotlib.figure.Figure at 0x1146adcd0>"
      ]
     },
     "metadata": {},
     "output_type": "display_data"
    }
   ],
   "source": [
    "#These give token counts\n",
    "papers['rabs_length'] =papers['ra_tokens'].map(lambda text: len(text))\n",
    "papers['cabs_length'] =papers['ca_tokens'].map(lambda text: len(text))\n",
    "papers.rabs_length.plot(bins=5, kind='hist', color='r')\n",
    "papers.cabs_length.plot(bins=5, kind='hist')"
   ]
  },
  {
   "cell_type": "code",
   "execution_count": 17,
   "metadata": {
    "collapsed": false
   },
   "outputs": [
    {
     "data": {
      "text/plain": [
       "0     137\n",
       "1      83\n",
       "2      88\n",
       "3      90\n",
       "4     101\n",
       "5      95\n",
       "6      96\n",
       "7      94\n",
       "8      68\n",
       "9      91\n",
       "10     83\n",
       "11    105\n",
       "12    109\n",
       "Name: cabs_u_length, dtype: int64"
      ]
     },
     "execution_count": 17,
     "metadata": {},
     "output_type": "execute_result"
    }
   ],
   "source": [
    "papers['cabs_u_length'] =papers['ca_tokens'].map(lambda text: len(set(text)))\n",
    "papers['cabs_u_length']"
   ]
  },
  {
   "cell_type": "code",
   "execution_count": 18,
   "metadata": {
    "collapsed": false
   },
   "outputs": [],
   "source": [
    "fd = papers['ca_tokens'].map(lambda text: nltk.FreqDist(text))\n"
   ]
  },
  {
   "cell_type": "markdown",
   "metadata": {},
   "source": [
    "## Identify the most common terms in the cleaned abstract using the ca_tdm\n"
   ]
  },
  {
   "cell_type": "code",
   "execution_count": 19,
   "metadata": {
    "collapsed": true
   },
   "outputs": [],
   "source": [
    "#Word counts and such using CountVectorizer from https://www.kaggle.com/c/word2vec-nlp-tutorial/details/part-1-for-beginners-bag-of-words\n",
    "\n",
    "cvec = CountVectorizer(analyzer = \"word\",   \\\n",
    "                             tokenizer = None,    \\\n",
    "                             preprocessor = None, \\\n",
    "                             stop_words = None,   \\\n",
    "                             max_features = 100000,\\\n",
    "                              ngram_range=(1,3)) "
   ]
  },
  {
   "cell_type": "code",
   "execution_count": 20,
   "metadata": {
    "collapsed": false
   },
   "outputs": [
    {
     "name": "stdout",
     "output_type": "stream",
     "text": [
      "('The nuts of bolts of the CountVectorizer is: ', CountVectorizer(analyzer='word', binary=False, decode_error=u'strict',\n",
      "        dtype=<type 'numpy.int64'>, encoding=u'utf-8', input=u'content',\n",
      "        lowercase=True, max_df=1.0, max_features=100000, min_df=1,\n",
      "        ngram_range=(1, 3), preprocessor=None, stop_words=None,\n",
      "        strip_accents=None, token_pattern=u'(?u)\\\\b\\\\w\\\\w+\\\\b',\n",
      "        tokenizer=None, vocabulary=None), '\\n')\n",
      "('The shape of the CountVectorizer array is:', (13, 4089), '\\n')\n"
     ]
    }
   ],
   "source": [
    "train_data_features = cvec.fit_transform(papers['cleaned_abstract'])\n",
    "train_data_features = train_data_features.toarray()\n",
    "print ('The nuts of bolts of the CountVectorizer is: ',cvec,'\\n')\n",
    "print ('The shape of the CountVectorizer array is:', train_data_features.shape,'\\n')"
   ]
  },
  {
   "cell_type": "code",
   "execution_count": 21,
   "metadata": {
    "collapsed": false
   },
   "outputs": [
    {
     "data": {
      "text/html": [
       "<div>\n",
       "<table border=\"1\" class=\"dataframe\">\n",
       "  <thead>\n",
       "    <tr style=\"text-align: right;\">\n",
       "      <th></th>\n",
       "      <th>ability</th>\n",
       "      <th>ability forecast</th>\n",
       "      <th>ability forecast moderate</th>\n",
       "      <th>ability inability</th>\n",
       "      <th>ability inability classify</th>\n",
       "      <th>ability process</th>\n",
       "      <th>ability process highly</th>\n",
       "      <th>absolute</th>\n",
       "      <th>absolute shrinkage</th>\n",
       "      <th>absolute shrinkage selection</th>\n",
       "      <th>...</th>\n",
       "      <th>yielded highest area</th>\n",
       "      <th>yielded odds</th>\n",
       "      <th>yielded odds ratio</th>\n",
       "      <th>younger</th>\n",
       "      <th>younger individuals</th>\n",
       "      <th>younger individuals study</th>\n",
       "      <th>younger older</th>\n",
       "      <th>younger older healthy</th>\n",
       "      <th>younger patients</th>\n",
       "      <th>younger patients pain</th>\n",
       "    </tr>\n",
       "  </thead>\n",
       "  <tbody>\n",
       "    <tr>\n",
       "      <th>0</th>\n",
       "      <td>0</td>\n",
       "      <td>0</td>\n",
       "      <td>0</td>\n",
       "      <td>0</td>\n",
       "      <td>0</td>\n",
       "      <td>0</td>\n",
       "      <td>0</td>\n",
       "      <td>0</td>\n",
       "      <td>0</td>\n",
       "      <td>0</td>\n",
       "      <td>...</td>\n",
       "      <td>0</td>\n",
       "      <td>0</td>\n",
       "      <td>0</td>\n",
       "      <td>0</td>\n",
       "      <td>0</td>\n",
       "      <td>0</td>\n",
       "      <td>0</td>\n",
       "      <td>0</td>\n",
       "      <td>0</td>\n",
       "      <td>0</td>\n",
       "    </tr>\n",
       "    <tr>\n",
       "      <th>1</th>\n",
       "      <td>0</td>\n",
       "      <td>0</td>\n",
       "      <td>0</td>\n",
       "      <td>0</td>\n",
       "      <td>0</td>\n",
       "      <td>0</td>\n",
       "      <td>0</td>\n",
       "      <td>0</td>\n",
       "      <td>0</td>\n",
       "      <td>0</td>\n",
       "      <td>...</td>\n",
       "      <td>0</td>\n",
       "      <td>0</td>\n",
       "      <td>0</td>\n",
       "      <td>2</td>\n",
       "      <td>1</td>\n",
       "      <td>1</td>\n",
       "      <td>1</td>\n",
       "      <td>1</td>\n",
       "      <td>0</td>\n",
       "      <td>0</td>\n",
       "    </tr>\n",
       "    <tr>\n",
       "      <th>2</th>\n",
       "      <td>0</td>\n",
       "      <td>0</td>\n",
       "      <td>0</td>\n",
       "      <td>0</td>\n",
       "      <td>0</td>\n",
       "      <td>0</td>\n",
       "      <td>0</td>\n",
       "      <td>0</td>\n",
       "      <td>0</td>\n",
       "      <td>0</td>\n",
       "      <td>...</td>\n",
       "      <td>0</td>\n",
       "      <td>0</td>\n",
       "      <td>0</td>\n",
       "      <td>0</td>\n",
       "      <td>0</td>\n",
       "      <td>0</td>\n",
       "      <td>0</td>\n",
       "      <td>0</td>\n",
       "      <td>0</td>\n",
       "      <td>0</td>\n",
       "    </tr>\n",
       "    <tr>\n",
       "      <th>3</th>\n",
       "      <td>2</td>\n",
       "      <td>1</td>\n",
       "      <td>1</td>\n",
       "      <td>0</td>\n",
       "      <td>0</td>\n",
       "      <td>1</td>\n",
       "      <td>1</td>\n",
       "      <td>1</td>\n",
       "      <td>1</td>\n",
       "      <td>1</td>\n",
       "      <td>...</td>\n",
       "      <td>0</td>\n",
       "      <td>0</td>\n",
       "      <td>0</td>\n",
       "      <td>0</td>\n",
       "      <td>0</td>\n",
       "      <td>0</td>\n",
       "      <td>0</td>\n",
       "      <td>0</td>\n",
       "      <td>0</td>\n",
       "      <td>0</td>\n",
       "    </tr>\n",
       "    <tr>\n",
       "      <th>4</th>\n",
       "      <td>0</td>\n",
       "      <td>0</td>\n",
       "      <td>0</td>\n",
       "      <td>0</td>\n",
       "      <td>0</td>\n",
       "      <td>0</td>\n",
       "      <td>0</td>\n",
       "      <td>0</td>\n",
       "      <td>0</td>\n",
       "      <td>0</td>\n",
       "      <td>...</td>\n",
       "      <td>0</td>\n",
       "      <td>0</td>\n",
       "      <td>0</td>\n",
       "      <td>0</td>\n",
       "      <td>0</td>\n",
       "      <td>0</td>\n",
       "      <td>0</td>\n",
       "      <td>0</td>\n",
       "      <td>0</td>\n",
       "      <td>0</td>\n",
       "    </tr>\n",
       "    <tr>\n",
       "      <th>5</th>\n",
       "      <td>0</td>\n",
       "      <td>0</td>\n",
       "      <td>0</td>\n",
       "      <td>0</td>\n",
       "      <td>0</td>\n",
       "      <td>0</td>\n",
       "      <td>0</td>\n",
       "      <td>0</td>\n",
       "      <td>0</td>\n",
       "      <td>0</td>\n",
       "      <td>...</td>\n",
       "      <td>0</td>\n",
       "      <td>0</td>\n",
       "      <td>0</td>\n",
       "      <td>1</td>\n",
       "      <td>0</td>\n",
       "      <td>0</td>\n",
       "      <td>0</td>\n",
       "      <td>0</td>\n",
       "      <td>1</td>\n",
       "      <td>1</td>\n",
       "    </tr>\n",
       "    <tr>\n",
       "      <th>6</th>\n",
       "      <td>0</td>\n",
       "      <td>0</td>\n",
       "      <td>0</td>\n",
       "      <td>0</td>\n",
       "      <td>0</td>\n",
       "      <td>0</td>\n",
       "      <td>0</td>\n",
       "      <td>0</td>\n",
       "      <td>0</td>\n",
       "      <td>0</td>\n",
       "      <td>...</td>\n",
       "      <td>0</td>\n",
       "      <td>1</td>\n",
       "      <td>1</td>\n",
       "      <td>0</td>\n",
       "      <td>0</td>\n",
       "      <td>0</td>\n",
       "      <td>0</td>\n",
       "      <td>0</td>\n",
       "      <td>0</td>\n",
       "      <td>0</td>\n",
       "    </tr>\n",
       "    <tr>\n",
       "      <th>7</th>\n",
       "      <td>0</td>\n",
       "      <td>0</td>\n",
       "      <td>0</td>\n",
       "      <td>0</td>\n",
       "      <td>0</td>\n",
       "      <td>0</td>\n",
       "      <td>0</td>\n",
       "      <td>0</td>\n",
       "      <td>0</td>\n",
       "      <td>0</td>\n",
       "      <td>...</td>\n",
       "      <td>0</td>\n",
       "      <td>0</td>\n",
       "      <td>0</td>\n",
       "      <td>0</td>\n",
       "      <td>0</td>\n",
       "      <td>0</td>\n",
       "      <td>0</td>\n",
       "      <td>0</td>\n",
       "      <td>0</td>\n",
       "      <td>0</td>\n",
       "    </tr>\n",
       "    <tr>\n",
       "      <th>8</th>\n",
       "      <td>0</td>\n",
       "      <td>0</td>\n",
       "      <td>0</td>\n",
       "      <td>0</td>\n",
       "      <td>0</td>\n",
       "      <td>0</td>\n",
       "      <td>0</td>\n",
       "      <td>0</td>\n",
       "      <td>0</td>\n",
       "      <td>0</td>\n",
       "      <td>...</td>\n",
       "      <td>0</td>\n",
       "      <td>0</td>\n",
       "      <td>0</td>\n",
       "      <td>0</td>\n",
       "      <td>0</td>\n",
       "      <td>0</td>\n",
       "      <td>0</td>\n",
       "      <td>0</td>\n",
       "      <td>0</td>\n",
       "      <td>0</td>\n",
       "    </tr>\n",
       "    <tr>\n",
       "      <th>9</th>\n",
       "      <td>0</td>\n",
       "      <td>0</td>\n",
       "      <td>0</td>\n",
       "      <td>0</td>\n",
       "      <td>0</td>\n",
       "      <td>0</td>\n",
       "      <td>0</td>\n",
       "      <td>0</td>\n",
       "      <td>0</td>\n",
       "      <td>0</td>\n",
       "      <td>...</td>\n",
       "      <td>0</td>\n",
       "      <td>0</td>\n",
       "      <td>0</td>\n",
       "      <td>0</td>\n",
       "      <td>0</td>\n",
       "      <td>0</td>\n",
       "      <td>0</td>\n",
       "      <td>0</td>\n",
       "      <td>0</td>\n",
       "      <td>0</td>\n",
       "    </tr>\n",
       "    <tr>\n",
       "      <th>10</th>\n",
       "      <td>0</td>\n",
       "      <td>0</td>\n",
       "      <td>0</td>\n",
       "      <td>0</td>\n",
       "      <td>0</td>\n",
       "      <td>0</td>\n",
       "      <td>0</td>\n",
       "      <td>0</td>\n",
       "      <td>0</td>\n",
       "      <td>0</td>\n",
       "      <td>...</td>\n",
       "      <td>0</td>\n",
       "      <td>0</td>\n",
       "      <td>0</td>\n",
       "      <td>0</td>\n",
       "      <td>0</td>\n",
       "      <td>0</td>\n",
       "      <td>0</td>\n",
       "      <td>0</td>\n",
       "      <td>0</td>\n",
       "      <td>0</td>\n",
       "    </tr>\n",
       "    <tr>\n",
       "      <th>11</th>\n",
       "      <td>1</td>\n",
       "      <td>0</td>\n",
       "      <td>0</td>\n",
       "      <td>1</td>\n",
       "      <td>1</td>\n",
       "      <td>0</td>\n",
       "      <td>0</td>\n",
       "      <td>0</td>\n",
       "      <td>0</td>\n",
       "      <td>0</td>\n",
       "      <td>...</td>\n",
       "      <td>1</td>\n",
       "      <td>0</td>\n",
       "      <td>0</td>\n",
       "      <td>0</td>\n",
       "      <td>0</td>\n",
       "      <td>0</td>\n",
       "      <td>0</td>\n",
       "      <td>0</td>\n",
       "      <td>0</td>\n",
       "      <td>0</td>\n",
       "    </tr>\n",
       "    <tr>\n",
       "      <th>12</th>\n",
       "      <td>0</td>\n",
       "      <td>0</td>\n",
       "      <td>0</td>\n",
       "      <td>0</td>\n",
       "      <td>0</td>\n",
       "      <td>0</td>\n",
       "      <td>0</td>\n",
       "      <td>0</td>\n",
       "      <td>0</td>\n",
       "      <td>0</td>\n",
       "      <td>...</td>\n",
       "      <td>0</td>\n",
       "      <td>0</td>\n",
       "      <td>0</td>\n",
       "      <td>0</td>\n",
       "      <td>0</td>\n",
       "      <td>0</td>\n",
       "      <td>0</td>\n",
       "      <td>0</td>\n",
       "      <td>0</td>\n",
       "      <td>0</td>\n",
       "    </tr>\n",
       "  </tbody>\n",
       "</table>\n",
       "<p>13 rows × 4089 columns</p>\n",
       "</div>"
      ],
      "text/plain": [
       "    ability  ability forecast  ability forecast moderate  ability inability  \\\n",
       "0         0                 0                          0                  0   \n",
       "1         0                 0                          0                  0   \n",
       "2         0                 0                          0                  0   \n",
       "3         2                 1                          1                  0   \n",
       "4         0                 0                          0                  0   \n",
       "5         0                 0                          0                  0   \n",
       "6         0                 0                          0                  0   \n",
       "7         0                 0                          0                  0   \n",
       "8         0                 0                          0                  0   \n",
       "9         0                 0                          0                  0   \n",
       "10        0                 0                          0                  0   \n",
       "11        1                 0                          0                  1   \n",
       "12        0                 0                          0                  0   \n",
       "\n",
       "    ability inability classify  ability process  ability process highly  \\\n",
       "0                            0                0                       0   \n",
       "1                            0                0                       0   \n",
       "2                            0                0                       0   \n",
       "3                            0                1                       1   \n",
       "4                            0                0                       0   \n",
       "5                            0                0                       0   \n",
       "6                            0                0                       0   \n",
       "7                            0                0                       0   \n",
       "8                            0                0                       0   \n",
       "9                            0                0                       0   \n",
       "10                           0                0                       0   \n",
       "11                           1                0                       0   \n",
       "12                           0                0                       0   \n",
       "\n",
       "    absolute  absolute shrinkage  absolute shrinkage selection  \\\n",
       "0          0                   0                             0   \n",
       "1          0                   0                             0   \n",
       "2          0                   0                             0   \n",
       "3          1                   1                             1   \n",
       "4          0                   0                             0   \n",
       "5          0                   0                             0   \n",
       "6          0                   0                             0   \n",
       "7          0                   0                             0   \n",
       "8          0                   0                             0   \n",
       "9          0                   0                             0   \n",
       "10         0                   0                             0   \n",
       "11         0                   0                             0   \n",
       "12         0                   0                             0   \n",
       "\n",
       "            ...            yielded highest area  yielded odds  \\\n",
       "0           ...                               0             0   \n",
       "1           ...                               0             0   \n",
       "2           ...                               0             0   \n",
       "3           ...                               0             0   \n",
       "4           ...                               0             0   \n",
       "5           ...                               0             0   \n",
       "6           ...                               0             1   \n",
       "7           ...                               0             0   \n",
       "8           ...                               0             0   \n",
       "9           ...                               0             0   \n",
       "10          ...                               0             0   \n",
       "11          ...                               1             0   \n",
       "12          ...                               0             0   \n",
       "\n",
       "    yielded odds ratio  younger  younger individuals  \\\n",
       "0                    0        0                    0   \n",
       "1                    0        2                    1   \n",
       "2                    0        0                    0   \n",
       "3                    0        0                    0   \n",
       "4                    0        0                    0   \n",
       "5                    0        1                    0   \n",
       "6                    1        0                    0   \n",
       "7                    0        0                    0   \n",
       "8                    0        0                    0   \n",
       "9                    0        0                    0   \n",
       "10                   0        0                    0   \n",
       "11                   0        0                    0   \n",
       "12                   0        0                    0   \n",
       "\n",
       "    younger individuals study  younger older  younger older healthy  \\\n",
       "0                           0              0                      0   \n",
       "1                           1              1                      1   \n",
       "2                           0              0                      0   \n",
       "3                           0              0                      0   \n",
       "4                           0              0                      0   \n",
       "5                           0              0                      0   \n",
       "6                           0              0                      0   \n",
       "7                           0              0                      0   \n",
       "8                           0              0                      0   \n",
       "9                           0              0                      0   \n",
       "10                          0              0                      0   \n",
       "11                          0              0                      0   \n",
       "12                          0              0                      0   \n",
       "\n",
       "    younger patients  younger patients pain  \n",
       "0                  0                      0  \n",
       "1                  0                      0  \n",
       "2                  0                      0  \n",
       "3                  0                      0  \n",
       "4                  0                      0  \n",
       "5                  1                      1  \n",
       "6                  0                      0  \n",
       "7                  0                      0  \n",
       "8                  0                      0  \n",
       "9                  0                      0  \n",
       "10                 0                      0  \n",
       "11                 0                      0  \n",
       "12                 0                      0  \n",
       "\n",
       "[13 rows x 4089 columns]"
      ]
     },
     "execution_count": 21,
     "metadata": {},
     "output_type": "execute_result"
    }
   ],
   "source": [
    "ca_tdm = pd.DataFrame(cvec.fit_transform(papers.cleaned_abstract).toarray(),columns=cvec.get_feature_names())\n",
    "ca_tdm"
   ]
  },
  {
   "cell_type": "code",
   "execution_count": 22,
   "metadata": {
    "collapsed": false,
    "scrolled": false
   },
   "outputs": [
    {
     "data": {
      "text/plain": [
       "0            pain\n",
       "1              il\n",
       "2           suppr\n",
       "3            pain\n",
       "4            pain\n",
       "5            pain\n",
       "6            pain\n",
       "7       hospitals\n",
       "8            pain\n",
       "9            pain\n",
       "10           pain\n",
       "11    classifiers\n",
       "12          nerve\n",
       "dtype: object"
      ]
     },
     "execution_count": 22,
     "metadata": {},
     "output_type": "execute_result"
    }
   ],
   "source": [
    "#Identify the most common terms for each document via CountVectorizer\n",
    "ca_tdm.idxmax(axis=1) #change to axis=0 will change the document wigh highest countb of each word"
   ]
  },
  {
   "cell_type": "markdown",
   "metadata": {},
   "source": [
    "## Plot the most common terms in the cleaned abstract"
   ]
  },
  {
   "cell_type": "code",
   "execution_count": 23,
   "metadata": {
    "collapsed": false,
    "scrolled": true
   },
   "outputs": [
    {
     "name": "stdout",
     "output_type": "stream",
     "text": [
      "('Here is a list of the most common terms across all documents: ', '\\n', pain                           91\n",
      "scores                         28\n",
      "surgery                        25\n",
      "patients                       23\n",
      "pain scores                    21\n",
      "suppr                          20\n",
      "acute                          19\n",
      "postoperative                  18\n",
      "acute pain                     17\n",
      "using                          15\n",
      "time                           15\n",
      "surgical                       14\n",
      "postoperative pain             13\n",
      "study                          13\n",
      "ci                             12\n",
      "apm                            12\n",
      "data                           11\n",
      "clinical                       10\n",
      "nerve                          10\n",
      "block                           9\n",
      "machine                         9\n",
      "classifiers                     9\n",
      "median                          9\n",
      "hour                            9\n",
      "nerve block                     9\n",
      "pain score                      8\n",
      "well                            8\n",
      "machine learning                8\n",
      "related                         8\n",
      "score                           8\n",
      "                               ..\n",
      "placement ambulatory            1\n",
      "pod differed                    1\n",
      "points numerical rating         1\n",
      "pod differed sex                1\n",
      "points numerical                1\n",
      "points lower reported           1\n",
      "points lower                    1\n",
      "points included differences     1\n",
      "points included                 1\n",
      "points groups greater           1\n",
      "points groups                   1\n",
      "pods total pain                 1\n",
      "pods total                      1\n",
      "pods significantly lower        1\n",
      "pods significantly              1\n",
      "pods ranged correlation         1\n",
      "pods ranged                     1\n",
      "pods obtained integrated        1\n",
      "pods obtained                   1\n",
      "pods median pain                1\n",
      "pods median                     1\n",
      "pods design study               1\n",
      "pods design                     1\n",
      "pod variety surgical            1\n",
      "pod variety                     1\n",
      "pod machine learning            1\n",
      "pod machine                     1\n",
      "pod estimates odds              1\n",
      "pod estimates                   1\n",
      "multidisciplinary panel         1\n",
      "dtype: int64)\n"
     ]
    },
    {
     "data": {
      "text/plain": [
       "<matplotlib.axes._subplots.AxesSubplot at 0x115370510>"
      ]
     },
     "execution_count": 23,
     "metadata": {},
     "output_type": "execute_result"
    },
    {
     "data": {
      "image/png": "[encoded data removed]",
      "text/plain": [
       "<matplotlib.figure.Figure at 0x115343dd0>"
      ]
     },
     "metadata": {},
     "output_type": "display_data"
    }
   ],
   "source": [
    "#Identify and visualize the most common terms across all documents\n",
    "s=ca_tdm.sum().sort_values(ascending=False)\n",
    "print('Here is a list of the most common terms across all documents: ','\\n',s)\n",
    "s.plot(kind='bar')"
   ]
  },
  {
   "cell_type": "code",
   "execution_count": 24,
   "metadata": {
    "collapsed": false
   },
   "outputs": [
    {
     "data": {
      "text/plain": [
       "<matplotlib.axes._subplots.AxesSubplot at 0x1156fa9d0>"
      ]
     },
     "execution_count": 24,
     "metadata": {},
     "output_type": "execute_result"
    },
    {
     "data": {
      "image/png": "[encoded data removed]",
      "text/plain": [
       "<matplotlib.figure.Figure at 0x11568fa90>"
      ]
     },
     "metadata": {},
     "output_type": "display_data"
    }
   ],
   "source": [
    "s.plot(kind='hist', bins=100)"
   ]
  },
  {
   "cell_type": "code",
   "execution_count": 25,
   "metadata": {
    "collapsed": false
   },
   "outputs": [
    {
     "data": {
      "text/plain": [
       "<matplotlib.axes._subplots.AxesSubplot at 0x115370950>"
      ]
     },
     "execution_count": 25,
     "metadata": {},
     "output_type": "execute_result"
    },
    {
     "data": {
      "image/png": "[encoded data removed]",
      "text/plain": [
       "<matplotlib.figure.Figure at 0x117f65c50>"
      ]
     },
     "metadata": {},
     "output_type": "display_data"
    }
   ],
   "source": [
    "s[0:20].plot(kind='bar', color='r')"
   ]
  },
  {
   "cell_type": "markdown",
   "metadata": {},
   "source": [
    "### Create TF-IDF for Abstracts"
   ]
  },
  {
   "cell_type": "code",
   "execution_count": 26,
   "metadata": {
    "collapsed": false
   },
   "outputs": [],
   "source": [
    "tvec = TfidfVectorizer(analyzer='word',\n",
    "#                         max_df = 1, min_df=1,\n",
    "                        max_features=100000,\n",
    "#                       stopwords='none',\n",
    "                        use_idf=True,\n",
    "                        ngram_range=(1,3))"
   ]
  },
  {
   "cell_type": "code",
   "execution_count": 27,
   "metadata": {
    "collapsed": false
   },
   "outputs": [
    {
     "name": "stdout",
     "output_type": "stream",
     "text": [
      "CPU times: user 16.8 ms, sys: 3.79 ms, total: 20.6 ms\n",
      "Wall time: 18.2 ms\n",
      "('Shape of Cleaned Abstract TF-IDF Matrix: ', (13, 4089))\n"
     ]
    }
   ],
   "source": [
    "%time ca_tfidfm = tvec.fit_transform(papers['cleaned_abstract'])\n",
    "print ('Shape of Cleaned Abstract TF-IDF Matrix: ',ca_tfidfm.shape)"
   ]
  },
  {
   "cell_type": "code",
   "execution_count": 28,
   "metadata": {
    "collapsed": false,
    "scrolled": false
   },
   "outputs": [
    {
     "data": {
      "text/plain": [
       "[u'ability',\n",
       " u'ability forecast',\n",
       " u'ability forecast moderate',\n",
       " u'ability inability',\n",
       " u'ability inability classify',\n",
       " u'ability process',\n",
       " u'ability process highly',\n",
       " u'absolute',\n",
       " u'absolute shrinkage']"
      ]
     },
     "execution_count": 28,
     "metadata": {},
     "output_type": "execute_result"
    }
   ],
   "source": [
    "terms = tvec.get_feature_names()\n",
    "terms[0:9]"
   ]
  },
  {
   "cell_type": "code",
   "execution_count": 29,
   "metadata": {
    "collapsed": false,
    "scrolled": true
   },
   "outputs": [
    {
     "name": "stdout",
     "output_type": "stream",
     "text": [
      "Axes(0.125,0.125;0.62x0.775)\n",
      "[[ 1.          0.0265297   0.02298372  0.02423025  0.01912895  0.03403391\n",
      "   0.0328558   0.03008152  0.14475193  0.02869678  0.13623416  0.01349563\n",
      "   0.01518547]\n",
      " [ 0.0265297   1.          0.01904787  0.01700696  0.03268991  0.03353664\n",
      "   0.03203415  0.01470781  0.02490685  0.0309471   0.03134195  0.00860257\n",
      "   0.0040372 ]\n",
      " [ 0.02298372  0.01904787  1.          0.03579251  0.03000482  0.10244059\n",
      "   0.06875525  0.02700226  0.02435316  0.07698471  0.01865076  0.01618202\n",
      "   0.02720812]\n",
      " [ 0.02423025  0.01700696  0.03579251  1.          0.0235547   0.06001014\n",
      "   0.08962613  0.02289133  0.0228021   0.02912173  0.01884779  0.10411003\n",
      "   0.00790088]\n",
      " [ 0.01912895  0.03268991  0.03000482  0.0235547   1.          0.02907373\n",
      "   0.03562351  0.03967194  0.02961325  0.04027147  0.04239958  0.00610489\n",
      "   0.00899187]\n",
      " [ 0.03403391  0.03353664  0.10244059  0.06001014  0.02907373  1.\n",
      "   0.14108849  0.02885941  0.0280134   0.10622748  0.02677072  0.03223292\n",
      "   0.07426625]\n",
      " [ 0.0328558   0.03203415  0.06875525  0.08962613  0.03562351  0.14108849\n",
      "   1.          0.04684868  0.03543355  0.16699343  0.02751789  0.02451896\n",
      "   0.0497293 ]\n",
      " [ 0.03008152  0.01470781  0.02700226  0.02289133  0.03967194  0.02885941\n",
      "   0.04684868  1.          0.03686414  0.05280905  0.0157524   0.00669913\n",
      "   0.03221461]\n",
      " [ 0.14475193  0.02490685  0.02435316  0.0228021   0.02961325  0.0280134\n",
      "   0.03543355  0.03686414  1.          0.04147649  0.18609743  0.01091217\n",
      "   0.00401302]\n",
      " [ 0.02869678  0.0309471   0.07698471  0.02912173  0.04027147  0.10622748\n",
      "   0.16699343  0.05280905  0.04147649  1.          0.02758666  0.0230735\n",
      "   0.02884765]\n",
      " [ 0.13623416  0.03134195  0.01865076  0.01884779  0.04239958  0.02677072\n",
      "   0.02751789  0.0157524   0.18609743  0.02758666  1.          0.01853196\n",
      "   0.00482773]\n",
      " [ 0.01349563  0.00860257  0.01618202  0.10411003  0.00610489  0.03223292\n",
      "   0.02451896  0.00669913  0.01091217  0.0230735   0.01853196  1.\n",
      "   0.02171827]\n",
      " [ 0.01518547  0.0040372   0.02720812  0.00790088  0.00899187  0.07426625\n",
      "   0.0497293   0.03221461  0.00401302  0.02884765  0.00482773  0.02171827\n",
      "   1.        ]]\n"
     ]
    },
    {
     "data": {
      "image/png": "[encoded data removed]",
      "text/plain": [
       "<matplotlib.figure.Figure at 0x1280d1e10>"
      ]
     },
     "metadata": {},
     "output_type": "display_data"
    }
   ],
   "source": [
    "ca_tfidf_cos = cosine_similarity(ca_tfidfm)\n",
    "print (sns.heatmap(ca_tfidf_cos))\n",
    "print (ca_tfidf_cos)"
   ]
  },
  {
   "cell_type": "markdown",
   "metadata": {
    "collapsed": true
   },
   "source": [
    "## Perform clustering of Abstracts"
   ]
  },
  {
   "cell_type": "code",
   "execution_count": 30,
   "metadata": {
    "collapsed": false
   },
   "outputs": [
    {
     "name": "stdout",
     "output_type": "stream",
     "text": [
      "CPU times: user 209 ms, sys: 1.97 ms, total: 211 ms\n",
      "Wall time: 60.1 ms\n"
     ]
    },
    {
     "data": {
      "text/plain": [
       "['doc_cluster.pkl', 'doc_cluster.pkl_01.npy', 'doc_cluster.pkl_02.npy']"
      ]
     },
     "execution_count": 30,
     "metadata": {},
     "output_type": "execute_result"
    }
   ],
   "source": [
    "num_clusters = 5\n",
    "km = KMeans(n_clusters=num_clusters)\n",
    "\n",
    "%time km.fit(ca_tfidfm)\n",
    "\n",
    "clusters = km.labels_.tolist()\n",
    "joblib.dump(km,  'doc_cluster.pkl')"
   ]
  },
  {
   "cell_type": "code",
   "execution_count": null,
   "metadata": {
    "collapsed": true
   },
   "outputs": [],
   "source": [
    "#joblib.dump(km,  'doc_cluster.pkl')\n",
    "\n",
    "# km = joblib.load('doc_cluster.pkl')\n",
    "# clusters = km.labels_.tolist()"
   ]
  },
  {
   "cell_type": "code",
   "execution_count": 41,
   "metadata": {
    "collapsed": false
   },
   "outputs": [
    {
     "data": {
      "text/plain": [
       "[1, 4, 2, 3, 4, 2, 2, 2, 1, 2, 1, 3, 0]"
      ]
     },
     "execution_count": 41,
     "metadata": {},
     "output_type": "execute_result"
    }
   ],
   "source": [
    "clusters"
   ]
  },
  {
   "cell_type": "code",
   "execution_count": 42,
   "metadata": {
    "collapsed": false,
    "scrolled": false
   },
   "outputs": [
    {
     "data": {
      "text/plain": [
       "<13x4089 sparse matrix of type '<type 'numpy.float64'>'\n",
       "\twith 4643 stored elements in Compressed Sparse Row format>"
      ]
     },
     "execution_count": 42,
     "metadata": {},
     "output_type": "execute_result"
    }
   ],
   "source": [
    "ca_tfidfm"
   ]
  },
  {
   "cell_type": "markdown",
   "metadata": {},
   "source": [
    " *How do we extract the most common terms from each cluster?"
   ]
  },
  {
   "cell_type": "markdown",
   "metadata": {},
   "source": [
    "## MDS to prepare for cluster visualization"
   ]
  },
  {
   "cell_type": "code",
   "execution_count": 46,
   "metadata": {
    "collapsed": false
   },
   "outputs": [
    {
     "name": "stdout",
     "output_type": "stream",
     "text": [
      "\n",
      "\n"
     ]
    }
   ],
   "source": [
    "#From http://brandonrose.org/clustering\n",
    "\n",
    "import os  # for os.path.basename\n",
    "\n",
    "import matplotlib.pyplot as plt\n",
    "import matplotlib as mpl\n",
    "\n",
    "from sklearn.manifold import MDS\n",
    "\n",
    "MDS()\n",
    "\n",
    "# convert two components as we're plotting points in a two-dimensional plane\n",
    "# \"precomputed\" because we provide a distance matrix\n",
    "# we will also specify `random_state` so the plot is reproducible.\n",
    "mds = MDS(n_components=2, dissimilarity=\"precomputed\", random_state=1)\n",
    "\n",
    "pos = mds.fit_transform(ca_tfidf_cos)  # shape (n_components, n_samples)\n",
    "\n",
    "xs, ys = pos[:, 0], pos[:, 1]\n",
    "print()\n",
    "print()"
   ]
  },
  {
   "cell_type": "code",
   "execution_count": 71,
   "metadata": {
    "collapsed": false,
    "scrolled": true
   },
   "outputs": [
    {
     "data": {
      "image/png": "[encoded data removed]",
      "text/plain": [
       "<matplotlib.figure.Figure at 0x12d398750>"
      ]
     },
     "metadata": {},
     "output_type": "display_data"
    }
   ],
   "source": [
    "#From http://brandonrose.org/clustering\n",
    "\n",
    "#set up colors per clusters using a dict\n",
    "cluster_colors = {0: '#1b9e77', 1: '#d95f02', 2: '#7570b3', 3: '#e7298a', 4: '#66a61e'}\n",
    "\n",
    "#set up cluster names using a dict; would be nice to relabel these using common words from each cluster\n",
    "cluster_names = {0: 'Zero', \n",
    "                 1: 'One', \n",
    "                 2: 'Two', \n",
    "                 3: 'Three', \n",
    "                 4: 'Four'}\n",
    "#some ipython magic to show the matplotlib plots inline\n",
    "%matplotlib inline \n",
    "\n",
    "#create data frame that has the result of the MDS plus the cluster numbers and titles\n",
    "df = pd.DataFrame(dict(x=xs, y=ys, label=clusters)) \n",
    "\n",
    "#group by cluster\n",
    "groups = df.groupby('label')\n",
    "\n",
    "# set up plot\n",
    "fig, ax = plt.subplots(figsize=(17, 9)) # set size\n",
    "ax.margins(0.05) # Optional, just adds 5% padding to the autoscaling\n",
    "\n",
    "#iterate through groups to layer the plot\n",
    "#note that I use the cluster_name and cluster_color dicts with the 'name' lookup to return the appropriate color/label\n",
    "for name, group in groups:\n",
    "    ax.plot(group.x, group.y, marker='o', linestyle='', ms=12, \n",
    "            label=cluster_names[name], color=cluster_colors[name], \n",
    "            mec='none')\n",
    "    ax.set_aspect('auto')\n",
    "    ax.tick_params(\\\n",
    "        axis= 'x',          # changes apply to the x-axis\n",
    "        which='both',      # both major and minor ticks are affected\n",
    "        bottom='off',      # ticks along the bottom edge are off\n",
    "        top='off',         # ticks along the top edge are off\n",
    "        labelbottom='off')\n",
    "    ax.tick_params(\\\n",
    "        axis= 'y',         # changes apply to the y-axis\n",
    "        which='both',      # both major and minor ticks are affected\n",
    "        left='off',      # ticks along the bottom edge are off\n",
    "        top='off',         # ticks along the top edge are off\n",
    "        labelleft='off')\n",
    "    \n",
    "ax.legend(numpoints=1)  #show legend with only 1 point\n",
    "\n",
    "# add label in x,y position with the label as the article title\n",
    "for i in range(len(df)):\n",
    "    ax.text(df.ix[i]['x'], df.ix[i]['y'], papers.ix[i]['articletitle'], size=8)  \n",
    "\n",
    "    \n",
    "    \n",
    "plt.show() #show the plot\n",
    "\n",
    "#uncomment the below to save the plot if need be\n",
    "#plt.savefig('clusters_small_noaxes.png', dpi=200)"
   ]
  },
  {
   "cell_type": "code",
   "execution_count": 81,
   "metadata": {
    "collapsed": false
   },
   "outputs": [
    {
     "data": {
      "text/plain": [
       "array([[  8.        ,  10.        ,   1.15150422,   2.        ],\n",
       "       [  6.        ,   9.        ,   1.18037873,   2.        ],\n",
       "       [  0.        ,  13.        ,   1.21670437,   3.        ],\n",
       "       [  5.        ,  14.        ,   1.2417855 ,   3.        ],\n",
       "       [  3.        ,  11.        ,   1.26954885,   2.        ],\n",
       "       [  2.        ,  16.        ,   1.30164942,   4.        ],\n",
       "       [ 12.        ,  18.        ,   1.35877027,   5.        ],\n",
       "       [  4.        ,   7.        ,   1.35885919,   2.        ],\n",
       "       [ 19.        ,  20.        ,   1.37453611,   7.        ],\n",
       "       [ 17.        ,  21.        ,   1.38151826,   9.        ],\n",
       "       [  1.        ,  15.        ,   1.38761191,   4.        ],\n",
       "       [ 22.        ,  23.        ,   1.39608052,  13.        ]])"
      ]
     },
     "execution_count": 81,
     "metadata": {},
     "output_type": "execute_result"
    },
    {
     "data": {
      "image/png": "[encoded data removed]",
      "text/plain": [
       "<matplotlib.figure.Figure at 0x13b7629d0>"
      ]
     },
     "metadata": {},
     "output_type": "display_data"
    }
   ],
   "source": [
    "cmap = sns.cubehelix_palette(as_cmap=True, rot=-.3, light=1)\n",
    "sns.clustermap(ca_tfidf_cos, cmap=cmap, col_cluster=False).dendrogram_row.linkage #linkage matrix\n",
    "# sns.clustermap(ca_tfidf_cos, cmap=cmap, col_cluster=True).dendrogram_col.linkage #linkage matrix for cols if cols True?"
   ]
  },
  {
   "cell_type": "markdown",
   "metadata": {},
   "source": [
    "## GenSim for LDA, Topic Modeling, word2vec"
   ]
  },
  {
   "cell_type": "markdown",
   "metadata": {},
   "source": [
    "adapted from http://www.datasciencebytes.com/bytes/2014/12/30/topic-modeling-of-shakespeare-characters/"
   ]
  },
  {
   "cell_type": "code",
   "execution_count": 83,
   "metadata": {
    "collapsed": false
   },
   "outputs": [
    {
     "data": {
      "text/html": [
       "<div>\n",
       "<table border=\"1\" class=\"dataframe\">\n",
       "  <thead>\n",
       "    <tr style=\"text-align: right;\">\n",
       "      <th></th>\n",
       "      <th>pmid</th>\n",
       "      <th>articletitle</th>\n",
       "      <th>journaltitle</th>\n",
       "      <th>authors</th>\n",
       "      <th>affiliation</th>\n",
       "      <th>grant</th>\n",
       "      <th>abstract</th>\n",
       "      <th>pubdate</th>\n",
       "      <th>split_abstract</th>\n",
       "      <th>cleaned_abstract</th>\n",
       "      <th>split_articletitle</th>\n",
       "      <th>cleaned_articletitle</th>\n",
       "      <th>ca_tokens</th>\n",
       "      <th>ra_tokens</th>\n",
       "      <th>rabs_length</th>\n",
       "      <th>cabs_length</th>\n",
       "      <th>cabs_u_length</th>\n",
       "    </tr>\n",
       "  </thead>\n",
       "  <tbody>\n",
       "    <tr>\n",
       "      <th>0</th>\n",
       "      <td>26535424</td>\n",
       "      <td>Acute Pain Medicine in the United States: A St...</td>\n",
       "      <td>Pain medicine (Malden, Mass.)</td>\n",
       "      <td>[Tighe P, Buckenmaier CC 3rd, Boezaart AP, Car...</td>\n",
       "      <td>Department of Anesthesiology, University of Fl...</td>\n",
       "      <td>[K23 GM 102697/GM/NIGMS NIH HHS/United States,...</td>\n",
       "      <td>BACKGROUND: Consensus indicates that a compreh...</td>\n",
       "      <td>2015 Sep</td>\n",
       "      <td>[consensus, indicates, comprehensive,multimoda...</td>\n",
       "      <td>consensus indicates comprehensive multimodal h...</td>\n",
       "      <td>[acute, pain, medicine, united, states:, statu...</td>\n",
       "      <td>acute pain medicine united states status report</td>\n",
       "      <td>[consensus, indicates, comprehensive, multimod...</td>\n",
       "      <td>[BACKGROUND, :, Consensus, indicates, that, a,...</td>\n",
       "      <td>277</td>\n",
       "      <td>167</td>\n",
       "      <td>137</td>\n",
       "    </tr>\n",
       "    <tr>\n",
       "      <th>1</th>\n",
       "      <td>26456458</td>\n",
       "      <td>Age differences in cytokine expression under c...</td>\n",
       "      <td>Experimental gerontology</td>\n",
       "      <td>[Cruz-Almeida Y, Aguirre M, Sorenson HL, Tighe...</td>\n",
       "      <td>Pain Research &amp; Intervention Center of Excelle...</td>\n",
       "      <td>[K01 AG048259/AG/NIA NIH HHS/United States, K0...</td>\n",
       "      <td>Older adults are at an increased risk to devel...</td>\n",
       "      <td>2015 Dec</td>\n",
       "      <td>[older, adults, increased, risk, develop, freq...</td>\n",
       "      <td>older adults increased risk develop frequent p...</td>\n",
       "      <td>[age, differences, cytokine, expression, condi...</td>\n",
       "      <td>age differences cytokine expression conditions...</td>\n",
       "      <td>[older, adults, increased, risk, develop, freq...</td>\n",
       "      <td>[Older, adults, are, at, an, increased, risk, ...</td>\n",
       "      <td>223</td>\n",
       "      <td>129</td>\n",
       "      <td>83</td>\n",
       "    </tr>\n",
       "    <tr>\n",
       "      <th>2</th>\n",
       "      <td>26247416</td>\n",
       "      <td>Time to Onset of Sustained Postoperative Pain ...</td>\n",
       "      <td>The Clinical journal of pain</td>\n",
       "      <td>[Tighe PJ, King CD, Zou B, Fillingim RB]</td>\n",
       "      <td>*Pain Research and Intervention Center of Exce...</td>\n",
       "      <td>[K23 GM102697/GM/NIGMS NIH HHS/United States]</td>\n",
       "      <td>OBJECTIVES: Prior work on postoperative pain t...</td>\n",
       "      <td>2015 Aug 5</td>\n",
       "      <td>[prior, work, postoperative, pain, trajectorie...</td>\n",
       "      <td>prior work postoperative pain trajectories exa...</td>\n",
       "      <td>[time, onset, sustained, postoperative, pain, ...</td>\n",
       "      <td>time onset sustained postoperative pain relief...</td>\n",
       "      <td>[prior, work, postoperative, pain, trajectorie...</td>\n",
       "      <td>[OBJECTIVES, :, Prior, work, on, postoperative...</td>\n",
       "      <td>285</td>\n",
       "      <td>142</td>\n",
       "      <td>88</td>\n",
       "    </tr>\n",
       "  </tbody>\n",
       "</table>\n",
       "</div>"
      ],
      "text/plain": [
       "       pmid                                       articletitle  \\\n",
       "0  26535424  Acute Pain Medicine in the United States: A St...   \n",
       "1  26456458  Age differences in cytokine expression under c...   \n",
       "2  26247416  Time to Onset of Sustained Postoperative Pain ...   \n",
       "\n",
       "                    journaltitle  \\\n",
       "0  Pain medicine (Malden, Mass.)   \n",
       "1       Experimental gerontology   \n",
       "2   The Clinical journal of pain   \n",
       "\n",
       "                                             authors  \\\n",
       "0  [Tighe P, Buckenmaier CC 3rd, Boezaart AP, Car...   \n",
       "1  [Cruz-Almeida Y, Aguirre M, Sorenson HL, Tighe...   \n",
       "2           [Tighe PJ, King CD, Zou B, Fillingim RB]   \n",
       "\n",
       "                                         affiliation  \\\n",
       "0  Department of Anesthesiology, University of Fl...   \n",
       "1  Pain Research & Intervention Center of Excelle...   \n",
       "2  *Pain Research and Intervention Center of Exce...   \n",
       "\n",
       "                                               grant  \\\n",
       "0  [K23 GM 102697/GM/NIGMS NIH HHS/United States,...   \n",
       "1  [K01 AG048259/AG/NIA NIH HHS/United States, K0...   \n",
       "2      [K23 GM102697/GM/NIGMS NIH HHS/United States]   \n",
       "\n",
       "                                            abstract     pubdate  \\\n",
       "0  BACKGROUND: Consensus indicates that a compreh...    2015 Sep   \n",
       "1  Older adults are at an increased risk to devel...    2015 Dec   \n",
       "2  OBJECTIVES: Prior work on postoperative pain t...  2015 Aug 5   \n",
       "\n",
       "                                      split_abstract  \\\n",
       "0  [consensus, indicates, comprehensive,multimoda...   \n",
       "1  [older, adults, increased, risk, develop, freq...   \n",
       "2  [prior, work, postoperative, pain, trajectorie...   \n",
       "\n",
       "                                    cleaned_abstract  \\\n",
       "0  consensus indicates comprehensive multimodal h...   \n",
       "1  older adults increased risk develop frequent p...   \n",
       "2  prior work postoperative pain trajectories exa...   \n",
       "\n",
       "                                  split_articletitle  \\\n",
       "0  [acute, pain, medicine, united, states:, statu...   \n",
       "1  [age, differences, cytokine, expression, condi...   \n",
       "2  [time, onset, sustained, postoperative, pain, ...   \n",
       "\n",
       "                                cleaned_articletitle  \\\n",
       "0   acute pain medicine united states status report    \n",
       "1  age differences cytokine expression conditions...   \n",
       "2  time onset sustained postoperative pain relief...   \n",
       "\n",
       "                                           ca_tokens  \\\n",
       "0  [consensus, indicates, comprehensive, multimod...   \n",
       "1  [older, adults, increased, risk, develop, freq...   \n",
       "2  [prior, work, postoperative, pain, trajectorie...   \n",
       "\n",
       "                                           ra_tokens  rabs_length  \\\n",
       "0  [BACKGROUND, :, Consensus, indicates, that, a,...          277   \n",
       "1  [Older, adults, are, at, an, increased, risk, ...          223   \n",
       "2  [OBJECTIVES, :, Prior, work, on, postoperative...          285   \n",
       "\n",
       "   cabs_length  cabs_u_length  \n",
       "0          167            137  \n",
       "1          129             83  \n",
       "2          142             88  "
      ]
     },
     "execution_count": 83,
     "metadata": {},
     "output_type": "execute_result"
    }
   ],
   "source": [
    "papers[0:3]"
   ]
  },
  {
   "cell_type": "code",
   "execution_count": 123,
   "metadata": {
    "collapsed": false
   },
   "outputs": [],
   "source": [
    "abstract_list = papers['ca_tokens'].values\n",
    "ca_gs_dictionary = corpora.Dictionary(abstract_list)\n",
    "# once_ids = [tokenid for tokenid, docfreq in dictionary.dfs.iteritems() if docfreq == 1]\n",
    "# ca_gs_dictionary.filter_tokens(once_ids)\n",
    "# ca_gs_dictionary.compactify()"
   ]
  },
  {
   "cell_type": "code",
   "execution_count": 124,
   "metadata": {
    "collapsed": false
   },
   "outputs": [],
   "source": [
    "ca_gs_corpus = [dictionary.doc2bow(words) for words in abstract_list]\n",
    "# corpora.mmcorpus.MmCorpus.serialize('data/ca_gensim.mm', corpus)\n",
    "ca_gs_tfidf = models.TfidfModel(ca_gs_corpus)"
   ]
  },
  {
   "cell_type": "code",
   "execution_count": 125,
   "metadata": {
    "collapsed": false
   },
   "outputs": [],
   "source": [
    "lsi = models.lsimodel.LsiModel(corpus=tfidf[ca_gs_corpus], id2word=ca_gs_dictionary)\n",
    "lsi.save('data/ca_gs.lsi')"
   ]
  },
  {
   "cell_type": "code",
   "execution_count": 126,
   "metadata": {
    "collapsed": false
   },
   "outputs": [
    {
     "name": "stdout",
     "output_type": "stream",
     "text": [
      "Topic 0:\n",
      "0.887*\"pain\"\n",
      "0.197*\"surgery\"\n",
      "0.177*\"acute\"\n",
      "0.105*\"using\"\n",
      "0.103*\"time\"\n",
      "0.097*\"data\"\n",
      "0.096*\"apm\"\n",
      "0.080*\"well\"\n",
      "0.079*\"outcomes\"\n",
      "0.077*\"cohort\"\n",
      "\n",
      "Topic 1:\n",
      "0.802*\"surgery\"\n",
      "0.239*\"time\"\n",
      "0.190*\"data\"\n",
      "-0.180*\"pain\"\n",
      "-0.175*\"apm\"\n",
      "-0.169*\"acute\"\n",
      "0.117*\"study\"\n",
      "-0.104*\"medicine\"\n",
      "0.103*\"recovery\"\n",
      "0.094*\"service\"\n",
      "\n",
      "Topic 2:\n",
      "-0.431*\"acute\"\n",
      "-0.382*\"apm\"\n",
      "0.219*\"pain\"\n",
      "-0.191*\"medicine\"\n",
      "-0.176*\"regional\"\n",
      "0.172*\"older\"\n",
      "-0.169*\"patient\"\n",
      "-0.168*\"practice\"\n",
      "0.166*\"il\"\n",
      "-0.141*\"hospital\"\n",
      "\n"
     ]
    }
   ],
   "source": [
    "for i, topic in enumerate(lsi.print_topics(5)[:3]):\n",
    "    print ('Topic {}:'.format(i))\n",
    "    print (topic.replace(' + ', '\\n'))\n",
    "    print ()"
   ]
  },
  {
   "cell_type": "code",
   "execution_count": 110,
   "metadata": {
    "collapsed": false
   },
   "outputs": [
    {
     "name": "stderr",
     "output_type": "stream",
     "text": [
      "WARNING:gensim.similarities.docsim:scanning corpus to determine the number of features (consider setting `num_features` explicitly)\n"
     ]
    }
   ],
   "source": [
    "matsim = similarities.MatrixSimilarity(lsi[tfidf[ca_gs_corpus]], num_best=6)"
   ]
  },
  {
   "cell_type": "code",
   "execution_count": 127,
   "metadata": {
    "collapsed": false
   },
   "outputs": [
    {
     "name": "stdout",
     "output_type": "stream",
     "text": [
      "CPU times: user 4.72 s, sys: 14 ms, total: 4.74 s\n",
      "Wall time: 4.75 s\n"
     ]
    }
   ],
   "source": [
    "%time lda = models.LdaModel(ca_gs_corpus, num_topics=5, id2word =ca_gs_dictionary, update_every=5, passes=100)"
   ]
  },
  {
   "cell_type": "code",
   "execution_count": 128,
   "metadata": {
    "collapsed": false,
    "scrolled": true
   },
   "outputs": [
    {
     "data": {
      "text/plain": [
       "[u'0.048*pain + 0.017*surgery + 0.011*acute + 0.009*ci + 0.009*tweets + 0.009*nrs + 0.008*related + 0.008*terms + 0.008*hour + 0.008*medicine',\n",
       " u'0.043*pain + 0.040*scores + 0.022*pods + 0.022*pacu + 0.022*maximum + 0.016*recorded + 0.013*patients + 0.013*median + 0.013*correlation + 0.010*time',\n",
       " u'0.020*classifiers + 0.018*pain + 0.016*il + 0.014*older + 0.011*learning + 0.011*machine + 0.011*aps + 0.009*surgical + 0.009*increased + 0.009*using',\n",
       " u'0.024*pain + 0.019*apm + 0.016*nerve + 0.015*acute + 0.015*block + 0.013*surgery + 0.010*ambulatory + 0.008*orthopedic + 0.007*patient + 0.007*p',\n",
       " u'0.038*pain + 0.027*suppr + 0.018*scores + 0.017*postoperative + 0.012*patients + 0.011*using + 0.011*pod + 0.010*surgery + 0.008*time + 0.008*spe']"
      ]
     },
     "execution_count": 128,
     "metadata": {},
     "output_type": "execute_result"
    }
   ],
   "source": [
    "lda.show_topics()"
   ]
  },
  {
   "cell_type": "code",
   "execution_count": 129,
   "metadata": {
    "collapsed": false
   },
   "outputs": [
    {
     "name": "stdout",
     "output_type": "stream",
     "text": [
      "['pain', 'surgery', 'acute', 'ci', 'tweets', 'nrs', 'related', 'terms', 'hour', 'medicine', 'postoperative', 'social', 'per', 'patients', 'trajectories', 'included', 'score', 'proportion', 'context', 'content']\n",
      "\n",
      "['pain', 'scores', 'pods', 'pacu', 'maximum', 'recorded', 'patients', 'median', 'correlation', 'time', 'study', 'hour', 'within', 'period', 'care', 'surgical', 'correlations', 'score', 'single', 'set']\n",
      "\n",
      "['classifiers', 'pain', 'il', 'older', 'learning', 'machine', 'aps', 'surgical', 'increased', 'using', 'consultation', 'preoperative', 'subjects', 'adults', 'dimensional', 'reduction', 'computational', 'cases', 'request', 'elevations']\n",
      "\n",
      "['pain', 'apm', 'nerve', 'acute', 'block', 'surgery', 'ambulatory', 'orthopedic', 'patient', 'p', 'clinical', 'primary', 'likelihood', 'perioperative', 'or', 'receiving', 'ci', 'patients', 'data', 'anesthesia']\n",
      "\n",
      "['pain', 'suppr', 'scores', 'postoperative', 'patients', 'using', 'pod', 'surgery', 'time', 'spe', 'outcomes', 'analyses', 'hours', 'variables', 'roc', 'hospitals', 'results', 'type', 'sex', 'report']\n",
      "\n"
     ]
    }
   ],
   "source": [
    "topics_matrix = lda.show_topics(formatted=False, num_words=20)\n",
    "topics_matrix = np.array(topics_matrix)\n",
    "\n",
    "topic_words = topics_matrix[:,:,1]\n",
    "for i in topic_words:\n",
    "    print([str(word) for word in i])\n",
    "    print()"
   ]
  },
  {
   "cell_type": "markdown",
   "metadata": {},
   "source": [
    "### Future Planned projects:\n",
    "\n",
    "1. LDA to identify topic models via GenSim\n",
    "2. word2vec for pain related terms\n",
    "\n",
    "999. Then do all this for the titles\n",
    "\n",
    "\n",
    "Can start to use this template: http://brandonrose.org/clustering\n"
   ]
  },
  {
   "cell_type": "code",
   "execution_count": null,
   "metadata": {
    "collapsed": true
   },
   "outputs": [],
   "source": []
  }
 ],
 "metadata": {
  "kernelspec": {
   "display_name": "Python 2",
   "language": "python",
   "name": "python2"
  },
  "language_info": {
   "codemirror_mode": {
    "name": "ipython",
    "version": 2
   },
   "file_extension": ".py",
   "mimetype": "text/x-python",
   "name": "python",
   "nbconvert_exporter": "python",
   "pygments_lexer": "ipython2",
   "version": "2.7.11"
  }
 },
 "nbformat": 4,
 "nbformat_minor": 0
}
