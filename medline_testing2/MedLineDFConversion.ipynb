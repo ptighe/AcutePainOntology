{
 "cells": [
  {
   "cell_type": "code",
   "execution_count": 1,
   "metadata": {
    "collapsed": true
   },
   "outputs": [],
   "source": [
    "#adapted from http://mlbernauer.com/R/20160131-document-retrieval-sklearn.html"
   ]
  },
  {
   "cell_type": "code",
   "execution_count": 1,
   "metadata": {
    "collapsed": false
   },
   "outputs": [],
   "source": [
    "import os\n",
    "import pandas as pd\n",
    "import sklearn\n",
    "import numpy as np\n",
    "import nltk\n",
    "import nltk.data\n",
    "\n",
    "import re\n",
    "import time\n",
    "import codecs\n",
    "from Bio import Medline\n",
    "\n",
    "import gensim\n",
    "from gensim import corpora, models, similarities\n",
    "from collections import defaultdict"
   ]
  },
  {
   "cell_type": "code",
   "execution_count": 2,
   "metadata": {
    "collapsed": false
   },
   "outputs": [
    {
     "data": {
      "text/plain": [
       "'/Users/ptighe/Documents/Python Projects/AcutePainOntology/medline_testing'"
      ]
     },
     "execution_count": 2,
     "metadata": {},
     "output_type": "execute_result"
    }
   ],
   "source": [
    "os.getcwd()"
   ]
  },
  {
   "cell_type": "code",
   "execution_count": 3,
   "metadata": {
    "collapsed": true
   },
   "outputs": [],
   "source": [
    "path='pubmed_result_medline.txt'"
   ]
  },
  {
   "cell_type": "code",
   "execution_count": 4,
   "metadata": {
    "collapsed": true
   },
   "outputs": [],
   "source": [
    "#Taken directly from reference:"
   ]
  },
  {
   "cell_type": "code",
   "execution_count": 5,
   "metadata": {
    "collapsed": true
   },
   "outputs": [],
   "source": [
    "#Dictionary of medline terms: https://www.nlm.nih.gov/bsd/mms/medlineelements.html\n",
    "def read_medline_data(filename):\n",
    "    recs = Medline.parse(open(filename, 'r'))\n",
    "    text = pd.DataFrame(columns = [\"pmid\", \"articletitle\", \"journaltitle\", \"authors\", \"affiliation\", \"grant\",\n",
    "                                   \"abstract\", \"pubdate\"])\n",
    "    count = 0\n",
    "    for rec in recs:\n",
    "        try:\n",
    "            abstr = rec[\"AB\"]\n",
    "            atitle = rec[\"TI\"]\n",
    "            auths = rec[\"AU\"]\n",
    "            pubdate = rec[\"DP\"]\n",
    "            jtitle = rec[\"JT\"]\n",
    "            grant=rec[\"GR\"]\n",
    "            pmid = rec['PMID']\n",
    "            affil = rec['AD']\n",
    "            text = text.append(pd.DataFrame([[pmid,atitle, jtitle, auths, affil,grant, abstr,pubdate]],\n",
    "                                     columns=[\"pmid\", \"articletitle\", \"journaltitle\", \"authors\", \"affiliation\", \n",
    "                                              \"grant\", \"abstract\", \"pubdate\"]),ignore_index=True)            \n",
    "        except:\n",
    "            pass\n",
    "    return text"
   ]
  },
  {
   "cell_type": "code",
   "execution_count": 6,
   "metadata": {
    "collapsed": true
   },
   "outputs": [],
   "source": [
    "# Read in MEDLINE formatted text\n",
    "papers = read_medline_data(path)"
   ]
  },
  {
   "cell_type": "code",
   "execution_count": 7,
   "metadata": {
    "collapsed": false,
    "scrolled": false
   },
   "outputs": [
    {
     "data": {
      "text/plain": [
       "'BACKGROUND: Consensus indicates that a comprehensive,multimodal, holistic approach is foundational to the practice of acute pain medicine (APM),but lack of uniform, evidence-based clinical pathways leads to undesirable variability throughout U. S. healthcare systems. Acute pain studies are inconsistently synthesized to guide educational programs. Advanced practice techniques involving regional anesthesia assume the presence of a physician-led, multidisciplinary acute pain service,which is often unavailable or inconsistently applied.This heterogeneity of educational and organizational standards may result in unnecessary patient pain and escalation of healthcare costs. METHODS: A multidisciplinary panel was nominated through the APM Shared Interest Group of the American Academy of Pain Medicine. The panel met in Chicago, IL, in July 2014, to identify gaps and set priorities in APM research and education. RESULTS: The panel identified three areas of critical need: 1) an open-source acute pain data registry and clinical support tool to inform clinical decision making and resource allocation and to enhance research efforts; 2) a strong professional APM identity as an accredited subspecialty; and 3) educational goals targeted toward third-party payers,hospital administrators, and other key stake holders to convey the importance of APM. CONCLUSION: This report is the first step in a 3-year initiative aimed at creating conditions and incentives for the optimal provision of APM services to facilitate and enhance the quality of patient recovery after surgery, illness, or trauma. The ultimate goal is to reduce the conversion of acute pain to the debilitating disease of chronic pain.'"
      ]
     },
     "execution_count": 7,
     "metadata": {},
     "output_type": "execute_result"
    }
   ],
   "source": [
    "papers.loc[0,'abstract']"
   ]
  },
  {
   "cell_type": "code",
   "execution_count": 8,
   "metadata": {
    "collapsed": false
   },
   "outputs": [],
   "source": [
    "#Now some items for cleaning the abstract text\n",
    "from nltk.corpus import stopwords\n",
    "stoplist = stopwords.words('english')\n",
    "subheadings =[u\"OBJECTIVES\", u\"OBJECTIVE\", u\"AIMS\", \n",
    "              u\"METHODS AND RESULTS\", u\"CONCLUSIONS\", u\"RESULTS\", u\"METHODS\", u\"INTRODUCTION\", u\"BACKGROUND\"]\n",
    "stoplist.extend(['\\x0c', '\\n'])\n",
    "stoplist.extend(subheadings)"
   ]
  },
  {
   "cell_type": "code",
   "execution_count": 9,
   "metadata": {
    "collapsed": true
   },
   "outputs": [],
   "source": [
    "papers['split_abstract'] = papers['abstract'].str.split()"
   ]
  },
  {
   "cell_type": "code",
   "execution_count": 10,
   "metadata": {
    "collapsed": false,
    "scrolled": true
   },
   "outputs": [
    {
     "data": {
      "text/plain": [
       "0     [BACKGROUND:, Consensus, indicates, that, a, c...\n",
       "1     [Older, adults, are, at, an, increased, risk, ...\n",
       "2     [OBJECTIVES:, Prior, work, on, postoperative, ...\n",
       "3     [BACKGROUND:, Given, their, ability, to, proce...\n",
       "4     [BACKGROUND:, Despite, the, widespread, popula...\n",
       "5     [The, objective, of, this, study, was, to, det...\n",
       "6     [OBJECTIVE/BACKGROUND:, Prior, work, has, not,...\n",
       "7     [Although, prior, work, has, investigated, the...\n",
       "8     [The, American, Academy, of, Pain, Medicine, a...\n",
       "9     [OBJECTIVE:, The, goal, of, this, project, was...\n",
       "10    [BACKGROUND:, In, recent, years,, the, field, ...\n",
       "11    [OBJECTIVE:, The, purpose, of, this, project, ...\n",
       "12    [INTRODUCTION:, Although, more, than, 30, mill...\n",
       "Name: split_abstract, dtype: object"
      ]
     },
     "execution_count": 10,
     "metadata": {},
     "output_type": "execute_result"
    }
   ],
   "source": [
    "papers['split_abstract']"
   ]
  },
  {
   "cell_type": "code",
   "execution_count": 47,
   "metadata": {
    "collapsed": false
   },
   "outputs": [],
   "source": [
    "from nltk.tokenize import MWETokenizer\n",
    "from nltk.tokenize import sent_tokenize, word_tokenize\n",
    "\n",
    "papers['ta']= papers['abstract'].apply(lambda x: word_tokenize(x))"
   ]
  },
  {
   "cell_type": "code",
   "execution_count": 48,
   "metadata": {
    "collapsed": false
   },
   "outputs": [
    {
     "data": {
      "text/plain": [
       "0     [BACKGROUND, :, Consensus, indicates, that, a,...\n",
       "1     [Older, adults, are, at, an, increased, risk, ...\n",
       "2     [OBJECTIVES, :, Prior, work, on, postoperative...\n",
       "3     [BACKGROUND, :, Given, their, ability, to, pro...\n",
       "4     [BACKGROUND, :, Despite, the, widespread, popu...\n",
       "5     [The, objective, of, this, study, was, to, det...\n",
       "6     [OBJECTIVE/BACKGROUND, :, Prior, work, has, no...\n",
       "7     [Although, prior, work, has, investigated, the...\n",
       "8     [The, American, Academy, of, Pain, Medicine, a...\n",
       "9     [OBJECTIVE, :, The, goal, of, this, project, w...\n",
       "10    [BACKGROUND, :, In, recent, years, ,, the, fie...\n",
       "11    [OBJECTIVE, :, The, purpose, of, this, project...\n",
       "12    [INTRODUCTION, :, Although, more, than, 30, mi...\n",
       "Name: ta, dtype: object"
      ]
     },
     "execution_count": 48,
     "metadata": {},
     "output_type": "execute_result"
    }
   ],
   "source": [
    "papers['ta']"
   ]
  },
  {
   "cell_type": "code",
   "execution_count": null,
   "metadata": {
    "collapsed": true
   },
   "outputs": [],
   "source": []
  },
  {
   "cell_type": "code",
   "execution_count": null,
   "metadata": {
    "collapsed": true
   },
   "outputs": [],
   "source": [
    "def pull_sentences(filename):\n",
    "    \"\"\"\n",
    "        Breaks abstract into sentences\n",
    "        \"\"\"\n",
    "\n",
    "    print \"\\nTokenizing abstract\\n\\n\"\n",
    "    tokenizer = nltk.data.load('tokenizers/punkt/english.pickle')\n",
    "    fp = open(filename)\n",
    "    data = fp.read()\n",
    "    return tokenizer.tokenize(data.decode('utf-8'))\n"
   ]
  },
  {
   "cell_type": "code",
   "execution_count": null,
   "metadata": {
    "collapsed": true
   },
   "outputs": [],
   "source": [
    "def create_word2vec_sentence(sentence_list, stoplist):\n",
    "    print \"\\nCreating word2vec sentences\\n\\n\"\n",
    "    retList = list()\n",
    "    toolbar_width = len(sentence_list)\n",
    "    for i, sentence in enumerate(sentence_list):\n",
    "\n",
    "        p = str((float(i+1)/toolbar_width)*100)[:4]\n",
    "        sys.stdout.write(\"\\r%s%%\" %p)\n",
    "        sys.stdout.flush()\n",
    "\n",
    "        sentLst = [x.strip(\",\").rstrip(\".\").strip(\":\").lower() for x in sentence.split(\" \") if x.strip(\",\").strip(\".\").strip(\":\").lower() not in stoplist]\n",
    "        retList.append(sentLst)\n",
    "    return retList"
   ]
  },
  {
   "cell_type": "code",
   "execution_count": 15,
   "metadata": {
    "collapsed": false
   },
   "outputs": [
    {
     "ename": "KeyError",
     "evalue": "'cleaned_abstract'",
     "output_type": "error",
     "traceback": [
      "\u001b[0;31m---------------------------------------------------------------------------\u001b[0m",
      "\u001b[0;31mKeyError\u001b[0m                                  Traceback (most recent call last)",
      "\u001b[0;32m<ipython-input-15-c4edf58d2fb3>\u001b[0m in \u001b[0;36m<module>\u001b[0;34m()\u001b[0m\n\u001b[0;32m----> 1\u001b[0;31m \u001b[0mpapers\u001b[0m\u001b[0;34m[\u001b[0m\u001b[0;34m'cleaned_abstract'\u001b[0m\u001b[0;34m]\u001b[0m\u001b[0;34m.\u001b[0m\u001b[0mconcordance\u001b[0m\u001b[0;34m(\u001b[0m\u001b[0;34m'pain'\u001b[0m\u001b[0;34m)\u001b[0m\u001b[0;34m\u001b[0m\u001b[0m\n\u001b[0m",
      "\u001b[0;32m/Users/ptighe/anaconda/lib/python3.5/site-packages/pandas/core/frame.py\u001b[0m in \u001b[0;36m__getitem__\u001b[0;34m(self, key)\u001b[0m\n\u001b[1;32m   1967\u001b[0m             \u001b[0;32mreturn\u001b[0m \u001b[0mself\u001b[0m\u001b[0;34m.\u001b[0m\u001b[0m_getitem_multilevel\u001b[0m\u001b[0;34m(\u001b[0m\u001b[0mkey\u001b[0m\u001b[0;34m)\u001b[0m\u001b[0;34m\u001b[0m\u001b[0m\n\u001b[1;32m   1968\u001b[0m         \u001b[0;32melse\u001b[0m\u001b[0;34m:\u001b[0m\u001b[0;34m\u001b[0m\u001b[0m\n\u001b[0;32m-> 1969\u001b[0;31m             \u001b[0;32mreturn\u001b[0m \u001b[0mself\u001b[0m\u001b[0;34m.\u001b[0m\u001b[0m_getitem_column\u001b[0m\u001b[0;34m(\u001b[0m\u001b[0mkey\u001b[0m\u001b[0;34m)\u001b[0m\u001b[0;34m\u001b[0m\u001b[0m\n\u001b[0m\u001b[1;32m   1970\u001b[0m \u001b[0;34m\u001b[0m\u001b[0m\n\u001b[1;32m   1971\u001b[0m     \u001b[0;32mdef\u001b[0m \u001b[0m_getitem_column\u001b[0m\u001b[0;34m(\u001b[0m\u001b[0mself\u001b[0m\u001b[0;34m,\u001b[0m \u001b[0mkey\u001b[0m\u001b[0;34m)\u001b[0m\u001b[0;34m:\u001b[0m\u001b[0;34m\u001b[0m\u001b[0m\n",
      "\u001b[0;32m/Users/ptighe/anaconda/lib/python3.5/site-packages/pandas/core/frame.py\u001b[0m in \u001b[0;36m_getitem_column\u001b[0;34m(self, key)\u001b[0m\n\u001b[1;32m   1974\u001b[0m         \u001b[0;31m# get column\u001b[0m\u001b[0;34m\u001b[0m\u001b[0;34m\u001b[0m\u001b[0m\n\u001b[1;32m   1975\u001b[0m         \u001b[0;32mif\u001b[0m \u001b[0mself\u001b[0m\u001b[0;34m.\u001b[0m\u001b[0mcolumns\u001b[0m\u001b[0;34m.\u001b[0m\u001b[0mis_unique\u001b[0m\u001b[0;34m:\u001b[0m\u001b[0;34m\u001b[0m\u001b[0m\n\u001b[0;32m-> 1976\u001b[0;31m             \u001b[0;32mreturn\u001b[0m \u001b[0mself\u001b[0m\u001b[0;34m.\u001b[0m\u001b[0m_get_item_cache\u001b[0m\u001b[0;34m(\u001b[0m\u001b[0mkey\u001b[0m\u001b[0;34m)\u001b[0m\u001b[0;34m\u001b[0m\u001b[0m\n\u001b[0m\u001b[1;32m   1977\u001b[0m \u001b[0;34m\u001b[0m\u001b[0m\n\u001b[1;32m   1978\u001b[0m         \u001b[0;31m# duplicate columns & possible reduce dimensionality\u001b[0m\u001b[0;34m\u001b[0m\u001b[0;34m\u001b[0m\u001b[0m\n",
      "\u001b[0;32m/Users/ptighe/anaconda/lib/python3.5/site-packages/pandas/core/generic.py\u001b[0m in \u001b[0;36m_get_item_cache\u001b[0;34m(self, item)\u001b[0m\n\u001b[1;32m   1089\u001b[0m         \u001b[0mres\u001b[0m \u001b[0;34m=\u001b[0m \u001b[0mcache\u001b[0m\u001b[0;34m.\u001b[0m\u001b[0mget\u001b[0m\u001b[0;34m(\u001b[0m\u001b[0mitem\u001b[0m\u001b[0;34m)\u001b[0m\u001b[0;34m\u001b[0m\u001b[0m\n\u001b[1;32m   1090\u001b[0m         \u001b[0;32mif\u001b[0m \u001b[0mres\u001b[0m \u001b[0;32mis\u001b[0m \u001b[0;32mNone\u001b[0m\u001b[0;34m:\u001b[0m\u001b[0;34m\u001b[0m\u001b[0m\n\u001b[0;32m-> 1091\u001b[0;31m             \u001b[0mvalues\u001b[0m \u001b[0;34m=\u001b[0m \u001b[0mself\u001b[0m\u001b[0;34m.\u001b[0m\u001b[0m_data\u001b[0m\u001b[0;34m.\u001b[0m\u001b[0mget\u001b[0m\u001b[0;34m(\u001b[0m\u001b[0mitem\u001b[0m\u001b[0;34m)\u001b[0m\u001b[0;34m\u001b[0m\u001b[0m\n\u001b[0m\u001b[1;32m   1092\u001b[0m             \u001b[0mres\u001b[0m \u001b[0;34m=\u001b[0m \u001b[0mself\u001b[0m\u001b[0;34m.\u001b[0m\u001b[0m_box_item_values\u001b[0m\u001b[0;34m(\u001b[0m\u001b[0mitem\u001b[0m\u001b[0;34m,\u001b[0m \u001b[0mvalues\u001b[0m\u001b[0;34m)\u001b[0m\u001b[0;34m\u001b[0m\u001b[0m\n\u001b[1;32m   1093\u001b[0m             \u001b[0mcache\u001b[0m\u001b[0;34m[\u001b[0m\u001b[0mitem\u001b[0m\u001b[0;34m]\u001b[0m \u001b[0;34m=\u001b[0m \u001b[0mres\u001b[0m\u001b[0;34m\u001b[0m\u001b[0m\n",
      "\u001b[0;32m/Users/ptighe/anaconda/lib/python3.5/site-packages/pandas/core/internals.py\u001b[0m in \u001b[0;36mget\u001b[0;34m(self, item, fastpath)\u001b[0m\n\u001b[1;32m   3209\u001b[0m \u001b[0;34m\u001b[0m\u001b[0m\n\u001b[1;32m   3210\u001b[0m             \u001b[0;32mif\u001b[0m \u001b[0;32mnot\u001b[0m \u001b[0misnull\u001b[0m\u001b[0;34m(\u001b[0m\u001b[0mitem\u001b[0m\u001b[0;34m)\u001b[0m\u001b[0;34m:\u001b[0m\u001b[0;34m\u001b[0m\u001b[0m\n\u001b[0;32m-> 3211\u001b[0;31m                 \u001b[0mloc\u001b[0m \u001b[0;34m=\u001b[0m \u001b[0mself\u001b[0m\u001b[0;34m.\u001b[0m\u001b[0mitems\u001b[0m\u001b[0;34m.\u001b[0m\u001b[0mget_loc\u001b[0m\u001b[0;34m(\u001b[0m\u001b[0mitem\u001b[0m\u001b[0;34m)\u001b[0m\u001b[0;34m\u001b[0m\u001b[0m\n\u001b[0m\u001b[1;32m   3212\u001b[0m             \u001b[0;32melse\u001b[0m\u001b[0;34m:\u001b[0m\u001b[0;34m\u001b[0m\u001b[0m\n\u001b[1;32m   3213\u001b[0m                 \u001b[0mindexer\u001b[0m \u001b[0;34m=\u001b[0m \u001b[0mnp\u001b[0m\u001b[0;34m.\u001b[0m\u001b[0marange\u001b[0m\u001b[0;34m(\u001b[0m\u001b[0mlen\u001b[0m\u001b[0;34m(\u001b[0m\u001b[0mself\u001b[0m\u001b[0;34m.\u001b[0m\u001b[0mitems\u001b[0m\u001b[0;34m)\u001b[0m\u001b[0;34m)\u001b[0m\u001b[0;34m[\u001b[0m\u001b[0misnull\u001b[0m\u001b[0;34m(\u001b[0m\u001b[0mself\u001b[0m\u001b[0;34m.\u001b[0m\u001b[0mitems\u001b[0m\u001b[0;34m)\u001b[0m\u001b[0;34m]\u001b[0m\u001b[0;34m\u001b[0m\u001b[0m\n",
      "\u001b[0;32m/Users/ptighe/anaconda/lib/python3.5/site-packages/pandas/core/index.py\u001b[0m in \u001b[0;36mget_loc\u001b[0;34m(self, key, method, tolerance)\u001b[0m\n\u001b[1;32m   1757\u001b[0m                                  'backfill or nearest lookups')\n\u001b[1;32m   1758\u001b[0m             \u001b[0mkey\u001b[0m \u001b[0;34m=\u001b[0m \u001b[0m_values_from_object\u001b[0m\u001b[0;34m(\u001b[0m\u001b[0mkey\u001b[0m\u001b[0;34m)\u001b[0m\u001b[0;34m\u001b[0m\u001b[0m\n\u001b[0;32m-> 1759\u001b[0;31m             \u001b[0;32mreturn\u001b[0m \u001b[0mself\u001b[0m\u001b[0;34m.\u001b[0m\u001b[0m_engine\u001b[0m\u001b[0;34m.\u001b[0m\u001b[0mget_loc\u001b[0m\u001b[0;34m(\u001b[0m\u001b[0mkey\u001b[0m\u001b[0;34m)\u001b[0m\u001b[0;34m\u001b[0m\u001b[0m\n\u001b[0m\u001b[1;32m   1760\u001b[0m \u001b[0;34m\u001b[0m\u001b[0m\n\u001b[1;32m   1761\u001b[0m         indexer = self.get_indexer([key], method=method,\n",
      "\u001b[0;32mpandas/index.pyx\u001b[0m in \u001b[0;36mpandas.index.IndexEngine.get_loc (pandas/index.c:3979)\u001b[0;34m()\u001b[0m\n",
      "\u001b[0;32mpandas/index.pyx\u001b[0m in \u001b[0;36mpandas.index.IndexEngine.get_loc (pandas/index.c:3843)\u001b[0;34m()\u001b[0m\n",
      "\u001b[0;32mpandas/hashtable.pyx\u001b[0m in \u001b[0;36mpandas.hashtable.PyObjectHashTable.get_item (pandas/hashtable.c:12265)\u001b[0;34m()\u001b[0m\n",
      "\u001b[0;32mpandas/hashtable.pyx\u001b[0m in \u001b[0;36mpandas.hashtable.PyObjectHashTable.get_item (pandas/hashtable.c:12216)\u001b[0;34m()\u001b[0m\n",
      "\u001b[0;31mKeyError\u001b[0m: 'cleaned_abstract'"
     ]
    }
   ],
   "source": [
    "papers['cleaned_abstract'].concordance('pain')"
   ]
  },
  {
   "cell_type": "code",
   "execution_count": 16,
   "metadata": {
    "collapsed": true
   },
   "outputs": [],
   "source": [
    "from collections import Counter"
   ]
  },
  {
   "cell_type": "code",
   "execution_count": 18,
   "metadata": {
    "collapsed": false
   },
   "outputs": [
    {
     "data": {
      "text/plain": [
       "dict_items([('mixed', 1), ('data.', 1), ('decision', 3), ('emotion', 1), ('hour', 6), ('correlation', 4), ('1.16', 1), ('adult', 4), ('POD', 6), ('receiver', 2), ('rating', 4), ('identified', 2), ('review,', 1), ('node', 1), ('hospital.', 1), ('considered', 1), ('containment,', 1), ('foundational', 1), ('examine', 3), ('gradient-boosted', 2), ('inpatient', 1), ('accuracies', 1), ('how', 2), ('male', 3), ('6.5', 1), ('algorithm', 1), ('efficiency', 2), ('conjunction', 1), ('pain-related', 5), ('age,', 3), ('nonambulatory', 2), ('scores.', 4), ('purpose', 1), ('h)', 2), ('(TNF-alpha', 1), ('extend', 1), ('comparisons', 1), ('METHODS:', 5), ('what', 1), ('baseline', 2), ('recent', 1), ('clinical', 10), ('step', 1), ('debilitating', 1), ('evaluated,', 1), ('care', 2), ('Assessment', 1), ('geographic,', 1), ('SPE,', 2), ('these', 3), ('43,806', 1), ('LASSO', 2), ('set', 4), ('response', 1), ('communications', 1), ('five', 1), ('38%', 1), ('requests', 1), ('diseases.', 1), ('Our', 1), ('work', 4), ('All', 1), ('defined', 1), ('we', 8), ('31.5', 1), ('our', 2), ('assume', 1), ('the', 118), ('3-year', 1), ('performed', 2), ('classifiers,', 1), ('times', 3), ('CONCLUSIONS:', 5), ('-0.062', 1), ('SuPPR-2,', 1), ('influence', 1), ('<', 1), ('should', 1), ('perioperative', 4), ('development', 2), ('care.', 1), ('160.1', 1), ('3.9', 1), ('796', 2), ('hypothesis', 3), ('dysregulation', 1), ('differences', 5), ('being', 1), ('outcome', 3), ('system', 2), ('assessments', 1), ('Advanced', 1), ('ranged', 4), ('will', 2), ('briefly', 1), ('day', 2), ('targeted', 1), ('total', 4), ('age-related', 2), ('sustained', 1), ('receive', 2), ('special', 1), ('preoperative', 4), ('machine-learning', 4), ('[95%', 1), ('case', 2), ('examined', 4), ('addition,', 1), ('complementary', 1), ('develop', 1), ('model.', 1), ('terms', 5), ('183.1', 1), ('high', 1), ('ensemble', 2), ('media,', 1), ('1)', 1), ('U.S.', 1), ('different', 2), ('\"Always\"', 1), ('15,', 1), ('users', 1), ('method', 3), ('nervous', 1), ('1', 11), ('to', 67), ('performance.', 3), ('The', 22), ('0.84-0.89)', 1), ('unit', 2), ('receiving', 4), ('differed', 2), ('datasets', 1), ('both', 3), ('sparsity', 1), ('suggest', 3), ('report', 5), ('1-hour', 1), ('provision', 1), ('Retrospective', 2), ('hours.', 1), ('primary', 4), ('including', 1), ('by', 10), ('peak', 1), ('strongly', 1), ('efforts;', 1), ('tree,', 1), ('OUTCOME', 1), ('0.19', 1), ('administration.', 1), ('Ambulatory', 2), ('socioeconomic,', 1), ('analysis.', 1), ('service', 3), ('rapid', 1), ('heat', 1), ('0.29.', 1), ('curve', 3), ('data,', 1), ('0.22', 1), ('Patients', 1), ('was', 22), ('interplay', 1), ('These', 2), ('conversion', 1), ('Pain', 7), ('presence', 1), ('escalation', 1), ('program.', 1), ('likely', 2), ('forecast', 2), ('medical', 3), ('take', 1), ('variables', 1), ('uninterrupted,', 1), ('Computational', 1), ('2014,', 1), ('holistic', 1), ('single', 2), ('satisfaction', 1), ('resource', 1), ('(0.02', 1), ('sex,', 1), ('facilities', 1), ('published', 1), ('accredited', 1), ('REVIEW', 1), ('those', 6), (\"Kendall's\", 1), ('0.643.', 1), ('communication', 1), ('medicine.', 1), ('key', 1), ('(APM),but', 1), ('IL-6', 2), ('placement', 1), ('function', 1), ('scale', 2), ('Least', 1), ('adverse', 1), ('educational', 3), ('not', 6), ('define', 1), ('increasing', 1), ('48,055', 1), ('advancement', 1), ('evidence-based', 1), ('evidence', 1), ('fellow', 1), ('strategy.', 1), ('24%', 1), ('0.27', 1), ('warrants', 1), ('subsequent', 1), ('cohort.', 1), (\"tweeters'\", 1), ('Although', 3), ('are', 7), ('P', 4), ('dataset', 1), ('aim', 2), ('A', 3), ('observation', 1), ('peaked', 2), ('0.03)', 1), ('-0.046)', 1), ('digestive', 1), ('(not', 1), ('Providers', 1), ('intervals', 1), ('severe', 4), ('about', 4), ('determine', 3), ('payers,hospital', 1), ('staffing', 1), ('SuPPR-4.', 1), ('scores,', 3), ('IL-10)', 1), ('location', 3), ('used', 1), ('versus', 1), ('CA,', 1), ('carry', 2), ('Selection', 1), ('distinct', 1), ('reviewed', 3), ('areas', 2), ('=', 4), ('ratio', 3), ('identify', 1), ('time', 14), ('calculated', 2), ('block.', 4), ('6000', 1), ('Index,', 1), ('[IQR],', 1), ('(OR,', 3), (\"patient's\", 1), ('0.27.', 1), ('score', 8), ('To', 1), ('this', 8), ('2-hour', 1), ('record', 1), ('type,', 1), ('surgery,', 3), ('expertise', 1), ('Following', 1), ('occurring', 1), ('Manila', 1), ('discuss', 2), ('complex', 1), ('17.8-54.2', 1), ('inconsistently', 2), ('decreases', 1), ('5000km', 1), ('We', 6), ('patients,', 1), ('moderate', 2), ('nociception.', 1), ('equipment', 1), ('setting', 1), ('8,071', 1), ('Consensus', 1), ('trajectory', 1), ('objective', 2), ('January', 1), ('number', 2), ('hundreds', 1), ('feel', 1), ('clustered', 1), ('yield', 1), ('sentiment', 2), ('population', 1), ('witnessed', 1), ('require', 1), ('specifically', 1), ('procedures', 2), ('enhance', 2), ('However,', 2), ('PODs.', 1), ('achieving', 1), ('minimal', 1), ('profile,', 1), ('(2,', 1), ('unavailable', 1), ('aging', 1), ('understanding', 1), ('is', 10), ('prevalence', 1), ('complications,', 1), ('tired', 1), ('policy', 2), ('FHP', 1), ('recognized', 1), ('reports', 1), ('(99%', 2), ('DESIGN/SETTING:', 1), ('procedure.', 1), ('involved', 1), ('experimental', 3), ('predictive', 1), ('in', 47), ('postoperative', 18), ('RESULTS:', 8), ('50', 1), ('unique', 1), ('Temporally,', 1), ('30', 1), ('ambulatory', 4), ('critical', 1), ('(0.14),', 1), ('Survey', 2), ('CPT.', 2), ('full', 1), ('involving', 1), ('operating', 2), ('outcomes', 3), ('mechanisms', 2), ('demographic', 1), ('1.14', 1), ('million', 2), ('(ROC)', 1), ('91.8-92.8)', 1), ('little', 2), ('amongst', 1), ('after', 8), ('July', 1), ('only', 2), ('records', 3), ('analysis)', 1), ('networks.', 1), ('result', 1), ('charity', 1), ('SuPPR-3,', 2), ('services', 1), ('until', 2), ('lower', 3), ('median', 9), ('traditional,', 1), ('-0.380', 1), ('perceptions', 2), ('content', 2), ('can', 2), ('(PEPM)', 1), ('undesirable', 1), ('together,', 2), ('Estimates', 1), ('study', 12), ('regional', 5), ('methods', 2), ('seconds,', 1), ('greater', 5), ('pertaining', 3), ('males', 1), ('incentives', 1), ('classify', 1), ('standards', 1), ('tertiary-care', 1), ('anesthesiology.', 1), ('units', 3), ('data', 9), ('models', 1), ('subjects,', 1), ('multiple', 2), ('computational', 2), ('consistent', 3), ('subspecialty;', 1), ('MATERIALS', 1), ('than', 5), ('(APM)', 1), ('hospital', 3), ('widespread', 1), ('predicted', 1), ('importance', 1), ('0.016', 1), ('goal', 3), ('HCAHPS', 3), ('well-validated', 1), ('demarcated', 1), ('inflammation', 1), ('NRS', 4), ('Systems', 1), ('daily', 1), ('(SPEs).', 1), ('1.12-6.13;', 1), ('Anti-inflammatory', 1), ('Here,', 2), ('surgical', 14), ('receiver-operating', 1), ('ASSESSMENT', 1), ('Using', 1), ('assertion', 1), ('affect', 3), ('generally', 1), ('ranging', 2), ('human', 1), ('analyses', 3), ('three', 1), ('essential', 1), ('ultimate', 1), ('tertiary', 1), ('association', 4), ('considering', 1), ('groups', 1), ('reviewed.', 2), ('analyses,', 1), ('gaps', 1), ('pathophysiologic', 1), ('represent', 1), ('events', 2), ('(k-NN),', 1), ('inform', 1), ('10', 1), ('merely', 1), ('patients.', 2), ('process.', 1), ('(LASSO),', 1), ('PEPM', 3), ('continental', 1), ('later', 1), ('management', 2), ('correctly', 1), ('3,', 3), ('established', 1), ('use', 1), ('(HCAHPS)', 1), ('into', 1), ('Chicago,', 1), ('could', 1), ('24', 2), ('compared', 5), ('biopsychosocial', 2), ('(25.09%)', 1), ('cross-sectional', 1), ('over', 6), ('model,', 1), ('multimodal', 1), ('SuPPR-4', 1), ('METHODS/PATIENTS:', 1), ('context', 2), ('retrospective', 4), ('patients', 17), ('algorithm,', 2), ('networks', 2), ('it', 1), ('SETTING:', 2), ('were', 21), ('acute', 17), ('5.2', 1), ('0.0017-0.0019', 1), ('effect', 1), ('States', 3), ('but', 3), ('Acute', 2), ('additional', 1), ('government', 1), ('(</=4/10).', 1), ('(91,708)', 1), ('32%.', 1), ('guide', 1), ('freestanding', 1), ('support', 3), ('unnecessary', 1), ('Older', 1), ('algorithms,', 1), ('likelihood', 4), ('anesthetics', 3), ('Staffing', 1), ('catheter', 1), ('healthy', 1), ('non-obstetric', 1), ('S.', 1), ('Given', 1), ('inability', 1), ('Anesthesia', 1), ('3-26.1', 1), ('payment', 2), ('as', 24), ('period', 1), ('obtained', 1), ('Medicine.', 1), ('holders', 1), ('addition', 1), ('349,797', 1), ('priorities', 1), ('physician-led,', 1), ('distributed', 1), ('necessary,', 1), ('deeper', 1), ('Machine-learning', 1), ('post-anesthesia', 1), ('analysis', 2), ('Interest', 1), ('models:', 1), ('socioeconomic', 1), ('highest', 3), ('cost', 1), ('Consumer', 1), ('analyzed', 1), ('0.86,', 1), ('Blood', 1), ('therapies', 3), ('algorithm).', 1), ('analgesia,', 1), ('ability', 3), ('PACU', 6), ('academic', 1), ('process', 1), ('pre-pain/pre-intervention', 1), ('novel', 1), ('results.', 1), ('reflect', 1), ('Five', 1), ('event', 2), ('clinically', 1), ('recognition', 1), ('prompt', 1), ('surgery', 13), ('groups,', 2), ('trajectories', 4), ('results', 5), ('institution', 1), ('on', 18), ('decreased', 3), ('mild', 1), ('post-stimuli', 1), ('statistical', 1), ('at', 9), ('4,', 1), ('hours,', 1), ('such', 4), ('pain,', 1), ('initiative', 1), ('Society', 1), ('CONCLUSION:', 3), ('posted', 1), ('payment.', 1), ('DISCUSSION:', 1), ('effects.', 1), ('connectedness', 1), ('3)', 1), ('anesthesia', 4), ('k-NN', 1), ('word', 1), ('-0.040)', 1), ('Surgery', 2), ('elevations', 3), ('0.665', 1), ('(CPT),', 1), ('2400,', 1), ('min', 1), ('IL-8', 1), ('type', 6), ('PODs', 5), ('media.', 1), ('clusters', 1), ('phase', 2), ('10,786', 1), ('numeric', 2), ('(n=702),', 1), ('significantly', 2), ('met', 1), ('pain.', 10), ('nonzero', 1), ('Academy', 2), ('machine', 2), ('time,', 1), ('variety', 1), ('heterogeneity', 1), ('without', 1), ('high-performing', 1), ('sequential', 2), ('variables,', 3), ('training.', 1), ('adults.', 1), ('addressed', 2), ('healthcare', 2), ('[CI]:', 1), ('\"pain\"', 1), ('had', 5), ('context,', 1), ('model', 1), ('accounted', 1), ('utilizing', 1), ('an', 17), ('reduce', 1), ('self-pay', 1), ('Secondary', 1), ('confidence', 5), ('undergo', 1), ('hospitals', 3), ('APS', 4), ('has', 4), ('service,which', 1), ('56%', 1), ('adversely', 1), ('(0.87,', 1), ('registry', 1), ('Further', 2), ('extent', 1), ('love', 1), ('approach', 1), ('For', 4), ('evaluate', 1), ('future', 1), ('effects,', 1), ('center', 1), ('lower,', 1), ('beyond', 1), ('required', 3), ('relief', 1), ('chronic', 1), ('pain:', 1), ('test', 2), ('each', 3), ('3', 2), ('(n=1504),', 1), ('represents', 1), ('10,989', 1), ('classifiers', 5), ('95%', 6), ('techniques.', 1), ('vector', 1), ('would', 1), ('forecasting', 1), ('9,860', 1), ('American', 3), ('medicine', 4), ('years,', 1), ('k-nearest', 1), ('This', 8), ('alternative,', 1), ('for', 46), ('females.', 1), ('averages', 1), ('considerations', 1), ('ensuing', 1), ('0.007)', 1), ('Bayesian', 1), ('On', 1), ('produced', 1), ('measurements;', 1), ('6', 1), ('States,', 1), ('cases', 2), ('immune', 3), ('changes', 3), ('(SuPPR).', 1), ('0.024]', 1), ('nominated', 1), ('(0.0018', 1), ('regard', 1), ('outcomes.', 1), ('creating', 1), ('Request', 1), ('3.', 1), ('7293', 2), ('0.5', 1), ('nomenclature', 1), ('that', 15), ('programs.', 1), ('geographical', 1), ('decrease', 1), ('Twitter-based', 1), ('5', 6), ('repository.', 1), ('14.9%', 1), ('300,000', 1), ('2.62;', 1), ('aimed', 1), ('adults', 2), ('highly', 1), ('quality', 1), ('(NRS)', 1), ('algorithms', 3), ('effects', 1), ('statistics', 1), ('historical', 2), ('uniform,', 1), ('After', 1), ('course', 1), ('disease', 3), ('if', 2), ('overall', 1), ('development,', 1), ('1.19-2.91;', 1), ('June', 1), ('TOOLS/OUTCOMES:', 1), ('dimensional', 2), ('DESIGN:', 2), ('(0.45),', 1), ('placement.', 2), ('illness,', 1), ('Length', 1), ('(odds', 1), ('(IQR,', 1), ('(POD)', 2), ('supported', 1), ('mean', 1), ('practices,', 1), ('logistic', 1), ('musculoskeletal', 1), ('frequent', 1), ('procedures,', 2), ('treating', 1), ('unclear', 1), ('include', 2), ('research', 2), ('predicting', 2), ('variability', 2), ('Medicine', 1), ('peripheral', 2), ('younger', 3), ('SPE', 4), ('Clustering', 1), ('stratification,', 1), ('with', 31), ('PATIENTS:', 1), ('have', 3), ('Correlations', 1), ('(8', 1), ('also', 2), ('documented', 2), ('variability.', 1), ('(95%', 5), ('Tau-b', 2), ('did', 3), ('pattern.', 1), ('10.9', 1), ('APM.', 3), ('1,', 1), ('dissemination', 1), ('(interquartile', 1), ('proportion', 3), ('prolonged', 1), ('National', 2), ('panel', 3), ('successful', 1), ('investigated', 1), ('SuPPR', 5), ('subspecialty', 1), ('across', 3), ('SuPPR-5.', 1), ('U.', 1), ('patterns', 1), ('Pro-inflammatory', 1), ('year,', 1), ('which', 5), ('trauma.', 1), ('link', 1), ('points', 4), ('known', 2), ('be', 4), ('difference', 1), ('vital', 1), ('significant', 2), ('AND', 1), ('90', 1), ('preserved', 1), ('surgery.', 7), ('Prior', 2), ('impact', 1), ('[OR],', 1), ('field', 2), ('scope', 2), ('nursing', 1), ('Hospital', 1), ('training', 2), ('(FHP),', 1), ('odds', 3), ('explore', 4), ('structures', 1), ('1.86;', 1), ('organizational', 1), ('studies', 2), ('1.11-1.20)', 1), ('according', 2), ('Angeles,', 1), ('rely', 1), ('day,', 1), ('heterogeneous', 1), ('BACKGROUND:', 4), ('-0.044', 1), ('tweets.', 1), ('(0.25).', 1), ('SuPPR-5', 3), ('SUBJECTS:', 1), ('begun', 1), ('per', 4), ('associated', 2), ('pre-intervention', 1), ('improved', 1), ('machine,', 1), ('interest', 1), ('collect', 1), ('accuracy', 1), ('SUMMARY:', 1), ('APM', 7), ('extended', 1), ('direct', 1), ('cities', 1), ('0.042', 1), ('0.048)', 1), ('end', 2), ('[CI],', 2), ('In', 5), ('individual', 1), ('Study', 1), ('block', 5), ('within', 4), ('two', 2), ('interindividual', 1), ('reduction', 3), ('correlations', 2), ('(APS)', 1), ('1600', 1), ('sessions', 1), ('average,', 1), ('older', 5), ('interval,', 1), ('gender,', 2), ('IL-5,', 1), ('9', 3), ('individuals.', 1), ('through', 10), ('comparison.', 1), ('-0.168)', 1), ('network,', 1), ('non-ambulatory,', 1), ('2.5;', 1), ('pressor', 1), ('identity', 1), ('collected', 4), ('consultations', 1), ('Los', 1), (\"don't\", 1), ('consultation.', 4), ('patient', 7), ('convey', 1), ('Next,', 1), ('underwent', 1), ('indwelling', 1), ('request', 2), ('seasonal', 1), ('(IL-4,', 1), ('-0.104', 1), ('geospatial', 2), ('control.', 1), ('metropolitan', 1), ('Overall,', 2), ('practice', 6), ('(22.45%)', 1), ('orthopedic', 5), ('IL-8)', 1), ('procedures.', 1), ('further', 1), ('reported', 2), ('0.0001)', 1), ('symptom,', 1), ('location.', 1), ('CI,', 4), ('a', 53), ('goals', 1), ('nonobstetric', 1), ('reflecting', 1), ('more', 4), ('using', 14), ('intrasurvey', 1), ('0.727.', 1), ('proposes', 1), ('online', 1), ('requiring', 1), ('leads', 1), ('Content', 1), ('pre-pain', 1), ('30,', 2), ('tool', 1), ('large', 1), ('2', 1), ('60,', 1), ('same', 1), ('3645', 1), ('role', 3), ('first', 5), ('Operator', 1), ('under', 3), ('2011', 1), ('analyses.', 1), ('hours', 5), ('demographics,', 2), ('integumentary', 1), ('well', 7), ('prior', 2), ('central', 1), ('systems,', 1), ('project', 2), ('factors', 3), ('cohort', 6), ('synthesized', 1), ('private', 1), ('CI:', 4), ('distances', 1), ('Female', 1), ('sample', 2), ('Dimensional', 2), ('0', 1), ('controlling', 3), ('subjects', 2), ('Analyses', 1), ('percentage', 1), ('cases.', 1), ('exhibited', 1), ('offer', 1), ('responses', 3), ('Taken', 2), ('slightly', 1), ('given', 1), ('professional', 1), ('adults)', 1), ('where', 1), ('comprehensive,multimodal,', 1), ('component', 2), ('(0.43),', 1), ('Absolute', 1), ('anatomic', 1), ('challenge', 1), ('facilitate', 2), ('Shrinkage', 1), ('demographic,', 1), ('yielded', 2), ('again', 1), ('tweets', 4), ('making', 1), ('discussion', 2), ('allocation', 1), ('stratification', 1), ('apple', 1), ('apple,', 1), ('minutes', 2), ('their', 5), ('OBJECTIVE/BACKGROUND:', 1), ('(P<0.0001).', 1), ('Despite', 1), ('ROC', 4), ('Lastly,', 1), ('merit-based', 1), ('accuracy,', 1), ('procedure,', 1), ('higher', 2), ('29%', 1), ('interval', 3), ('integral', 1), ('geospatially', 2), ('2010', 1), ('count', 2), ('administrators,', 1), ('may', 7), ('scores', 21), ('resident', 1), ('variables.', 1), ('OBJECTIVES:', 1), ('lowest', 1), ('Healthcare', 1), ('area', 3), ('vexing', 1), ('prediction.', 1), ('United', 5), ('Obama', 1), ('optimized', 2), ('Shared', 1), ('analyze', 1), ('need:', 1), ('evolving', 1), ('less', 1), ('term', 1), ('experienced', 1), ('positive', 3), ('of', 128), ('conditions', 1), ('task', 1), ('1.10-1.19).', 1), ('education', 2), ('indicates', 1), ('0.704.', 1), ('tree', 1), ('Emerging', 1), ('OBJECTIVE:', 3), ('Regional', 1), ('feature', 2), ('reduced', 1), ('measures', 1), ('included', 7), ('demonstrated', 1), ('applied.This', 1), ('its', 3), ('whether', 1), ('(0.26),', 1), ('show', 1), ('incidence', 4), ('actual', 1), ('focal', 1), ('charges', 2), ('autoregressive', 1), ('performance', 1), ('social', 4), ('(PACU)', 1), ('often', 1), ('then', 2), ('2.27;', 1), ('experience', 3), ('or', 9), ('geopolitical', 1), ('one', 1), ('1-year', 3), ('they', 1), ('toward', 1), ('weighted.', 1), ('1.01-6.21;', 1), ('INTRODUCTION:', 1), ('techniques', 1), ('combined', 1), ('integrated', 1), ('hospitals.', 2), ('tweeters.', 1), ('other', 1), ('circumstances', 1), ('pain', 64), ('scale,', 1), ('2)', 1), ('non-painful', 1), ('necessary', 1), ('learning', 3), ('TNF-alpha', 1), ('(PODs)', 1), ('systems.', 1), ('periods', 1), ('insurance', 1), ('statistically', 1), (\"Moran's\", 1), ('An', 1), ('optimal', 1), ('-0.054', 1), ('theory', 1), ('range', 1), ('maximum', 6), ('92.3%', 1), ('cold', 1), ('geographic', 3), ('throughout', 2), ('array', 1), ('meanings', 1), ('consistently', 1), ('thermal', 1), ('characteristics', 2), ('period.', 3), ('recovery', 2), ('1.74-2.96;', 1), ('application', 1), ('undergoing', 3), ('teams,', 1), ('age', 1), ('programs,', 1), ('and', 90), ('classification', 1), ('derived', 1), ('cities.', 1), ('outcome,', 1), ('nerve', 10), ('must', 2), ('between', 14), ('blocks.', 1), ('conducted', 1), ('females', 1), ('13%', 1), ('outcomes,', 1), ('focused', 1), ('surge', 1), ('electronic', 2), ('modern', 2), ('SuPPR-2', 4), ('-0.098)', 1), ('-0.110', 1), ('classifiers.', 1), ('account', 2), ('hour)', 1), ('1.', 1), ('There', 2), ('Classifiers', 2), ('etc.),', 1), ('sad', 1), ('female', 2), ('measured', 3), ('systems-level', 1), ('set,', 2), ('rates,', 1), ('observations', 2), ('University', 1), ('remains', 1), ('equivalent', 1), ('stake', 1), ('mixed-effects', 1), ('among', 3), ('subacute', 2), ('multidisciplinary', 2), ('recently', 1), ('tested', 3), ('8,332', 1), ('45,', 1), ('costs.', 1), ('NaiveBayesUpdateable', 1), ('likelihoods', 1), ('happy', 1), ('solution', 1), ('Manchester', 2), ('evaluating', 1), ('2006', 2), ('increased', 5), ('similar', 1), ('definitions', 2), ('observed', 1), ('when', 3), ('evolution', 3), ('implications', 2), ('lack', 1), ('population.', 1), ('recorded', 6), ('risk', 3), ('scale.', 1), ('explanations', 1), ('vs', 2), ('days', 1), ('approximately', 1), ('single,', 1), ('strong', 1), ('all', 5), ('common', 2), ('neighbor', 1), ('open-source', 1), ('IL,', 1), ('Obama.', 1), ('second', 1), ('(n=649).', 1), ('related', 1), ('important', 1), ('(0.4)', 1), ('cytokines', 2), ('third-party', 1), ('regression', 2), ('unobtrusively', 1), ('residents', 1), ('United,', 1), ('programs', 1), ('expanded', 1), ('CI', 1), ('pathways', 1), ('predict', 3), ('numerical', 2), ('Logistic', 1), ('teaching', 2), ('linear', 1), ('popularity', 1), ('simple', 1), ('education.', 1), ('neural', 1), ('episodes.', 1), ('from', 20), ('recovery,', 1), ('5.', 2), ('Maximum', 1), ('organization', 1), ('Cochran-Mantel-Haenszel', 1), ('e.g.,', 1), ('Group', 1), ('limiting', 1), ('Machine', 1), ('processing', 2), ('requirements', 3), ('sex', 4), ('posts', 1), ('SuPPR-3', 1), ('MEASURES:', 2), ('most', 1)])"
      ]
     },
     "execution_count": 18,
     "metadata": {},
     "output_type": "execute_result"
    }
   ],
   "source": [
    "wc = Counter(\" \".join(papers['abstract'].values.tolist()).split(\" \")).items()\n",
    "wc"
   ]
  },
  {
   "cell_type": "code",
   "execution_count": 50,
   "metadata": {
    "collapsed": false
   },
   "outputs": [
    {
     "data": {
      "text/plain": [
       "\"Always\"           1\n",
       "\"pain\"             1\n",
       "(0.0018            1\n",
       "(0.02              1\n",
       "(0.14),            1\n",
       "(0.25).            1\n",
       "(0.26),            1\n",
       "(0.4)              1\n",
       "(0.43),            1\n",
       "(0.45),            1\n",
       "(0.87,             1\n",
       "(2,                1\n",
       "(22.45%)           1\n",
       "(25.09%)           1\n",
       "(8                 1\n",
       "(91,708)           1\n",
       "(95%               5\n",
       "(99%               2\n",
       "(</=4/10).         1\n",
       "(APM)              1\n",
       "(APM),but          1\n",
       "(APS)              1\n",
       "(CPT),             1\n",
       "(FHP),             1\n",
       "(HCAHPS)           1\n",
       "(IL-4,             1\n",
       "(IQR,              1\n",
       "(LASSO),           1\n",
       "(NRS)              1\n",
       "(OR,               3\n",
       "                  ..\n",
       "versus             1\n",
       "vexing             1\n",
       "vital              1\n",
       "vs                 2\n",
       "warrants           1\n",
       "was               22\n",
       "we                 8\n",
       "weighted.          1\n",
       "well               7\n",
       "well-validated     1\n",
       "were              21\n",
       "what               1\n",
       "when               3\n",
       "where              1\n",
       "whether            1\n",
       "which              5\n",
       "widespread         1\n",
       "will               2\n",
       "with              31\n",
       "within             4\n",
       "without            1\n",
       "witnessed          1\n",
       "word               1\n",
       "work               4\n",
       "would              1\n",
       "year,              1\n",
       "years,             1\n",
       "yield              1\n",
       "yielded            2\n",
       "younger            3\n",
       "dtype: float64"
      ]
     },
     "execution_count": 50,
     "metadata": {},
     "output_type": "execute_result"
    }
   ],
   "source": [
    "#Count words\n",
    "papers.abstract.apply(lambda x: pd.value_counts(x.split(\" \"))).sum(axis=0)"
   ]
  },
  {
   "cell_type": "code",
   "execution_count": 52,
   "metadata": {
    "collapsed": false
   },
   "outputs": [
    {
     "data": {
      "text/plain": [
       "0     277\n",
       "1     223\n",
       "2     285\n",
       "3     263\n",
       "4     319\n",
       "5     297\n",
       "6     292\n",
       "7     228\n",
       "8     150\n",
       "9     305\n",
       "10    195\n",
       "11    286\n",
       "12    394\n",
       "Name: ta, dtype: int64"
      ]
     },
     "execution_count": 52,
     "metadata": {},
     "output_type": "execute_result"
    }
   ],
   "source": [
    "papers.ta.apply(lambda x: pd.value_counts(x).sum(axis=0))"
   ]
  },
  {
   "cell_type": "code",
   "execution_count": null,
   "metadata": {
    "collapsed": true
   },
   "outputs": [],
   "source": []
  }
 ],
 "metadata": {
  "kernelspec": {
   "display_name": "Python 3",
   "language": "python",
   "name": "python3"
  },
  "language_info": {
   "codemirror_mode": {
    "name": "ipython",
    "version": 3
   },
   "file_extension": ".py",
   "mimetype": "text/x-python",
   "name": "python",
   "nbconvert_exporter": "python",
   "pygments_lexer": "ipython3",
   "version": "3.5.1"
  }
 },
 "nbformat": 4,
 "nbformat_minor": 0
}
