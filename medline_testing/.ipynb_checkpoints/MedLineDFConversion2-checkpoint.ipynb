{
 "cells": [
  {
   "cell_type": "code",
   "execution_count": 35,
   "metadata": {
    "collapsed": true
   },
   "outputs": [],
   "source": [
    "#adapted from http://mlbernauer.com/R/20160131-document-retrieval-sklearn.html"
   ]
  },
  {
   "cell_type": "code",
   "execution_count": 36,
   "metadata": {
    "collapsed": false
   },
   "outputs": [],
   "source": [
    "import os\n",
    "import pandas as pd\n",
    "import sklearn\n",
    "import numpy as np\n",
    "\n",
    "import nltk\n",
    "import nltk.data\n",
    "from nltk.stem.snowball import SnowballStemmer\n",
    "from nltk.stem.wordnet import WordNetLemmatizer\n",
    "\n",
    "import re\n",
    "import string\n",
    "import time\n",
    "import codecs\n",
    "from Bio import Medline\n",
    "\n",
    "import gensim\n",
    "from gensim import corpora, models, similarities\n",
    "from collections import defaultdict"
   ]
  },
  {
   "cell_type": "code",
   "execution_count": 37,
   "metadata": {
    "collapsed": false
   },
   "outputs": [
    {
     "data": {
      "text/plain": [
       "'/Users/ptighe/Documents/Python Projects/AcutePainOntology/medline_testing'"
      ]
     },
     "execution_count": 37,
     "metadata": {},
     "output_type": "execute_result"
    }
   ],
   "source": [
    "os.getcwd()"
   ]
  },
  {
   "cell_type": "code",
   "execution_count": 38,
   "metadata": {
    "collapsed": true
   },
   "outputs": [],
   "source": [
    "path='pubmed_result_medline.txt'"
   ]
  },
  {
   "cell_type": "code",
   "execution_count": 39,
   "metadata": {
    "collapsed": true
   },
   "outputs": [],
   "source": [
    "#Taken directly from reference:"
   ]
  },
  {
   "cell_type": "code",
   "execution_count": 40,
   "metadata": {
    "collapsed": true
   },
   "outputs": [],
   "source": [
    "#Dictionary of medline terms: https://www.nlm.nih.gov/bsd/mms/medlineelements.html\n",
    "def read_medline_data(filename):\n",
    "    recs = Medline.parse(open(filename, 'r'))\n",
    "    text = pd.DataFrame(columns = [\"pmid\", \"articletitle\", \"journaltitle\", \"authors\", \"affiliation\", \"grant\",\n",
    "                                   \"abstract\", \"pubdate\"])\n",
    "    count = 0\n",
    "    for rec in recs:\n",
    "        try:\n",
    "            abstr = rec[\"AB\"]\n",
    "            atitle = rec[\"TI\"]\n",
    "            auths = rec[\"AU\"]\n",
    "            pubdate = rec[\"DP\"]\n",
    "            jtitle = rec[\"JT\"]\n",
    "            grant=rec[\"GR\"]\n",
    "            pmid = rec['PMID']\n",
    "            affil = rec['AD']\n",
    "            text = text.append(pd.DataFrame([[pmid,atitle, jtitle, auths, affil,grant, abstr,pubdate]],\n",
    "                                     columns=[\"pmid\", \"articletitle\", \"journaltitle\", \"authors\", \"affiliation\", \n",
    "                                              \"grant\", \"abstract\", \"pubdate\"]),ignore_index=True)            \n",
    "        except:\n",
    "            pass\n",
    "    return text"
   ]
  },
  {
   "cell_type": "code",
   "execution_count": 41,
   "metadata": {
    "collapsed": true
   },
   "outputs": [],
   "source": [
    "# Read in MEDLINE formatted text\n",
    "papers = read_medline_data(path)"
   ]
  },
  {
   "cell_type": "code",
   "execution_count": 42,
   "metadata": {
    "collapsed": false,
    "scrolled": false
   },
   "outputs": [
    {
     "data": {
      "text/plain": [
       "'BACKGROUND: Consensus indicates that a comprehensive,multimodal, holistic approach is foundational to the practice of acute pain medicine (APM),but lack of uniform, evidence-based clinical pathways leads to undesirable variability throughout U. S. healthcare systems. Acute pain studies are inconsistently synthesized to guide educational programs. Advanced practice techniques involving regional anesthesia assume the presence of a physician-led, multidisciplinary acute pain service,which is often unavailable or inconsistently applied.This heterogeneity of educational and organizational standards may result in unnecessary patient pain and escalation of healthcare costs. METHODS: A multidisciplinary panel was nominated through the APM Shared Interest Group of the American Academy of Pain Medicine. The panel met in Chicago, IL, in July 2014, to identify gaps and set priorities in APM research and education. RESULTS: The panel identified three areas of critical need: 1) an open-source acute pain data registry and clinical support tool to inform clinical decision making and resource allocation and to enhance research efforts; 2) a strong professional APM identity as an accredited subspecialty; and 3) educational goals targeted toward third-party payers,hospital administrators, and other key stake holders to convey the importance of APM. CONCLUSION: This report is the first step in a 3-year initiative aimed at creating conditions and incentives for the optimal provision of APM services to facilitate and enhance the quality of patient recovery after surgery, illness, or trauma. The ultimate goal is to reduce the conversion of acute pain to the debilitating disease of chronic pain.'"
      ]
     },
     "execution_count": 42,
     "metadata": {},
     "output_type": "execute_result"
    }
   ],
   "source": [
    "papers.loc[0,'abstract']"
   ]
  },
  {
   "cell_type": "code",
   "execution_count": 43,
   "metadata": {
    "collapsed": true
   },
   "outputs": [],
   "source": [
    "#Need to find a list of subheadings to remove?\n",
    "\n",
    "shp = re.compile(r'^[A-Z\\d]+$')\n",
    "\n",
    "subheadings =[u\"OBJECTIVES:\", u\"OBJECTIVE:\", u\"AIMS:\", u\"OBJECTIVE/BACKGROUND:\",\n",
    "              u\"METHODS AND RESULTS:\", u\"CONCLUSIONS:\", u\"RESULTS:\", u\"METHODS:\", u\"INTRODUCTION:\", u\"BACKGROUND:\"]"
   ]
  },
  {
   "cell_type": "code",
   "execution_count": 44,
   "metadata": {
    "collapsed": false
   },
   "outputs": [],
   "source": [
    "#Now some items for cleaning the abstract text\n",
    "from nltk.corpus import stopwords\n",
    "stoplist = stopwords.words('english')\n",
    "stoplist.extend(['\\x0c', '\\n'])\n",
    "subheadings =[u\"OBJECTIVES:\", u\"OBJECTIVE:\", u\"AIMS:\", u\"OBJECTIVE/BACKGROUND:\",\n",
    "              u\"METHODS AND RESULTS:\", u\"CONCLUSIONS:\", u\"RESULTS:\", u\"METHODS:\", u\"INTRODUCTION:\", u\"BACKGROUND:\"]"
   ]
  },
  {
   "cell_type": "code",
   "execution_count": 45,
   "metadata": {
    "collapsed": false
   },
   "outputs": [],
   "source": [
    "papers['split_abstract'] = papers['abstract'].str.split()\n",
    "papers['split_abstract'] = papers['split_abstract'].apply(lambda x: [item for item in x if item not in subheadings])\n",
    "papers['split_abstract'] = papers['split_abstract'].apply(lambda x: ' '.join(x).lower().split())\n",
    "papers['split_abstract'] = papers['split_abstract'].apply(lambda x: [item for item in x if item not in stoplist])"
   ]
  },
  {
   "cell_type": "code",
   "execution_count": 46,
   "metadata": {
    "collapsed": false,
    "scrolled": false
   },
   "outputs": [],
   "source": [
    "papers['cleaned_abstract']=papers['split_abstract'].apply(lambda x: ' '.join(x))\n",
    "papers['cleaned_abstract']=papers['cleaned_abstract'].str.replace(\"[^a-zA-Z]\",\" \").str.replace(\"\\s+\",\" \").str.strip()"
   ]
  },
  {
   "cell_type": "code",
   "execution_count": 47,
   "metadata": {
    "collapsed": false,
    "scrolled": false
   },
   "outputs": [
    {
     "data": {
      "text/plain": [
       "0     consensus indicates comprehensive multimodal h...\n",
       "1     older adults increased risk develop frequent p...\n",
       "2     prior work postoperative pain trajectories exa...\n",
       "3     given ability process highly dimensional datas...\n",
       "4     despite widespread popularity social media lit...\n",
       "5     objective study determine effects age sex type...\n",
       "6     prior work addressed sex differences incidence...\n",
       "7     although prior work investigated interplay dem...\n",
       "8     american academy pain medicine american societ...\n",
       "9     goal project explore association post anesthes...\n",
       "10    recent years field acute pain medicine apm wit...\n",
       "11    purpose project determine whether machine lear...\n",
       "12    although million patients united states underg...\n",
       "Name: cleaned_abstract, dtype: object"
      ]
     },
     "execution_count": 47,
     "metadata": {},
     "output_type": "execute_result"
    }
   ],
   "source": [
    "papers['cleaned_abstract']"
   ]
  },
  {
   "cell_type": "code",
   "execution_count": 87,
   "metadata": {
    "collapsed": false
   },
   "outputs": [],
   "source": [
    "#Can try this later\n",
    "stemmer = nltk.SnowballStemmer(\"english\")\n",
    "lemmer = nltk.WordNetLemmatizer()\n",
    "papers['stemab_p']= papers['cleaned_abstract'].str.split()\n",
    "papers['stemab']= papers['cleaned_abstract'].map(lambda x: lemmer.lemmatize(x))"
   ]
  },
  {
   "cell_type": "code",
   "execution_count": 88,
   "metadata": {
    "collapsed": false
   },
   "outputs": [
    {
     "data": {
      "text/plain": [
       "0     consensus indicates comprehensive multimodal h...\n",
       "1     older adults increased risk develop frequent p...\n",
       "2     prior work postoperative pain trajectories exa...\n",
       "3     given ability process highly dimensional datas...\n",
       "4     despite widespread popularity social media lit...\n",
       "5     objective study determine effects age sex type...\n",
       "6     prior work addressed sex differences incidence...\n",
       "7     although prior work investigated interplay dem...\n",
       "8     american academy pain medicine american societ...\n",
       "9     goal project explore association post anesthes...\n",
       "10    recent years field acute pain medicine apm wit...\n",
       "11    purpose project determine whether machine lear...\n",
       "12    although million patients united states underg...\n",
       "Name: stemab, dtype: object"
      ]
     },
     "execution_count": 88,
     "metadata": {},
     "output_type": "execute_result"
    }
   ],
   "source": [
    "papers['stemab']"
   ]
  },
  {
   "cell_type": "code",
   "execution_count": 233,
   "metadata": {
    "collapsed": false
   },
   "outputs": [
    {
     "data": {
      "text/plain": [
       "0     [consensus, indicates, comprehensive,multimoda...\n",
       "1     [older, adults, increased, risk, develop, freq...\n",
       "2     [prior, work, postoperative, pain, trajectorie...\n",
       "3     [given, ability, process, highly, dimensional,...\n",
       "4     [despite, widespread, popularity, social, medi...\n",
       "5     [objective, study, determine, effects, age,, s...\n",
       "6     [prior, work, addressed, sex, differences, inc...\n",
       "7     [although, prior, work, investigated, interpla...\n",
       "8     [american, academy, pain, medicine, american, ...\n",
       "9     [goal, project, explore, association, post-ane...\n",
       "10    [recent, years,, field, acute, pain, medicine,...\n",
       "11    [purpose, project, determine, whether, machine...\n",
       "12    [although, 30, million, patients, united, stat...\n",
       "Name: split_abstract, dtype: object"
      ]
     },
     "execution_count": 233,
     "metadata": {},
     "output_type": "execute_result"
    }
   ],
   "source": [
    "papers['split_abstract']"
   ]
  },
  {
   "cell_type": "code",
   "execution_count": 218,
   "metadata": {
    "collapsed": false,
    "scrolled": true
   },
   "outputs": [
    {
     "data": {
      "text/plain": [
       "0     consensus indicates comprehensive multimodal h...\n",
       "1     older adults increased risk develop frequent p...\n",
       "2     prior work postoperative pain trajectories exa...\n",
       "3     given ability process highly dimensional datas...\n",
       "4     despite widespread popularity social media lit...\n",
       "5     objective study determine effects age sex type...\n",
       "6     prior work addressed sex differences incidence...\n",
       "7     although prior work investigated interplay dem...\n",
       "8     american academy pain medicine american societ...\n",
       "9     goal project explore association post anesthes...\n",
       "10    recent years field acute pain medicine apm wit...\n",
       "11    purpose project determine whether machine lear...\n",
       "12    although million patients united states underg...\n",
       "Name: cleaned_abstract, dtype: object"
      ]
     },
     "execution_count": 218,
     "metadata": {},
     "output_type": "execute_result"
    }
   ],
   "source": [
    "papers['cleaned_abstract']"
   ]
  },
  {
   "cell_type": "code",
   "execution_count": null,
   "metadata": {
    "collapsed": true
   },
   "outputs": [],
   "source": []
  },
  {
   "cell_type": "code",
   "execution_count": null,
   "metadata": {
    "collapsed": true
   },
   "outputs": [],
   "source": []
  },
  {
   "cell_type": "code",
   "execution_count": null,
   "metadata": {
    "collapsed": true
   },
   "outputs": [],
   "source": []
  },
  {
   "cell_type": "code",
   "execution_count": 197,
   "metadata": {
    "collapsed": false
   },
   "outputs": [],
   "source": [
    "papers['split_articletitle'] = papers['articletitle'].str.split()\n",
    "papers['split_articletitle'] = papers['split_articletitle'].apply(lambda x: ' '.join(x).lower().split())\n",
    "papers['split_articletitle'] = papers['split_articletitle'].apply(lambda x: [item for item in x if item not in stoplist])\n",
    "papers['cleaned_articletitle']=papers['split_articletitle'].apply(lambda x: ' '.join(x))\n",
    "papers['cleaned_articletitle']=papers['cleaned_articletitle'].str.replace(\"[^a-zA-Z]\",\" \").str.replace(\"\\s\\s+\",\" \")"
   ]
  },
  {
   "cell_type": "code",
   "execution_count": 203,
   "metadata": {
    "collapsed": false,
    "scrolled": true
   },
   "outputs": [
    {
     "data": {
      "text/plain": [
       "0      acute pain medicine united states status report \n",
       "1     age differences cytokine expression conditions...\n",
       "2     time onset sustained postoperative pain relief...\n",
       "3     teaching machine feel postoperative pain combi...\n",
       "4     painful tweet text sentiment community structu...\n",
       "5     clinically derived early postoperative pain tr...\n",
       "6     sex differences incidence severe pain events f...\n",
       "7     geospatial analysis hospital consumer assessme...\n",
       "8                   acute pain medicine anesthesiology \n",
       "9     rough starts smooth finishes correlations post...\n",
       "10              evolution practice acute pain medicine \n",
       "11    use machine learning classifiers predict reque...\n",
       "12    primary payer status associated use nerve bloc...\n",
       "Name: cleaned_articletitle, dtype: object"
      ]
     },
     "execution_count": 203,
     "metadata": {},
     "output_type": "execute_result"
    }
   ],
   "source": [
    "papers['cleaned_articletitle']"
   ]
  },
  {
   "cell_type": "code",
   "execution_count": null,
   "metadata": {
    "collapsed": true
   },
   "outputs": [],
   "source": []
  },
  {
   "cell_type": "code",
   "execution_count": null,
   "metadata": {
    "collapsed": true
   },
   "outputs": [],
   "source": [
    "def pull_sentences(filename):\n",
    "    \"\"\"\n",
    "        Breaks abstract into sentences\n",
    "        \"\"\"\n",
    "\n",
    "    print \"\\nTokenizing abstract\\n\\n\"\n",
    "    tokenizer = nltk.data.load('tokenizers/punkt/english.pickle')\n",
    "    fp = open(filename)\n",
    "    data = fp.read()\n",
    "    return tokenizer.tokenize(data.decode('utf-8'))\n"
   ]
  },
  {
   "cell_type": "code",
   "execution_count": null,
   "metadata": {
    "collapsed": true
   },
   "outputs": [],
   "source": [
    "def create_word2vec_sentence(sentence_list, stoplist):\n",
    "    print \"\\nCreating word2vec sentences\\n\\n\"\n",
    "    retList = list()\n",
    "    toolbar_width = len(sentence_list)\n",
    "    for i, sentence in enumerate(sentence_list):\n",
    "\n",
    "        p = str((float(i+1)/toolbar_width)*100)[:4]\n",
    "        sys.stdout.write(\"\\r%s%%\" %p)\n",
    "        sys.stdout.flush()\n",
    "\n",
    "        sentLst = [x.strip(\",\").rstrip(\".\").strip(\":\").lower() for x in sentence.split(\" \") if x.strip(\",\").strip(\".\").strip(\":\").lower() not in stoplist]\n",
    "        retList.append(sentLst)\n",
    "    return retList"
   ]
  }
 ],
 "metadata": {
  "kernelspec": {
   "display_name": "Python 3",
   "language": "python",
   "name": "python3"
  },
  "language_info": {
   "codemirror_mode": {
    "name": "ipython",
    "version": 3
   },
   "file_extension": ".py",
   "mimetype": "text/x-python",
   "name": "python",
   "nbconvert_exporter": "python",
   "pygments_lexer": "ipython3",
   "version": "3.5.1"
  }
 },
 "nbformat": 4,
 "nbformat_minor": 0
}
