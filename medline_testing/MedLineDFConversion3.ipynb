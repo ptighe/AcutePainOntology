{
 "cells": [
  {
   "cell_type": "code",
   "execution_count": 35,
   "metadata": {
    "collapsed": true
   },
   "outputs": [],
   "source": [
    "#adapted from http://mlbernauer.com/R/20160131-document-retrieval-sklearn.html"
   ]
  },
  {
   "cell_type": "code",
   "execution_count": 152,
   "metadata": {
    "collapsed": false
   },
   "outputs": [],
   "source": [
    "import os\n",
    "import pandas as pd\n",
    "\n",
    "import sklearn\n",
    "from sklearn.feature_extraction.text import CountVectorizer\n",
    "from sklearn.feature_extraction.text import TfidfVectorizer\n",
    "from sklearn.metrics.pairwise import cosine_similarity\n",
    "\n",
    "from sklearn.cluster import KMeans\n",
    "from sklearn.externals import joblib\n",
    "\n",
    "import numpy as np\n",
    "\n",
    "%matplotlib inline\n",
    "import matplotlib.pyplot as plt\n",
    "\n",
    "import seaborn as sns\n",
    "\n",
    "import nltk\n",
    "import nltk.data\n",
    "from nltk.stem.snowball import SnowballStemmer\n",
    "from nltk.stem.wordnet import WordNetLemmatizer\n",
    "\n",
    "import re\n",
    "import string\n",
    "import time\n",
    "import codecs\n",
    "from Bio import Medline\n",
    "\n",
    "import gensim\n",
    "from gensim import corpora, models, similarities\n",
    "from collections import defaultdict"
   ]
  },
  {
   "cell_type": "code",
   "execution_count": 2,
   "metadata": {
    "collapsed": false
   },
   "outputs": [
    {
     "data": {
      "text/plain": [
       "'/Users/ptighe/Documents/Python Projects/AcutePainOntology/medline_testing'"
      ]
     },
     "execution_count": 2,
     "metadata": {},
     "output_type": "execute_result"
    }
   ],
   "source": [
    "os.getcwd()"
   ]
  },
  {
   "cell_type": "code",
   "execution_count": 3,
   "metadata": {
    "collapsed": true
   },
   "outputs": [],
   "source": [
    "path='pubmed_result_medline.txt'"
   ]
  },
  {
   "cell_type": "code",
   "execution_count": 4,
   "metadata": {
    "collapsed": true
   },
   "outputs": [],
   "source": [
    "#Taken directly from reference:"
   ]
  },
  {
   "cell_type": "code",
   "execution_count": 5,
   "metadata": {
    "collapsed": true
   },
   "outputs": [],
   "source": [
    "#Dictionary of medline terms: https://www.nlm.nih.gov/bsd/mms/medlineelements.html\n",
    "def read_medline_data(filename):\n",
    "    recs = Medline.parse(open(filename, 'r'))\n",
    "    text = pd.DataFrame(columns = [\"pmid\", \"articletitle\", \"journaltitle\", \"authors\", \"affiliation\", \"grant\",\n",
    "                                   \"abstract\", \"pubdate\"])\n",
    "    count = 0\n",
    "    for rec in recs:\n",
    "        try:\n",
    "            abstr = rec[\"AB\"]\n",
    "            atitle = rec[\"TI\"]\n",
    "            auths = rec[\"AU\"]\n",
    "            pubdate = rec[\"DP\"]\n",
    "            jtitle = rec[\"JT\"]\n",
    "            grant=rec[\"GR\"]\n",
    "            pmid = rec['PMID']\n",
    "            affil = rec['AD']\n",
    "            text = text.append(pd.DataFrame([[pmid,atitle, jtitle, auths, affil,grant, abstr,pubdate]],\n",
    "                                     columns=[\"pmid\", \"articletitle\", \"journaltitle\", \"authors\", \"affiliation\", \n",
    "                                              \"grant\", \"abstract\", \"pubdate\"]),ignore_index=True)            \n",
    "        except:\n",
    "            pass\n",
    "    return text"
   ]
  },
  {
   "cell_type": "code",
   "execution_count": 6,
   "metadata": {
    "collapsed": true
   },
   "outputs": [],
   "source": [
    "# Read in MEDLINE formatted text\n",
    "papers = read_medline_data(path)"
   ]
  },
  {
   "cell_type": "code",
   "execution_count": 7,
   "metadata": {
    "collapsed": false,
    "scrolled": false
   },
   "outputs": [
    {
     "data": {
      "text/plain": [
       "'BACKGROUND: Consensus indicates that a comprehensive,multimodal, holistic approach is foundational to the practice of acute pain medicine (APM),but lack of uniform, evidence-based clinical pathways leads to undesirable variability throughout U. S. healthcare systems. Acute pain studies are inconsistently synthesized to guide educational programs. Advanced practice techniques involving regional anesthesia assume the presence of a physician-led, multidisciplinary acute pain service,which is often unavailable or inconsistently applied.This heterogeneity of educational and organizational standards may result in unnecessary patient pain and escalation of healthcare costs. METHODS: A multidisciplinary panel was nominated through the APM Shared Interest Group of the American Academy of Pain Medicine. The panel met in Chicago, IL, in July 2014, to identify gaps and set priorities in APM research and education. RESULTS: The panel identified three areas of critical need: 1) an open-source acute pain data registry and clinical support tool to inform clinical decision making and resource allocation and to enhance research efforts; 2) a strong professional APM identity as an accredited subspecialty; and 3) educational goals targeted toward third-party payers,hospital administrators, and other key stake holders to convey the importance of APM. CONCLUSION: This report is the first step in a 3-year initiative aimed at creating conditions and incentives for the optimal provision of APM services to facilitate and enhance the quality of patient recovery after surgery, illness, or trauma. The ultimate goal is to reduce the conversion of acute pain to the debilitating disease of chronic pain.'"
      ]
     },
     "execution_count": 7,
     "metadata": {},
     "output_type": "execute_result"
    }
   ],
   "source": [
    "papers.loc[0,'abstract']"
   ]
  },
  {
   "cell_type": "code",
   "execution_count": 8,
   "metadata": {
    "collapsed": true
   },
   "outputs": [],
   "source": [
    "#Need to find a list of subheadings to remove?\n",
    "\n",
    "shp = re.compile(r'^[A-Z\\d]+$')\n",
    "\n",
    "subheadings =[u\"OBJECTIVES:\", u\"OBJECTIVE:\", u\"AIMS:\", u\"OBJECTIVE/BACKGROUND:\",\n",
    "              u\"METHODS AND RESULTS:\", u\"CONCLUSIONS:\", u\"RESULTS:\", u\"METHODS:\", u\"INTRODUCTION:\", u\"BACKGROUND:\"]"
   ]
  },
  {
   "cell_type": "code",
   "execution_count": 9,
   "metadata": {
    "collapsed": false
   },
   "outputs": [],
   "source": [
    "#Now some items for cleaning the abstract text\n",
    "from nltk.corpus import stopwords\n",
    "stoplist = stopwords.words('english')\n",
    "stoplist.extend(['\\x0c', '\\n'])\n",
    "subheadings =[u\"OBJECTIVES:\", u\"OBJECTIVE:\", u\"AIMS:\", u\"OBJECTIVE/BACKGROUND:\",\n",
    "              u\"METHODS AND RESULTS:\", u\"CONCLUSIONS:\", u\"RESULTS:\", u\"METHODS:\", u\"INTRODUCTION:\", u\"BACKGROUND:\"]"
   ]
  },
  {
   "cell_type": "code",
   "execution_count": 10,
   "metadata": {
    "collapsed": false
   },
   "outputs": [],
   "source": [
    "papers['split_abstract'] = papers['abstract'].str.split()\n",
    "papers['split_abstract'] = papers['split_abstract'].apply(lambda x: [item for item in x if item not in subheadings])\n",
    "papers['split_abstract'] = papers['split_abstract'].apply(lambda x: ' '.join(x).lower().split())\n",
    "papers['split_abstract'] = papers['split_abstract'].apply(lambda x: [item for item in x if item not in stoplist])"
   ]
  },
  {
   "cell_type": "code",
   "execution_count": 11,
   "metadata": {
    "collapsed": false,
    "scrolled": false
   },
   "outputs": [],
   "source": [
    "papers['cleaned_abstract']=papers['split_abstract'].apply(lambda x: ' '.join(x))\n",
    "papers['cleaned_abstract']=papers['cleaned_abstract'].str.replace(\"[^a-zA-Z]\",\" \").str.replace(\"\\s+\",\" \").str.strip()"
   ]
  },
  {
   "cell_type": "code",
   "execution_count": 12,
   "metadata": {
    "collapsed": false,
    "scrolled": false
   },
   "outputs": [
    {
     "data": {
      "text/plain": [
       "0     consensus indicates comprehensive multimodal h...\n",
       "1     older adults increased risk develop frequent p...\n",
       "2     prior work postoperative pain trajectories exa...\n",
       "3     given ability process highly dimensional datas...\n",
       "4     despite widespread popularity social media lit...\n",
       "5     objective study determine effects age sex type...\n",
       "6     prior work addressed sex differences incidence...\n",
       "7     although prior work investigated interplay dem...\n",
       "8     american academy pain medicine american societ...\n",
       "9     goal project explore association post anesthes...\n",
       "10    recent years field acute pain medicine apm wit...\n",
       "11    purpose project determine whether machine lear...\n",
       "12    although million patients united states underg...\n",
       "Name: cleaned_abstract, dtype: object"
      ]
     },
     "execution_count": 12,
     "metadata": {},
     "output_type": "execute_result"
    }
   ],
   "source": [
    "papers['cleaned_abstract']"
   ]
  },
  {
   "cell_type": "code",
   "execution_count": 13,
   "metadata": {
    "collapsed": false
   },
   "outputs": [],
   "source": [
    "papers['split_articletitle'] = papers['articletitle'].str.split()\n",
    "papers['split_articletitle'] = papers['split_articletitle'].apply(lambda x: ' '.join(x).lower().split())\n",
    "papers['split_articletitle'] = papers['split_articletitle'].apply(lambda x: [item for item in x if item not in stoplist])\n",
    "papers['cleaned_articletitle']=papers['split_articletitle'].apply(lambda x: ' '.join(x))\n",
    "papers['cleaned_articletitle']=papers['cleaned_articletitle'].str.replace(\"[^a-zA-Z]\",\" \").str.replace(\"\\s\\s+\",\" \")"
   ]
  },
  {
   "cell_type": "code",
   "execution_count": 14,
   "metadata": {
    "collapsed": false,
    "scrolled": true
   },
   "outputs": [
    {
     "data": {
      "text/plain": [
       "0      acute pain medicine united states status report \n",
       "1     age differences cytokine expression conditions...\n",
       "2     time onset sustained postoperative pain relief...\n",
       "3     teaching machine feel postoperative pain combi...\n",
       "4     painful tweet text sentiment community structu...\n",
       "5     clinically derived early postoperative pain tr...\n",
       "6     sex differences incidence severe pain events f...\n",
       "7     geospatial analysis hospital consumer assessme...\n",
       "8                   acute pain medicine anesthesiology \n",
       "9     rough starts smooth finishes correlations post...\n",
       "10              evolution practice acute pain medicine \n",
       "11    use machine learning classifiers predict reque...\n",
       "12    primary payer status associated use nerve bloc...\n",
       "Name: cleaned_articletitle, dtype: object"
      ]
     },
     "execution_count": 14,
     "metadata": {},
     "output_type": "execute_result"
    }
   ],
   "source": [
    "papers['cleaned_articletitle']"
   ]
  },
  {
   "cell_type": "code",
   "execution_count": 15,
   "metadata": {
    "collapsed": false
   },
   "outputs": [
    {
     "data": {
      "text/plain": [
       "0     [BACKGROUND, :, Consensus, indicates, that, a,...\n",
       "1     [Older, adults, are, at, an, increased, risk, ...\n",
       "2     [OBJECTIVES, :, Prior, work, on, postoperative...\n",
       "3     [BACKGROUND, :, Given, their, ability, to, pro...\n",
       "4     [BACKGROUND, :, Despite, the, widespread, popu...\n",
       "5     [The, objective, of, this, study, was, to, det...\n",
       "6     [OBJECTIVE/BACKGROUND, :, Prior, work, has, no...\n",
       "7     [Although, prior, work, has, investigated, the...\n",
       "8     [The, American, Academy, of, Pain, Medicine, a...\n",
       "9     [OBJECTIVE, :, The, goal, of, this, project, w...\n",
       "10    [BACKGROUND, :, In, recent, years, ,, the, fie...\n",
       "11    [OBJECTIVE, :, The, purpose, of, this, project...\n",
       "12    [INTRODUCTION, :, Although, more, than, 30, mi...\n",
       "Name: ra_tokens, dtype: object"
      ]
     },
     "execution_count": 15,
     "metadata": {},
     "output_type": "execute_result"
    }
   ],
   "source": [
    "papers['ca_tokens'] =papers['cleaned_abstract'].map(lambda text: nltk.tokenize.word_tokenize(text))\n",
    "papers['ra_tokens'] =papers['abstract'].map(lambda text: nltk.tokenize.word_tokenize(text))\n",
    "papers['ra_tokens']\n"
   ]
  },
  {
   "cell_type": "code",
   "execution_count": 16,
   "metadata": {
    "collapsed": false
   },
   "outputs": [
    {
     "data": {
      "text/plain": [
       "<matplotlib.axes._subplots.AxesSubplot at 0x11ae50e10>"
      ]
     },
     "execution_count": 16,
     "metadata": {},
     "output_type": "execute_result"
    },
    {
     "data": {
      "image/png": "[encoded data removed]",
      "text/plain": [
       "<matplotlib.figure.Figure at 0x118b5a5c0>"
      ]
     },
     "metadata": {},
     "output_type": "display_data"
    }
   ],
   "source": [
    "#These give token counts\n",
    "papers['rabs_length'] =papers['ra_tokens'].map(lambda text: len(text))\n",
    "papers['cabs_length'] =papers['ca_tokens'].map(lambda text: len(text))\n",
    "papers.rabs_length.plot(bins=5, kind='hist', color='r')\n",
    "papers.cabs_length.plot(bins=5, kind='hist')"
   ]
  },
  {
   "cell_type": "code",
   "execution_count": 17,
   "metadata": {
    "collapsed": false
   },
   "outputs": [
    {
     "data": {
      "text/plain": [
       "0     137\n",
       "1      83\n",
       "2      88\n",
       "3      90\n",
       "4     101\n",
       "5      95\n",
       "6      96\n",
       "7      94\n",
       "8      68\n",
       "9      91\n",
       "10     83\n",
       "11    105\n",
       "12    109\n",
       "Name: cabs_u_length, dtype: int64"
      ]
     },
     "execution_count": 17,
     "metadata": {},
     "output_type": "execute_result"
    }
   ],
   "source": [
    "papers['cabs_u_length'] =papers['ca_tokens'].map(lambda text: len(set(text)))\n",
    "papers['cabs_u_length']"
   ]
  },
  {
   "cell_type": "code",
   "execution_count": 18,
   "metadata": {
    "collapsed": false
   },
   "outputs": [],
   "source": [
    "fd = papers['ca_tokens'].map(lambda text: nltk.FreqDist(text))\n"
   ]
  },
  {
   "cell_type": "markdown",
   "metadata": {},
   "source": [
    "## Identify the most common terms in the cleaned abstract using the ca_tdm\n"
   ]
  },
  {
   "cell_type": "code",
   "execution_count": 121,
   "metadata": {
    "collapsed": true
   },
   "outputs": [],
   "source": [
    "#Word counts and such using CountVectorizer from https://www.kaggle.com/c/word2vec-nlp-tutorial/details/part-1-for-beginners-bag-of-words\n",
    "\n",
    "cvec = CountVectorizer(analyzer = \"word\",   \\\n",
    "                             tokenizer = None,    \\\n",
    "                             preprocessor = None, \\\n",
    "                             stop_words = None,   \\\n",
    "                             max_features = 100000,\\\n",
    "                              ngram_range=(1,3)) "
   ]
  },
  {
   "cell_type": "code",
   "execution_count": 122,
   "metadata": {
    "collapsed": false
   },
   "outputs": [
    {
     "name": "stdout",
     "output_type": "stream",
     "text": [
      "The nuts of bolts of the CountVectorizer is:  CountVectorizer(analyzer='word', binary=False, decode_error='strict',\n",
      "        dtype=<class 'numpy.int64'>, encoding='utf-8', input='content',\n",
      "        lowercase=True, max_df=1.0, max_features=100000, min_df=1,\n",
      "        ngram_range=(1, 3), preprocessor=None, stop_words=None,\n",
      "        strip_accents=None, token_pattern='(?u)\\\\b\\\\w\\\\w+\\\\b',\n",
      "        tokenizer=None, vocabulary=None) \n",
      "\n",
      "The shape of the CountVectorizer array is: (13, 4089) \n",
      "\n"
     ]
    }
   ],
   "source": [
    "train_data_features = cvec.fit_transform(papers['cleaned_abstract'])\n",
    "train_data_features = train_data_features.toarray()\n",
    "print ('The nuts of bolts of the CountVectorizer is: ',cvec,'\\n')\n",
    "print ('The shape of the CountVectorizer array is:', train_data_features.shape,'\\n')"
   ]
  },
  {
   "cell_type": "code",
   "execution_count": 124,
   "metadata": {
    "collapsed": false
   },
   "outputs": [
    {
     "data": {
      "text/html": [
       "<div>\n",
       "<table border=\"1\" class=\"dataframe\">\n",
       "  <thead>\n",
       "    <tr style=\"text-align: right;\">\n",
       "      <th></th>\n",
       "      <th>ability</th>\n",
       "      <th>ability forecast</th>\n",
       "      <th>ability forecast moderate</th>\n",
       "      <th>ability inability</th>\n",
       "      <th>ability inability classify</th>\n",
       "      <th>ability process</th>\n",
       "      <th>ability process highly</th>\n",
       "      <th>absolute</th>\n",
       "      <th>absolute shrinkage</th>\n",
       "      <th>absolute shrinkage selection</th>\n",
       "      <th>...</th>\n",
       "      <th>yielded highest area</th>\n",
       "      <th>yielded odds</th>\n",
       "      <th>yielded odds ratio</th>\n",
       "      <th>younger</th>\n",
       "      <th>younger individuals</th>\n",
       "      <th>younger individuals study</th>\n",
       "      <th>younger older</th>\n",
       "      <th>younger older healthy</th>\n",
       "      <th>younger patients</th>\n",
       "      <th>younger patients pain</th>\n",
       "    </tr>\n",
       "  </thead>\n",
       "  <tbody>\n",
       "    <tr>\n",
       "      <th>0</th>\n",
       "      <td>0</td>\n",
       "      <td>0</td>\n",
       "      <td>0</td>\n",
       "      <td>0</td>\n",
       "      <td>0</td>\n",
       "      <td>0</td>\n",
       "      <td>0</td>\n",
       "      <td>0</td>\n",
       "      <td>0</td>\n",
       "      <td>0</td>\n",
       "      <td>...</td>\n",
       "      <td>0</td>\n",
       "      <td>0</td>\n",
       "      <td>0</td>\n",
       "      <td>0</td>\n",
       "      <td>0</td>\n",
       "      <td>0</td>\n",
       "      <td>0</td>\n",
       "      <td>0</td>\n",
       "      <td>0</td>\n",
       "      <td>0</td>\n",
       "    </tr>\n",
       "    <tr>\n",
       "      <th>1</th>\n",
       "      <td>0</td>\n",
       "      <td>0</td>\n",
       "      <td>0</td>\n",
       "      <td>0</td>\n",
       "      <td>0</td>\n",
       "      <td>0</td>\n",
       "      <td>0</td>\n",
       "      <td>0</td>\n",
       "      <td>0</td>\n",
       "      <td>0</td>\n",
       "      <td>...</td>\n",
       "      <td>0</td>\n",
       "      <td>0</td>\n",
       "      <td>0</td>\n",
       "      <td>2</td>\n",
       "      <td>1</td>\n",
       "      <td>1</td>\n",
       "      <td>1</td>\n",
       "      <td>1</td>\n",
       "      <td>0</td>\n",
       "      <td>0</td>\n",
       "    </tr>\n",
       "    <tr>\n",
       "      <th>2</th>\n",
       "      <td>0</td>\n",
       "      <td>0</td>\n",
       "      <td>0</td>\n",
       "      <td>0</td>\n",
       "      <td>0</td>\n",
       "      <td>0</td>\n",
       "      <td>0</td>\n",
       "      <td>0</td>\n",
       "      <td>0</td>\n",
       "      <td>0</td>\n",
       "      <td>...</td>\n",
       "      <td>0</td>\n",
       "      <td>0</td>\n",
       "      <td>0</td>\n",
       "      <td>0</td>\n",
       "      <td>0</td>\n",
       "      <td>0</td>\n",
       "      <td>0</td>\n",
       "      <td>0</td>\n",
       "      <td>0</td>\n",
       "      <td>0</td>\n",
       "    </tr>\n",
       "    <tr>\n",
       "      <th>3</th>\n",
       "      <td>2</td>\n",
       "      <td>1</td>\n",
       "      <td>1</td>\n",
       "      <td>0</td>\n",
       "      <td>0</td>\n",
       "      <td>1</td>\n",
       "      <td>1</td>\n",
       "      <td>1</td>\n",
       "      <td>1</td>\n",
       "      <td>1</td>\n",
       "      <td>...</td>\n",
       "      <td>0</td>\n",
       "      <td>0</td>\n",
       "      <td>0</td>\n",
       "      <td>0</td>\n",
       "      <td>0</td>\n",
       "      <td>0</td>\n",
       "      <td>0</td>\n",
       "      <td>0</td>\n",
       "      <td>0</td>\n",
       "      <td>0</td>\n",
       "    </tr>\n",
       "    <tr>\n",
       "      <th>4</th>\n",
       "      <td>0</td>\n",
       "      <td>0</td>\n",
       "      <td>0</td>\n",
       "      <td>0</td>\n",
       "      <td>0</td>\n",
       "      <td>0</td>\n",
       "      <td>0</td>\n",
       "      <td>0</td>\n",
       "      <td>0</td>\n",
       "      <td>0</td>\n",
       "      <td>...</td>\n",
       "      <td>0</td>\n",
       "      <td>0</td>\n",
       "      <td>0</td>\n",
       "      <td>0</td>\n",
       "      <td>0</td>\n",
       "      <td>0</td>\n",
       "      <td>0</td>\n",
       "      <td>0</td>\n",
       "      <td>0</td>\n",
       "      <td>0</td>\n",
       "    </tr>\n",
       "    <tr>\n",
       "      <th>5</th>\n",
       "      <td>0</td>\n",
       "      <td>0</td>\n",
       "      <td>0</td>\n",
       "      <td>0</td>\n",
       "      <td>0</td>\n",
       "      <td>0</td>\n",
       "      <td>0</td>\n",
       "      <td>0</td>\n",
       "      <td>0</td>\n",
       "      <td>0</td>\n",
       "      <td>...</td>\n",
       "      <td>0</td>\n",
       "      <td>0</td>\n",
       "      <td>0</td>\n",
       "      <td>1</td>\n",
       "      <td>0</td>\n",
       "      <td>0</td>\n",
       "      <td>0</td>\n",
       "      <td>0</td>\n",
       "      <td>1</td>\n",
       "      <td>1</td>\n",
       "    </tr>\n",
       "    <tr>\n",
       "      <th>6</th>\n",
       "      <td>0</td>\n",
       "      <td>0</td>\n",
       "      <td>0</td>\n",
       "      <td>0</td>\n",
       "      <td>0</td>\n",
       "      <td>0</td>\n",
       "      <td>0</td>\n",
       "      <td>0</td>\n",
       "      <td>0</td>\n",
       "      <td>0</td>\n",
       "      <td>...</td>\n",
       "      <td>0</td>\n",
       "      <td>1</td>\n",
       "      <td>1</td>\n",
       "      <td>0</td>\n",
       "      <td>0</td>\n",
       "      <td>0</td>\n",
       "      <td>0</td>\n",
       "      <td>0</td>\n",
       "      <td>0</td>\n",
       "      <td>0</td>\n",
       "    </tr>\n",
       "    <tr>\n",
       "      <th>7</th>\n",
       "      <td>0</td>\n",
       "      <td>0</td>\n",
       "      <td>0</td>\n",
       "      <td>0</td>\n",
       "      <td>0</td>\n",
       "      <td>0</td>\n",
       "      <td>0</td>\n",
       "      <td>0</td>\n",
       "      <td>0</td>\n",
       "      <td>0</td>\n",
       "      <td>...</td>\n",
       "      <td>0</td>\n",
       "      <td>0</td>\n",
       "      <td>0</td>\n",
       "      <td>0</td>\n",
       "      <td>0</td>\n",
       "      <td>0</td>\n",
       "      <td>0</td>\n",
       "      <td>0</td>\n",
       "      <td>0</td>\n",
       "      <td>0</td>\n",
       "    </tr>\n",
       "    <tr>\n",
       "      <th>8</th>\n",
       "      <td>0</td>\n",
       "      <td>0</td>\n",
       "      <td>0</td>\n",
       "      <td>0</td>\n",
       "      <td>0</td>\n",
       "      <td>0</td>\n",
       "      <td>0</td>\n",
       "      <td>0</td>\n",
       "      <td>0</td>\n",
       "      <td>0</td>\n",
       "      <td>...</td>\n",
       "      <td>0</td>\n",
       "      <td>0</td>\n",
       "      <td>0</td>\n",
       "      <td>0</td>\n",
       "      <td>0</td>\n",
       "      <td>0</td>\n",
       "      <td>0</td>\n",
       "      <td>0</td>\n",
       "      <td>0</td>\n",
       "      <td>0</td>\n",
       "    </tr>\n",
       "    <tr>\n",
       "      <th>9</th>\n",
       "      <td>0</td>\n",
       "      <td>0</td>\n",
       "      <td>0</td>\n",
       "      <td>0</td>\n",
       "      <td>0</td>\n",
       "      <td>0</td>\n",
       "      <td>0</td>\n",
       "      <td>0</td>\n",
       "      <td>0</td>\n",
       "      <td>0</td>\n",
       "      <td>...</td>\n",
       "      <td>0</td>\n",
       "      <td>0</td>\n",
       "      <td>0</td>\n",
       "      <td>0</td>\n",
       "      <td>0</td>\n",
       "      <td>0</td>\n",
       "      <td>0</td>\n",
       "      <td>0</td>\n",
       "      <td>0</td>\n",
       "      <td>0</td>\n",
       "    </tr>\n",
       "    <tr>\n",
       "      <th>10</th>\n",
       "      <td>0</td>\n",
       "      <td>0</td>\n",
       "      <td>0</td>\n",
       "      <td>0</td>\n",
       "      <td>0</td>\n",
       "      <td>0</td>\n",
       "      <td>0</td>\n",
       "      <td>0</td>\n",
       "      <td>0</td>\n",
       "      <td>0</td>\n",
       "      <td>...</td>\n",
       "      <td>0</td>\n",
       "      <td>0</td>\n",
       "      <td>0</td>\n",
       "      <td>0</td>\n",
       "      <td>0</td>\n",
       "      <td>0</td>\n",
       "      <td>0</td>\n",
       "      <td>0</td>\n",
       "      <td>0</td>\n",
       "      <td>0</td>\n",
       "    </tr>\n",
       "    <tr>\n",
       "      <th>11</th>\n",
       "      <td>1</td>\n",
       "      <td>0</td>\n",
       "      <td>0</td>\n",
       "      <td>1</td>\n",
       "      <td>1</td>\n",
       "      <td>0</td>\n",
       "      <td>0</td>\n",
       "      <td>0</td>\n",
       "      <td>0</td>\n",
       "      <td>0</td>\n",
       "      <td>...</td>\n",
       "      <td>1</td>\n",
       "      <td>0</td>\n",
       "      <td>0</td>\n",
       "      <td>0</td>\n",
       "      <td>0</td>\n",
       "      <td>0</td>\n",
       "      <td>0</td>\n",
       "      <td>0</td>\n",
       "      <td>0</td>\n",
       "      <td>0</td>\n",
       "    </tr>\n",
       "    <tr>\n",
       "      <th>12</th>\n",
       "      <td>0</td>\n",
       "      <td>0</td>\n",
       "      <td>0</td>\n",
       "      <td>0</td>\n",
       "      <td>0</td>\n",
       "      <td>0</td>\n",
       "      <td>0</td>\n",
       "      <td>0</td>\n",
       "      <td>0</td>\n",
       "      <td>0</td>\n",
       "      <td>...</td>\n",
       "      <td>0</td>\n",
       "      <td>0</td>\n",
       "      <td>0</td>\n",
       "      <td>0</td>\n",
       "      <td>0</td>\n",
       "      <td>0</td>\n",
       "      <td>0</td>\n",
       "      <td>0</td>\n",
       "      <td>0</td>\n",
       "      <td>0</td>\n",
       "    </tr>\n",
       "  </tbody>\n",
       "</table>\n",
       "<p>13 rows × 4089 columns</p>\n",
       "</div>"
      ],
      "text/plain": [
       "    ability  ability forecast  ability forecast moderate  ability inability  \\\n",
       "0         0                 0                          0                  0   \n",
       "1         0                 0                          0                  0   \n",
       "2         0                 0                          0                  0   \n",
       "3         2                 1                          1                  0   \n",
       "4         0                 0                          0                  0   \n",
       "5         0                 0                          0                  0   \n",
       "6         0                 0                          0                  0   \n",
       "7         0                 0                          0                  0   \n",
       "8         0                 0                          0                  0   \n",
       "9         0                 0                          0                  0   \n",
       "10        0                 0                          0                  0   \n",
       "11        1                 0                          0                  1   \n",
       "12        0                 0                          0                  0   \n",
       "\n",
       "    ability inability classify  ability process  ability process highly  \\\n",
       "0                            0                0                       0   \n",
       "1                            0                0                       0   \n",
       "2                            0                0                       0   \n",
       "3                            0                1                       1   \n",
       "4                            0                0                       0   \n",
       "5                            0                0                       0   \n",
       "6                            0                0                       0   \n",
       "7                            0                0                       0   \n",
       "8                            0                0                       0   \n",
       "9                            0                0                       0   \n",
       "10                           0                0                       0   \n",
       "11                           1                0                       0   \n",
       "12                           0                0                       0   \n",
       "\n",
       "    absolute  absolute shrinkage  absolute shrinkage selection  \\\n",
       "0          0                   0                             0   \n",
       "1          0                   0                             0   \n",
       "2          0                   0                             0   \n",
       "3          1                   1                             1   \n",
       "4          0                   0                             0   \n",
       "5          0                   0                             0   \n",
       "6          0                   0                             0   \n",
       "7          0                   0                             0   \n",
       "8          0                   0                             0   \n",
       "9          0                   0                             0   \n",
       "10         0                   0                             0   \n",
       "11         0                   0                             0   \n",
       "12         0                   0                             0   \n",
       "\n",
       "            ...            yielded highest area  yielded odds  \\\n",
       "0           ...                               0             0   \n",
       "1           ...                               0             0   \n",
       "2           ...                               0             0   \n",
       "3           ...                               0             0   \n",
       "4           ...                               0             0   \n",
       "5           ...                               0             0   \n",
       "6           ...                               0             1   \n",
       "7           ...                               0             0   \n",
       "8           ...                               0             0   \n",
       "9           ...                               0             0   \n",
       "10          ...                               0             0   \n",
       "11          ...                               1             0   \n",
       "12          ...                               0             0   \n",
       "\n",
       "    yielded odds ratio  younger  younger individuals  \\\n",
       "0                    0        0                    0   \n",
       "1                    0        2                    1   \n",
       "2                    0        0                    0   \n",
       "3                    0        0                    0   \n",
       "4                    0        0                    0   \n",
       "5                    0        1                    0   \n",
       "6                    1        0                    0   \n",
       "7                    0        0                    0   \n",
       "8                    0        0                    0   \n",
       "9                    0        0                    0   \n",
       "10                   0        0                    0   \n",
       "11                   0        0                    0   \n",
       "12                   0        0                    0   \n",
       "\n",
       "    younger individuals study  younger older  younger older healthy  \\\n",
       "0                           0              0                      0   \n",
       "1                           1              1                      1   \n",
       "2                           0              0                      0   \n",
       "3                           0              0                      0   \n",
       "4                           0              0                      0   \n",
       "5                           0              0                      0   \n",
       "6                           0              0                      0   \n",
       "7                           0              0                      0   \n",
       "8                           0              0                      0   \n",
       "9                           0              0                      0   \n",
       "10                          0              0                      0   \n",
       "11                          0              0                      0   \n",
       "12                          0              0                      0   \n",
       "\n",
       "    younger patients  younger patients pain  \n",
       "0                  0                      0  \n",
       "1                  0                      0  \n",
       "2                  0                      0  \n",
       "3                  0                      0  \n",
       "4                  0                      0  \n",
       "5                  1                      1  \n",
       "6                  0                      0  \n",
       "7                  0                      0  \n",
       "8                  0                      0  \n",
       "9                  0                      0  \n",
       "10                 0                      0  \n",
       "11                 0                      0  \n",
       "12                 0                      0  \n",
       "\n",
       "[13 rows x 4089 columns]"
      ]
     },
     "execution_count": 124,
     "metadata": {},
     "output_type": "execute_result"
    }
   ],
   "source": [
    "ca_tdm = pd.DataFrame(cvec.fit_transform(papers.cleaned_abstract).toarray(),columns=cvec.get_feature_names())\n",
    "ca_tdm"
   ]
  },
  {
   "cell_type": "code",
   "execution_count": 125,
   "metadata": {
    "collapsed": false,
    "scrolled": false
   },
   "outputs": [
    {
     "data": {
      "text/plain": [
       "0            pain\n",
       "1              il\n",
       "2           suppr\n",
       "3            pain\n",
       "4            pain\n",
       "5            pain\n",
       "6            pain\n",
       "7       hospitals\n",
       "8            pain\n",
       "9            pain\n",
       "10           pain\n",
       "11    classifiers\n",
       "12          nerve\n",
       "dtype: object"
      ]
     },
     "execution_count": 125,
     "metadata": {},
     "output_type": "execute_result"
    }
   ],
   "source": [
    "#Identify the most common terms for each document via CountVectorizer\n",
    "ca_tdm.idxmax(axis=1) #change to axis=0 will change the document wigh highest countb of each word"
   ]
  },
  {
   "cell_type": "markdown",
   "metadata": {},
   "source": [
    "## Plot the most common terms in the cleaned abstract"
   ]
  },
  {
   "cell_type": "code",
   "execution_count": 126,
   "metadata": {
    "collapsed": false,
    "scrolled": true
   },
   "outputs": [
    {
     "name": "stdout",
     "output_type": "stream",
     "text": [
      "Here is a list of the most common terms across all documents:  \n",
      " pain                           91\n",
      "scores                         28\n",
      "surgery                        25\n",
      "patients                       23\n",
      "pain scores                    21\n",
      "suppr                          20\n",
      "acute                          19\n",
      "postoperative                  18\n",
      "acute pain                     17\n",
      "using                          15\n",
      "time                           15\n",
      "surgical                       14\n",
      "postoperative pain             13\n",
      "study                          13\n",
      "ci                             12\n",
      "apm                            12\n",
      "data                           11\n",
      "clinical                       10\n",
      "nerve                          10\n",
      "block                           9\n",
      "machine                         9\n",
      "classifiers                     9\n",
      "median                          9\n",
      "hour                            9\n",
      "nerve block                     9\n",
      "pain score                      8\n",
      "well                            8\n",
      "machine learning                8\n",
      "related                         8\n",
      "score                           8\n",
      "                               ..\n",
      "placement ambulatory            1\n",
      "pod differed                    1\n",
      "points numerical rating         1\n",
      "pod differed sex                1\n",
      "points numerical                1\n",
      "points lower reported           1\n",
      "points lower                    1\n",
      "points included differences     1\n",
      "points included                 1\n",
      "points groups greater           1\n",
      "points groups                   1\n",
      "pods total pain                 1\n",
      "pods total                      1\n",
      "pods significantly lower        1\n",
      "pods significantly              1\n",
      "pods ranged correlation         1\n",
      "pods ranged                     1\n",
      "pods obtained integrated        1\n",
      "pods obtained                   1\n",
      "pods median pain                1\n",
      "pods median                     1\n",
      "pods design study               1\n",
      "pods design                     1\n",
      "pod variety surgical            1\n",
      "pod variety                     1\n",
      "pod machine learning            1\n",
      "pod machine                     1\n",
      "pod estimates odds              1\n",
      "pod estimates                   1\n",
      "multidisciplinary panel         1\n",
      "dtype: int64\n"
     ]
    },
    {
     "data": {
      "text/plain": [
       "<matplotlib.axes._subplots.AxesSubplot at 0x12a3a9ac8>"
      ]
     },
     "execution_count": 126,
     "metadata": {},
     "output_type": "execute_result"
    },
    {
     "data": {
      "image/png": "[encoded data removed]",
      "text/plain": [
       "<matplotlib.figure.Figure at 0x12a3a9b00>"
      ]
     },
     "metadata": {},
     "output_type": "display_data"
    }
   ],
   "source": [
    "#Identify and visualize the most common terms across all documents\n",
    "s=ca_tdm.sum().sort_values(ascending=False)\n",
    "print('Here is a list of the most common terms across all documents: ','\\n',s)\n",
    "s.plot(kind='bar')"
   ]
  },
  {
   "cell_type": "code",
   "execution_count": 127,
   "metadata": {
    "collapsed": false
   },
   "outputs": [
    {
     "data": {
      "text/plain": [
       "<matplotlib.axes._subplots.AxesSubplot at 0x128a38b38>"
      ]
     },
     "execution_count": 127,
     "metadata": {},
     "output_type": "execute_result"
    },
    {
     "data": {
      "image/png": "[encoded data removed]",
      "text/plain": [
       "<matplotlib.figure.Figure at 0x12a50dc88>"
      ]
     },
     "metadata": {},
     "output_type": "display_data"
    }
   ],
   "source": [
    "s.plot(kind='hist', bins=100)"
   ]
  },
  {
   "cell_type": "code",
   "execution_count": 129,
   "metadata": {
    "collapsed": false
   },
   "outputs": [
    {
     "data": {
      "text/plain": [
       "<matplotlib.axes._subplots.AxesSubplot at 0x13596d6d8>"
      ]
     },
     "execution_count": 129,
     "metadata": {},
     "output_type": "execute_result"
    },
    {
     "data": {
      "image/png": "[encoded data removed]",
      "text/plain": [
       "<matplotlib.figure.Figure at 0x12e1441d0>"
      ]
     },
     "metadata": {},
     "output_type": "display_data"
    }
   ],
   "source": [
    "s[0:20].plot(kind='bar', color='r')"
   ]
  },
  {
   "cell_type": "markdown",
   "metadata": {},
   "source": [
    "### Create TF-IDF for Abstracts"
   ]
  },
  {
   "cell_type": "code",
   "execution_count": 169,
   "metadata": {
    "collapsed": false
   },
   "outputs": [],
   "source": [
    "tvec = TfidfVectorizer(analyzer='word',\n",
    "#                         max_df = 1, min_df=1,\n",
    "                        max_features=100000,\n",
    "#                       stopwords='none',\n",
    "                        use_idf=True,\n",
    "                        ngram_range=(1,3))"
   ]
  },
  {
   "cell_type": "code",
   "execution_count": 170,
   "metadata": {
    "collapsed": false
   },
   "outputs": [
    {
     "name": "stdout",
     "output_type": "stream",
     "text": [
      "CPU times: user 12.3 ms, sys: 926 µs, total: 13.3 ms\n",
      "Wall time: 12.8 ms\n",
      "Shape of Cleaned Abstract TF-IDF Matrix:  (13, 4089)\n"
     ]
    }
   ],
   "source": [
    "%time ca_tfidfm = tvec.fit_transform(papers['cleaned_abstract'])\n",
    "print ('Shape of Cleaned Abstract TF-IDF Matrix: ',ca_tfidfm.shape)"
   ]
  },
  {
   "cell_type": "code",
   "execution_count": 171,
   "metadata": {
    "collapsed": false,
    "scrolled": false
   },
   "outputs": [
    {
     "data": {
      "text/plain": [
       "['ability',\n",
       " 'ability forecast',\n",
       " 'ability forecast moderate',\n",
       " 'ability inability',\n",
       " 'ability inability classify',\n",
       " 'ability process',\n",
       " 'ability process highly',\n",
       " 'absolute',\n",
       " 'absolute shrinkage']"
      ]
     },
     "execution_count": 171,
     "metadata": {},
     "output_type": "execute_result"
    }
   ],
   "source": [
    "terms = tvec.get_feature_names()\n",
    "terms[0:9]"
   ]
  },
  {
   "cell_type": "code",
   "execution_count": 172,
   "metadata": {
    "collapsed": false,
    "scrolled": true
   },
   "outputs": [
    {
     "name": "stdout",
     "output_type": "stream",
     "text": [
      "Axes(0.125,0.125;0.62x0.775)\n",
      "[[ 1.          0.0265297   0.02298372  0.02423025  0.01912895  0.03403391\n",
      "   0.0328558   0.03008152  0.14475193  0.02869678  0.13623416  0.01349563\n",
      "   0.01518547]\n",
      " [ 0.0265297   1.          0.01904787  0.01700696  0.03268991  0.03353664\n",
      "   0.03203415  0.01470781  0.02490685  0.0309471   0.03134195  0.00860257\n",
      "   0.0040372 ]\n",
      " [ 0.02298372  0.01904787  1.          0.03579251  0.03000482  0.10244059\n",
      "   0.06875525  0.02700226  0.02435316  0.07698471  0.01865076  0.01618202\n",
      "   0.02720812]\n",
      " [ 0.02423025  0.01700696  0.03579251  1.          0.0235547   0.06001014\n",
      "   0.08962613  0.02289133  0.0228021   0.02912173  0.01884779  0.10411003\n",
      "   0.00790088]\n",
      " [ 0.01912895  0.03268991  0.03000482  0.0235547   1.          0.02907373\n",
      "   0.03562351  0.03967194  0.02961325  0.04027147  0.04239958  0.00610489\n",
      "   0.00899187]\n",
      " [ 0.03403391  0.03353664  0.10244059  0.06001014  0.02907373  1.\n",
      "   0.14108849  0.02885941  0.0280134   0.10622748  0.02677072  0.03223292\n",
      "   0.07426625]\n",
      " [ 0.0328558   0.03203415  0.06875525  0.08962613  0.03562351  0.14108849\n",
      "   1.          0.04684868  0.03543355  0.16699343  0.02751789  0.02451896\n",
      "   0.0497293 ]\n",
      " [ 0.03008152  0.01470781  0.02700226  0.02289133  0.03967194  0.02885941\n",
      "   0.04684868  1.          0.03686414  0.05280905  0.0157524   0.00669913\n",
      "   0.03221461]\n",
      " [ 0.14475193  0.02490685  0.02435316  0.0228021   0.02961325  0.0280134\n",
      "   0.03543355  0.03686414  1.          0.04147649  0.18609743  0.01091217\n",
      "   0.00401302]\n",
      " [ 0.02869678  0.0309471   0.07698471  0.02912173  0.04027147  0.10622748\n",
      "   0.16699343  0.05280905  0.04147649  1.          0.02758666  0.0230735\n",
      "   0.02884765]\n",
      " [ 0.13623416  0.03134195  0.01865076  0.01884779  0.04239958  0.02677072\n",
      "   0.02751789  0.0157524   0.18609743  0.02758666  1.          0.01853196\n",
      "   0.00482773]\n",
      " [ 0.01349563  0.00860257  0.01618202  0.10411003  0.00610489  0.03223292\n",
      "   0.02451896  0.00669913  0.01091217  0.0230735   0.01853196  1.\n",
      "   0.02171827]\n",
      " [ 0.01518547  0.0040372   0.02720812  0.00790088  0.00899187  0.07426625\n",
      "   0.0497293   0.03221461  0.00401302  0.02884765  0.00482773  0.02171827\n",
      "   1.        ]]\n"
     ]
    },
    {
     "data": {
      "image/png": "[encoded data removed]",
      "text/plain": [
       "<matplotlib.figure.Figure at 0x1382e1e48>"
      ]
     },
     "metadata": {},
     "output_type": "display_data"
    }
   ],
   "source": [
    "ca_tfidf_cos = cosine_similarity(ca_tfidfm)\n",
    "print (sns.heatmap(ca_tfidf_cos))\n",
    "print (ca_tfidf_cos)"
   ]
  },
  {
   "cell_type": "code",
   "execution_count": null,
   "metadata": {
    "collapsed": true
   },
   "outputs": [],
   "source": []
  },
  {
   "cell_type": "code",
   "execution_count": null,
   "metadata": {
    "collapsed": true
   },
   "outputs": [],
   "source": []
  },
  {
   "cell_type": "code",
   "execution_count": null,
   "metadata": {
    "collapsed": true
   },
   "outputs": [],
   "source": []
  },
  {
   "cell_type": "markdown",
   "metadata": {},
   "source": [
    "### Future Planned projects:\n",
    "\n",
    "1. Document clustering for Abstracts\n",
    "2. Visualize document clusters for abstracts\n",
    "3. LDA to identify topic models via GenSim\n",
    "4. word2vec for pain related terms\n",
    "\n",
    "999. Then do all this for the titles\n",
    "\n",
    "\n",
    "Can start to use this template: http://brandonrose.org/clustering\n"
   ]
  },
  {
   "cell_type": "code",
   "execution_count": null,
   "metadata": {
    "collapsed": true
   },
   "outputs": [],
   "source": []
  }
 ],
 "metadata": {
  "kernelspec": {
   "display_name": "Python 3",
   "language": "python",
   "name": "python3"
  },
  "language_info": {
   "codemirror_mode": {
    "name": "ipython",
    "version": 3
   },
   "file_extension": ".py",
   "mimetype": "text/x-python",
   "name": "python",
   "nbconvert_exporter": "python",
   "pygments_lexer": "ipython3",
   "version": "3.5.1"
  }
 },
 "nbformat": 4,
 "nbformat_minor": 0
}
