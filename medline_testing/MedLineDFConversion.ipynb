{
 "cells": [
  {
   "cell_type": "code",
   "execution_count": 1,
   "metadata": {
    "collapsed": true
   },
   "outputs": [],
   "source": [
    "#adapted from http://mlbernauer.com/R/20160131-document-retrieval-sklearn.html"
   ]
  },
  {
   "cell_type": "code",
   "execution_count": 10,
   "metadata": {
    "collapsed": false
   },
   "outputs": [],
   "source": [
    "import os\n",
    "import pandas as pd\n",
    "import sklearn\n",
    "import numpy as np\n",
    "import nltk\n",
    "import nltk.data\n",
    "\n",
    "import re\n",
    "import time\n",
    "import codecs\n",
    "from Bio import Medline\n",
    "\n",
    "import gensim\n",
    "from gensim import corpora, models, similarities\n",
    "from collections import defaultdict"
   ]
  },
  {
   "cell_type": "code",
   "execution_count": 11,
   "metadata": {
    "collapsed": false
   },
   "outputs": [
    {
     "data": {
      "text/plain": [
       "'/Users/ptighe/Documents/Python Projects/AcutePainOntology/medline_testing'"
      ]
     },
     "execution_count": 11,
     "metadata": {},
     "output_type": "execute_result"
    }
   ],
   "source": [
    "os.getcwd()"
   ]
  },
  {
   "cell_type": "code",
   "execution_count": 12,
   "metadata": {
    "collapsed": true
   },
   "outputs": [],
   "source": [
    "path='pubmed_result_medline.txt'"
   ]
  },
  {
   "cell_type": "code",
   "execution_count": 13,
   "metadata": {
    "collapsed": true
   },
   "outputs": [],
   "source": [
    "#Taken directly from reference:"
   ]
  },
  {
   "cell_type": "code",
   "execution_count": 14,
   "metadata": {
    "collapsed": true
   },
   "outputs": [],
   "source": [
    "#Dictionary of medline terms: https://www.nlm.nih.gov/bsd/mms/medlineelements.html\n",
    "def read_medline_data(filename):\n",
    "    recs = Medline.parse(open(filename, 'r'))\n",
    "    text = pd.DataFrame(columns = [\"pmid\", \"articletitle\", \"journaltitle\", \"authors\", \"affiliation\", \"grant\",\n",
    "                                   \"abstract\", \"pubdate\"])\n",
    "    count = 0\n",
    "    for rec in recs:\n",
    "        try:\n",
    "            abstr = rec[\"AB\"]\n",
    "            atitle = rec[\"TI\"]\n",
    "            auths = rec[\"AU\"]\n",
    "            pubdate = rec[\"DP\"]\n",
    "            jtitle = rec[\"JT\"]\n",
    "            grant=rec[\"GR\"]\n",
    "            pmid = rec['PMID']\n",
    "            affil = rec['AD']\n",
    "            text = text.append(pd.DataFrame([[pmid,atitle, jtitle, auths, affil,grant, abstr,pubdate]],\n",
    "                                     columns=[\"pmid\", \"articletitle\", \"journaltitle\", \"authors\", \"affiliation\", \n",
    "                                              \"grant\", \"abstract\", \"pubdate\"]),ignore_index=True)            \n",
    "        except:\n",
    "            pass\n",
    "    return text"
   ]
  },
  {
   "cell_type": "code",
   "execution_count": 222,
   "metadata": {
    "collapsed": true
   },
   "outputs": [],
   "source": [
    "# Read in MEDLINE formatted text\n",
    "papers = read_medline_data(path)"
   ]
  },
  {
   "cell_type": "code",
   "execution_count": 223,
   "metadata": {
    "collapsed": false,
    "scrolled": false
   },
   "outputs": [
    {
     "data": {
      "text/plain": [
       "'BACKGROUND: Consensus indicates that a comprehensive,multimodal, holistic approach is foundational to the practice of acute pain medicine (APM),but lack of uniform, evidence-based clinical pathways leads to undesirable variability throughout U. S. healthcare systems. Acute pain studies are inconsistently synthesized to guide educational programs. Advanced practice techniques involving regional anesthesia assume the presence of a physician-led, multidisciplinary acute pain service,which is often unavailable or inconsistently applied.This heterogeneity of educational and organizational standards may result in unnecessary patient pain and escalation of healthcare costs. METHODS: A multidisciplinary panel was nominated through the APM Shared Interest Group of the American Academy of Pain Medicine. The panel met in Chicago, IL, in July 2014, to identify gaps and set priorities in APM research and education. RESULTS: The panel identified three areas of critical need: 1) an open-source acute pain data registry and clinical support tool to inform clinical decision making and resource allocation and to enhance research efforts; 2) a strong professional APM identity as an accredited subspecialty; and 3) educational goals targeted toward third-party payers,hospital administrators, and other key stake holders to convey the importance of APM. CONCLUSION: This report is the first step in a 3-year initiative aimed at creating conditions and incentives for the optimal provision of APM services to facilitate and enhance the quality of patient recovery after surgery, illness, or trauma. The ultimate goal is to reduce the conversion of acute pain to the debilitating disease of chronic pain.'"
      ]
     },
     "execution_count": 223,
     "metadata": {},
     "output_type": "execute_result"
    }
   ],
   "source": [
    "papers.loc[0,'abstract']"
   ]
  },
  {
   "cell_type": "code",
   "execution_count": 224,
   "metadata": {
    "collapsed": false
   },
   "outputs": [],
   "source": [
    "#Now some items for cleaning the abstract text\n",
    "from nltk.corpus import stopwords\n",
    "stoplist = stopwords.words('english')\n",
    "subheadings =[u\"OBJECTIVES\", u\"OBJECTIVE\", u\"AIMS\", \n",
    "              u\"METHODS AND RESULTS\", u\"CONCLUSIONS\", u\"RESULTS\", u\"METHODS\", u\"INTRODUCTION\", u\"BACKGROUND\"]\n",
    "stoplist.extend(['\\x0c', '\\n'])\n",
    "stoplist.extend(subheadings)"
   ]
  },
  {
   "cell_type": "code",
   "execution_count": 225,
   "metadata": {
    "collapsed": true
   },
   "outputs": [],
   "source": [
    "papers['split_abstract'] = papers['abstract'].str.split()"
   ]
  },
  {
   "cell_type": "code",
   "execution_count": 226,
   "metadata": {
    "collapsed": false
   },
   "outputs": [
    {
     "data": {
      "text/plain": [
       "0     [BACKGROUND:, Consensus, indicates, that, a, c...\n",
       "1     [Older, adults, are, at, an, increased, risk, ...\n",
       "2     [OBJECTIVES:, Prior, work, on, postoperative, ...\n",
       "3     [BACKGROUND:, Given, their, ability, to, proce...\n",
       "4     [BACKGROUND:, Despite, the, widespread, popula...\n",
       "5     [The, objective, of, this, study, was, to, det...\n",
       "6     [OBJECTIVE/BACKGROUND:, Prior, work, has, not,...\n",
       "7     [Although, prior, work, has, investigated, the...\n",
       "8     [The, American, Academy, of, Pain, Medicine, a...\n",
       "9     [OBJECTIVE:, The, goal, of, this, project, was...\n",
       "10    [BACKGROUND:, In, recent, years,, the, field, ...\n",
       "11    [OBJECTIVE:, The, purpose, of, this, project, ...\n",
       "12    [INTRODUCTION:, Although, more, than, 30, mill...\n",
       "Name: split_abstract, dtype: object"
      ]
     },
     "execution_count": 226,
     "metadata": {},
     "output_type": "execute_result"
    }
   ],
   "source": [
    "papers['split_abstract']"
   ]
  },
  {
   "cell_type": "code",
   "execution_count": 229,
   "metadata": {
    "collapsed": false
   },
   "outputs": [],
   "source": [
    "papers['ca'] = papers['split_abstract'].apply(lambda x: [item for item in x if item not in stoplist])"
   ]
  },
  {
   "cell_type": "code",
   "execution_count": 230,
   "metadata": {
    "collapsed": false
   },
   "outputs": [
    {
     "data": {
      "text/plain": [
       "0     [BACKGROUND:, Consensus, indicates, comprehens...\n",
       "1     [Older, adults, increased, risk, develop, freq...\n",
       "2     [OBJECTIVES:, Prior, work, postoperative, pain...\n",
       "3     [BACKGROUND:, Given, ability, process, highly,...\n",
       "4     [BACKGROUND:, Despite, widespread, popularity,...\n",
       "5     [The, objective, study, determine, effects, ag...\n",
       "6     [OBJECTIVE/BACKGROUND:, Prior, work, addressed...\n",
       "7     [Although, prior, work, investigated, interpla...\n",
       "8     [The, American, Academy, Pain, Medicine, Ameri...\n",
       "9     [OBJECTIVE:, The, goal, project, explore, asso...\n",
       "10    [BACKGROUND:, In, recent, years,, field, acute...\n",
       "11    [OBJECTIVE:, The, purpose, project, determine,...\n",
       "12    [INTRODUCTION:, Although, 30, million, patient...\n",
       "Name: ca, dtype: object"
      ]
     },
     "execution_count": 230,
     "metadata": {},
     "output_type": "execute_result"
    }
   ],
   "source": [
    "papers['ca']"
   ]
  },
  {
   "cell_type": "code",
   "execution_count": null,
   "metadata": {
    "collapsed": true
   },
   "outputs": [],
   "source": [
    "def cleanup:(text, stopwordlist):\n",
    "        words = text.split()\n",
    "        mw = [w for w in words if not w in stopwordlist] #remove unwanted words"
   ]
  },
  {
   "cell_type": "code",
   "execution_count": 209,
   "metadata": {
    "collapsed": false
   },
   "outputs": [],
   "source": [
    "for word in stoplist: papers['cleaned_abstract']= papers['abstract'].str.replace(word,'')\n",
    "# for word in stoplist: papers['cleaned_articletitle']= papers['articletitle'].str.replace(word,'')\n",
    "   "
   ]
  },
  {
   "cell_type": "code",
   "execution_count": 210,
   "metadata": {
    "collapsed": false
   },
   "outputs": [
    {
     "data": {
      "text/plain": [
       "0     : Consensus indicates that a comprehensive,mul...\n",
       "1     Older adults are at an increased risk to devel...\n",
       "2     OBJECTIVES: Prior work on postoperative pain t...\n",
       "3     : Given their ability to process highly dimens...\n",
       "4     : Despite the widespread popularity of social ...\n",
       "5     The objective of this study was to determine t...\n",
       "6     OBJECTIVE/: Prior work has not addressed sex d...\n",
       "7     Although prior work has investigated the inter...\n",
       "8     The American Academy of Pain Medicine and the ...\n",
       "9     OBJECTIVE: The goal of this project was to exp...\n",
       "10    : In recent years, the field of acute pain med...\n",
       "11    OBJECTIVE: The purpose of this project was to ...\n",
       "12    INTRODUCTION: Although more than 30 million pa...\n",
       "Name: cleaned_abstract, dtype: object"
      ]
     },
     "execution_count": 210,
     "metadata": {},
     "output_type": "execute_result"
    }
   ],
   "source": [
    "papers['cleaned_abstract']"
   ]
  },
  {
   "cell_type": "code",
   "execution_count": 185,
   "metadata": {
    "collapsed": false
   },
   "outputs": [],
   "source": [
    "RE_PUNCTUATION = '|'.join([re.escape(x) for x in string.punctuation]) \n",
    "papers['cleaned_abstract'] = papers['cleaned_abstract'].str.replace(RE_PUNCTUATION,\" \").str.lower()\n",
    "papers['cleaned_abstract'] = papers['cleaned_abstract'].str.replace(\"\\s+\",\" \").str.strip()\n",
    "papers['cleaned_articletitle'] = papers['cleaned_articletitle'].str.replace(RE_PUNCTUATION,\" \").str.lower()"
   ]
  },
  {
   "cell_type": "code",
   "execution_count": 190,
   "metadata": {
    "collapsed": false
   },
   "outputs": [
    {
     "data": {
      "text/plain": [
       "0     [BACKGROUND:, Consensus, indicates, that, a, c...\n",
       "1     [Older, adults, are, at, an, increased, risk, ...\n",
       "2     [OBJECTIVES:, Prior, work, on, postoperative, ...\n",
       "3     [BACKGROUND:, Given, their, ability, to, proce...\n",
       "4     [BACKGROUND:, Despite, the, widespread, popula...\n",
       "5     [The, objective, of, this, study, was, to, det...\n",
       "6     [OBJECTIVE/BACKGROUND:, Prior, work, has, not,...\n",
       "7     [Although, prior, work, has, investigated, the...\n",
       "8     [The, American, Academy, of, Pain, Medicine, a...\n",
       "9     [OBJECTIVE:, The, goal, of, this, project, was...\n",
       "10    [BACKGROUND:, In, recent, years,, the, field, ...\n",
       "11    [OBJECTIVE:, The, purpose, of, this, project, ...\n",
       "12    [INTRODUCTION:, Although, more, than, 30, mill...\n",
       "Name: cleaned_abstract, dtype: object"
      ]
     },
     "execution_count": 190,
     "metadata": {},
     "output_type": "execute_result"
    }
   ],
   "source": [
    "# papers.head(1)\n",
    "papers['cleaned_abstract']"
   ]
  },
  {
   "cell_type": "code",
   "execution_count": null,
   "metadata": {
    "collapsed": true
   },
   "outputs": [],
   "source": [
    "def pull_sentences(filename):\n",
    "    \"\"\"\n",
    "        Breaks abstract into sentences\n",
    "        \"\"\"\n",
    "\n",
    "    print \"\\nTokenizing abstract\\n\\n\"\n",
    "    tokenizer = nltk.data.load('tokenizers/punkt/english.pickle')\n",
    "    fp = open(filename)\n",
    "    data = fp.read()\n",
    "    return tokenizer.tokenize(data.decode('utf-8'))\n"
   ]
  },
  {
   "cell_type": "code",
   "execution_count": null,
   "metadata": {
    "collapsed": true
   },
   "outputs": [],
   "source": [
    "def create_word2vec_sentence(sentence_list, stoplist):\n",
    "    print \"\\nCreating word2vec sentences\\n\\n\"\n",
    "    retList = list()\n",
    "    toolbar_width = len(sentence_list)\n",
    "    for i, sentence in enumerate(sentence_list):\n",
    "\n",
    "        p = str((float(i+1)/toolbar_width)*100)[:4]\n",
    "        sys.stdout.write(\"\\r%s%%\" %p)\n",
    "        sys.stdout.flush()\n",
    "\n",
    "        sentLst = [x.strip(\",\").rstrip(\".\").strip(\":\").lower() for x in sentence.split(\" \") if x.strip(\",\").strip(\".\").strip(\":\").lower() not in stoplist]\n",
    "        retList.append(sentLst)\n",
    "    return retList"
   ]
  }
 ],
 "metadata": {
  "kernelspec": {
   "display_name": "Python 3",
   "language": "python",
   "name": "python3"
  },
  "language_info": {
   "codemirror_mode": {
    "name": "ipython",
    "version": 3
   },
   "file_extension": ".py",
   "mimetype": "text/x-python",
   "name": "python",
   "nbconvert_exporter": "python",
   "pygments_lexer": "ipython3",
   "version": "3.5.1"
  }
 },
 "nbformat": 4,
 "nbformat_minor": 0
}
